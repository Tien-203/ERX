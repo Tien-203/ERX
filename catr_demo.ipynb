{
  "nbformat": 4,
  "nbformat_minor": 0,
  "metadata": {
    "colab": {
      "name": "catr-demo.ipynb",
      "provenance": [],
      "include_colab_link": true
    },
    "kernelspec": {
      "name": "python3",
      "display_name": "Python 3"
    },
    "accelerator": "GPU"
  },
  "cells": [
    {
      "cell_type": "markdown",
      "metadata": {
        "id": "view-in-github",
        "colab_type": "text"
      },
      "source": [
        "<a href=\"https://colab.research.google.com/github/intel-user/ERX/blob/main/catr_demo.ipynb\" target=\"_parent\"><img src=\"https://colab.research.google.com/assets/colab-badge.svg\" alt=\"Open In Colab\"/></a>"
      ]
    },
    {
      "cell_type": "markdown",
      "source": [
        "# vrd-dsr\n",
        "https://github.com/GriffinLiang/vrd-dsr"
      ],
      "metadata": {
        "id": "SoHgAvcUb2LP"
      }
    },
    {
      "cell_type": "code",
      "metadata": {
        "id": "N8xyiUNoWmL3",
        "colab": {
          "base_uri": "https://localhost:8080/"
        },
        "outputId": "8758f84a-2015-4a4b-8a30-997731ac7f39"
      },
      "source": [
        "! git clone https://github.com/GriffinLiang/vrd-dsr.git"
      ],
      "execution_count": null,
      "outputs": [
        {
          "output_type": "stream",
          "name": "stdout",
          "text": [
            "Cloning into 'vrd-dsr'...\n",
            "remote: Enumerating objects: 174, done.\u001b[K\n",
            "remote: Total 174 (delta 0), reused 0 (delta 0), pack-reused 174\u001b[K\n",
            "Receiving objects: 100% (174/174), 2.74 MiB | 26.24 MiB/s, done.\n",
            "Resolving deltas: 100% (70/70), done.\n"
          ]
        }
      ]
    },
    {
      "cell_type": "code",
      "metadata": {
        "id": "JMzOLu6Tjhqz"
      },
      "source": [
        "%cd /content/vrd-dsr\n",
        "! git submodule update --recursive "
      ],
      "execution_count": null,
      "outputs": []
    },
    {
      "cell_type": "code",
      "metadata": {
        "id": "ojT0Ln7GjayV",
        "colab": {
          "base_uri": "https://localhost:8080/"
        },
        "outputId": "d500b10d-e7b8-426e-a35e-7cad4a50b8d7"
      },
      "source": [
        "%cd /content/vrd-dsr/data\n",
        "! unzip vg.zip"
      ],
      "execution_count": null,
      "outputs": [
        {
          "output_type": "stream",
          "name": "stdout",
          "text": [
            "/content/vrd-dsr/data\n",
            "Archive:  vg.zip\n",
            "   creating: vg/\n",
            "  inflating: vg/gt.pkl               \n",
            "  inflating: vg/obj.txt              \n",
            "  inflating: vg/rel.txt              \n",
            "  inflating: vg/so_prior.pkl         \n",
            "  inflating: vg/test.pkl             \n",
            "  inflating: vg/train.pkl            \n",
            "  inflating: vg/zs_gt.pkl            \n"
          ]
        }
      ]
    },
    {
      "cell_type": "code",
      "source": [
        "! pip install torch==1.0.0 torchvision==0.2.1"
      ],
      "metadata": {
        "id": "wRMIOPefUjaj",
        "outputId": "128d2d5e-257b-45a0-fff2-c525741ec656",
        "colab": {
          "base_uri": "https://localhost:8080/"
        }
      },
      "execution_count": null,
      "outputs": [
        {
          "output_type": "stream",
          "name": "stdout",
          "text": [
            "Requirement already satisfied: torch==1.0.0 in /usr/local/lib/python3.7/dist-packages (1.0.0)\n",
            "Collecting torchvision==0.2.1\n",
            "  Downloading torchvision-0.2.1-py2.py3-none-any.whl (54 kB)\n",
            "\u001b[K     |████████████████████████████████| 54 kB 2.6 MB/s \n",
            "\u001b[?25hRequirement already satisfied: pillow>=4.1.1 in /usr/local/lib/python3.7/dist-packages (from torchvision==0.2.1) (7.1.2)\n",
            "Requirement already satisfied: numpy in /usr/local/lib/python3.7/dist-packages (from torchvision==0.2.1) (1.21.5)\n",
            "Requirement already satisfied: six in /usr/local/lib/python3.7/dist-packages (from torchvision==0.2.1) (1.15.0)\n",
            "Installing collected packages: torchvision\n",
            "  Attempting uninstall: torchvision\n",
            "    Found existing installation: torchvision 0.11.1+cu111\n",
            "    Uninstalling torchvision-0.11.1+cu111:\n",
            "      Successfully uninstalled torchvision-0.11.1+cu111\n",
            "Successfully installed torchvision-0.2.1\n"
          ]
        }
      ]
    },
    {
      "cell_type": "code",
      "metadata": {
        "id": "KesOqe40jdak",
        "colab": {
          "base_uri": "https://localhost:8080/"
        },
        "outputId": "ac4df839-e038-4d61-d5b9-3c05acd54c8f"
      },
      "source": [
        "%cd /content/vrd-dsr/lib\n",
        "!chmod o+x make.sh\n",
        "! ./make.sh"
      ],
      "execution_count": null,
      "outputs": [
        {
          "output_type": "stream",
          "name": "stdout",
          "text": [
            "/content/vrd-dsr/lib\n",
            "Compiling roi pooling kernels by nvcc...\n",
            "Traceback (most recent call last):\n",
            "  File \"build.py\", line 3, in <module>\n",
            "    from torch.utils.ffi import create_extension\n",
            "  File \"/usr/local/lib/python3.7/dist-packages/torch/utils/ffi/__init__.py\", line 1, in <module>\n",
            "    raise ImportError(\"torch.utils.ffi is deprecated. Please use cpp extensions instead.\")\n",
            "ImportError: torch.utils.ffi is deprecated. Please use cpp extensions instead.\n"
          ]
        }
      ]
    },
    {
      "cell_type": "code",
      "metadata": {
        "id": "x8YuZRMokBqT"
      },
      "source": [
        ""
      ],
      "execution_count": null,
      "outputs": []
    },
    {
      "cell_type": "markdown",
      "source": [
        "# pix2graph\n",
        "https://github.com/princeton-vl/px2graph"
      ],
      "metadata": {
        "id": "j9xlvFSgbxV_"
      }
    },
    {
      "cell_type": "code",
      "source": [
        "! git clone https://github.com/princeton-vl/px2graph.git"
      ],
      "metadata": {
        "id": "-0MSZJhOb1UO",
        "outputId": "dd8ed7df-bb07-4b2f-ad15-5aac9f1e9254",
        "colab": {
          "base_uri": "https://localhost:8080/"
        }
      },
      "execution_count": null,
      "outputs": [
        {
          "output_type": "stream",
          "name": "stdout",
          "text": [
            "Cloning into 'px2graph'...\n",
            "remote: Enumerating objects: 57, done.\u001b[K\n",
            "remote: Total 57 (delta 0), reused 0 (delta 0), pack-reused 57\u001b[K\n",
            "Unpacking objects: 100% (57/57), done.\n"
          ]
        }
      ]
    },
    {
      "cell_type": "code",
      "source": [
        "! git clone https://github.com/mbaradad/munkres-tensorflow.git"
      ],
      "metadata": {
        "id": "bAFCFrptc9Jd",
        "outputId": "014ce72b-dd1e-4173-d345-1e7c0e78fdf3",
        "colab": {
          "base_uri": "https://localhost:8080/"
        }
      },
      "execution_count": null,
      "outputs": [
        {
          "output_type": "stream",
          "name": "stdout",
          "text": [
            "Cloning into 'munkres-tensorflow'...\n",
            "remote: Enumerating objects: 76, done.\u001b[K\n",
            "Unpacking objects:   1% (1/76)   \rUnpacking objects:   2% (2/76)   \rUnpacking objects:   3% (3/76)   \rUnpacking objects:   5% (4/76)   \rUnpacking objects:   6% (5/76)   \rUnpacking objects:   7% (6/76)   \rUnpacking objects:   9% (7/76)   \rUnpacking objects:  10% (8/76)   \rUnpacking objects:  11% (9/76)   \rUnpacking objects:  13% (10/76)   \rUnpacking objects:  14% (11/76)   \rUnpacking objects:  15% (12/76)   \rUnpacking objects:  17% (13/76)   \rUnpacking objects:  18% (14/76)   \rUnpacking objects:  19% (15/76)   \rUnpacking objects:  21% (16/76)   \rUnpacking objects:  22% (17/76)   \rUnpacking objects:  23% (18/76)   \rUnpacking objects:  25% (19/76)   \rUnpacking objects:  26% (20/76)   \rUnpacking objects:  27% (21/76)   \rUnpacking objects:  28% (22/76)   \rUnpacking objects:  30% (23/76)   \rUnpacking objects:  31% (24/76)   \rUnpacking objects:  32% (25/76)   \rUnpacking objects:  34% (26/76)   \rUnpacking objects:  35% (27/76)   \rUnpacking objects:  36% (28/76)   \rUnpacking objects:  38% (29/76)   \rremote: Total 76 (delta 0), reused 0 (delta 0), pack-reused 76\u001b[K\n",
            "Unpacking objects:  39% (30/76)   \rUnpacking objects:  40% (31/76)   \rUnpacking objects:  42% (32/76)   \rUnpacking objects:  43% (33/76)   \rUnpacking objects:  44% (34/76)   \rUnpacking objects:  46% (35/76)   \rUnpacking objects:  47% (36/76)   \rUnpacking objects:  48% (37/76)   \rUnpacking objects:  50% (38/76)   \rUnpacking objects:  51% (39/76)   \rUnpacking objects:  52% (40/76)   \rUnpacking objects:  53% (41/76)   \rUnpacking objects:  55% (42/76)   \rUnpacking objects:  56% (43/76)   \rUnpacking objects:  57% (44/76)   \rUnpacking objects:  59% (45/76)   \rUnpacking objects:  60% (46/76)   \rUnpacking objects:  61% (47/76)   \rUnpacking objects:  63% (48/76)   \rUnpacking objects:  64% (49/76)   \rUnpacking objects:  65% (50/76)   \rUnpacking objects:  67% (51/76)   \rUnpacking objects:  68% (52/76)   \rUnpacking objects:  69% (53/76)   \rUnpacking objects:  71% (54/76)   \rUnpacking objects:  72% (55/76)   \rUnpacking objects:  73% (56/76)   \rUnpacking objects:  75% (57/76)   \rUnpacking objects:  76% (58/76)   \rUnpacking objects:  77% (59/76)   \rUnpacking objects:  78% (60/76)   \rUnpacking objects:  80% (61/76)   \rUnpacking objects:  81% (62/76)   \rUnpacking objects:  82% (63/76)   \rUnpacking objects:  84% (64/76)   \rUnpacking objects:  85% (65/76)   \rUnpacking objects:  86% (66/76)   \rUnpacking objects:  88% (67/76)   \rUnpacking objects:  89% (68/76)   \rUnpacking objects:  90% (69/76)   \rUnpacking objects:  92% (70/76)   \rUnpacking objects:  93% (71/76)   \rUnpacking objects:  94% (72/76)   \rUnpacking objects:  96% (73/76)   \rUnpacking objects:  97% (74/76)   \rUnpacking objects:  98% (75/76)   \rUnpacking objects: 100% (76/76)   \rUnpacking objects: 100% (76/76), done.\n"
          ]
        }
      ]
    },
    {
      "cell_type": "code",
      "source": [
        "%cd /content/px2graph/munkres-tensorflow\n",
        "! TF_INC=$(python -c 'import tensorflow as tf; print(tf.sysconfig.get_include())')\n",
        "! g++ -std=c++11 -shared hungarian.cc -o hungarian.so -fPIC -I TF_INC"
      ],
      "metadata": {
        "id": "tL7NxT1ZdS7F",
        "outputId": "e80ffea3-8cf7-48a5-8e9f-a10cccd73543",
        "colab": {
          "base_uri": "https://localhost:8080/"
        }
      },
      "execution_count": null,
      "outputs": [
        {
          "output_type": "stream",
          "name": "stdout",
          "text": [
            "/content/munkres-tensorflow\n",
            "\u001b[01m\u001b[Khungarian.cc:2:10:\u001b[m\u001b[K \u001b[01;31m\u001b[Kfatal error: \u001b[m\u001b[Ktensorflow/core/framework/op.h: No such file or directory\n",
            " #include \u001b[01;31m\u001b[K\"tensorflow/core/framework/op.h\"\u001b[m\u001b[K\n",
            "          \u001b[01;31m\u001b[K^~~~~~~~~~~~~~~~~~~~~~~~~~~~~~~~\u001b[m\u001b[K\n",
            "compilation terminated.\n"
          ]
        }
      ]
    },
    {
      "cell_type": "code",
      "source": [
        "! TF_LIB=$(python -c 'import tensorflow as tf; print(tf.sysconfig.get_lib())')"
      ],
      "metadata": {
        "id": "NGAl93ysdsnO"
      },
      "execution_count": null,
      "outputs": []
    },
    {
      "cell_type": "code",
      "source": [
        "! g++ -std=c++11 -shared hungarian.cc -o hungarian.so -fPIC -I$TF_INC -I$TF_INC/external/nsync/public -L$TF_LIB -ltensorflow_framework -O2 -D_GLIBCXX_USE_CXX11_ABI=0"
      ],
      "metadata": {
        "id": "QeInZbl2duzF",
        "outputId": "92d92083-d03e-40b9-e369-6112d8554068",
        "colab": {
          "base_uri": "https://localhost:8080/"
        }
      },
      "execution_count": null,
      "outputs": [
        {
          "output_type": "stream",
          "name": "stdout",
          "text": [
            "\u001b[01m\u001b[Khungarian.cc:2:10:\u001b[m\u001b[K \u001b[01;31m\u001b[Kfatal error: \u001b[m\u001b[Ktensorflow/core/framework/op.h: No such file or directory\n",
            " #include \u001b[01;31m\u001b[K\"tensorflow/core/framework/op.h\"\u001b[m\u001b[K\n",
            "          \u001b[01;31m\u001b[K^~~~~~~~~~~~~~~~~~~~~~~~~~~~~~~~\u001b[m\u001b[K\n",
            "compilation terminated.\n"
          ]
        }
      ]
    },
    {
      "cell_type": "code",
      "source": [
        "import tensorflow as tf\n",
        "hungarian_module = tf.load_op_library('./hungarian.so')\n",
        "with tf.Session(''):\n",
        "  print(hungarian_module.hungarian([[[1, 2], [3, 4]]]).eval())"
      ],
      "metadata": {
        "id": "GwLYAfITeTm2",
        "outputId": "806572bf-e111-45cc-dda2-dae521f66be9",
        "colab": {
          "base_uri": "https://localhost:8080/",
          "height": 339
        }
      },
      "execution_count": null,
      "outputs": [
        {
          "output_type": "error",
          "ename": "NotFoundError",
          "evalue": "ignored",
          "traceback": [
            "\u001b[0;31m---------------------------------------------------------------------------\u001b[0m",
            "\u001b[0;31mNotFoundError\u001b[0m                             Traceback (most recent call last)",
            "\u001b[0;32m<ipython-input-28-a0e3f5e17acd>\u001b[0m in \u001b[0;36m<module>\u001b[0;34m()\u001b[0m\n\u001b[1;32m      1\u001b[0m \u001b[0;32mimport\u001b[0m \u001b[0mtensorflow\u001b[0m \u001b[0;32mas\u001b[0m \u001b[0mtf\u001b[0m\u001b[0;34m\u001b[0m\u001b[0;34m\u001b[0m\u001b[0m\n\u001b[0;32m----> 2\u001b[0;31m \u001b[0mhungarian_module\u001b[0m \u001b[0;34m=\u001b[0m \u001b[0mtf\u001b[0m\u001b[0;34m.\u001b[0m\u001b[0mload_op_library\u001b[0m\u001b[0;34m(\u001b[0m\u001b[0;34m'./hungarian.so'\u001b[0m\u001b[0;34m)\u001b[0m\u001b[0;34m\u001b[0m\u001b[0;34m\u001b[0m\u001b[0m\n\u001b[0m\u001b[1;32m      3\u001b[0m \u001b[0;32mwith\u001b[0m \u001b[0mtf\u001b[0m\u001b[0;34m.\u001b[0m\u001b[0mSession\u001b[0m\u001b[0;34m(\u001b[0m\u001b[0;34m''\u001b[0m\u001b[0;34m)\u001b[0m\u001b[0;34m:\u001b[0m\u001b[0;34m\u001b[0m\u001b[0;34m\u001b[0m\u001b[0m\n\u001b[1;32m      4\u001b[0m   \u001b[0mprint\u001b[0m\u001b[0;34m(\u001b[0m\u001b[0mhungarian_module\u001b[0m\u001b[0;34m.\u001b[0m\u001b[0mhungarian\u001b[0m\u001b[0;34m(\u001b[0m\u001b[0;34m[\u001b[0m\u001b[0;34m[\u001b[0m\u001b[0;34m[\u001b[0m\u001b[0;36m1\u001b[0m\u001b[0;34m,\u001b[0m \u001b[0;36m2\u001b[0m\u001b[0;34m]\u001b[0m\u001b[0;34m,\u001b[0m \u001b[0;34m[\u001b[0m\u001b[0;36m3\u001b[0m\u001b[0;34m,\u001b[0m \u001b[0;36m4\u001b[0m\u001b[0;34m]\u001b[0m\u001b[0;34m]\u001b[0m\u001b[0;34m]\u001b[0m\u001b[0;34m)\u001b[0m\u001b[0;34m.\u001b[0m\u001b[0meval\u001b[0m\u001b[0;34m(\u001b[0m\u001b[0;34m)\u001b[0m\u001b[0;34m)\u001b[0m\u001b[0;34m\u001b[0m\u001b[0;34m\u001b[0m\u001b[0m\n",
            "\u001b[0;32m/usr/local/lib/python3.7/dist-packages/tensorflow/python/framework/load_library.py\u001b[0m in \u001b[0;36mload_op_library\u001b[0;34m(library_filename)\u001b[0m\n\u001b[1;32m     52\u001b[0m     \u001b[0mRuntimeError\u001b[0m\u001b[0;34m:\u001b[0m \u001b[0mwhen\u001b[0m \u001b[0munable\u001b[0m \u001b[0mto\u001b[0m \u001b[0mload\u001b[0m \u001b[0mthe\u001b[0m \u001b[0mlibrary\u001b[0m \u001b[0;32mor\u001b[0m \u001b[0mget\u001b[0m \u001b[0mthe\u001b[0m \u001b[0mpython\u001b[0m \u001b[0mwrappers\u001b[0m\u001b[0;34m.\u001b[0m\u001b[0;34m\u001b[0m\u001b[0;34m\u001b[0m\u001b[0m\n\u001b[1;32m     53\u001b[0m   \"\"\"\n\u001b[0;32m---> 54\u001b[0;31m   \u001b[0mlib_handle\u001b[0m \u001b[0;34m=\u001b[0m \u001b[0mpy_tf\u001b[0m\u001b[0;34m.\u001b[0m\u001b[0mTF_LoadLibrary\u001b[0m\u001b[0;34m(\u001b[0m\u001b[0mlibrary_filename\u001b[0m\u001b[0;34m)\u001b[0m\u001b[0;34m\u001b[0m\u001b[0;34m\u001b[0m\u001b[0m\n\u001b[0m\u001b[1;32m     55\u001b[0m   \u001b[0;32mtry\u001b[0m\u001b[0;34m:\u001b[0m\u001b[0;34m\u001b[0m\u001b[0;34m\u001b[0m\u001b[0m\n\u001b[1;32m     56\u001b[0m     wrappers = _pywrap_python_op_gen.GetPythonWrappers(\n",
            "\u001b[0;31mNotFoundError\u001b[0m: ./hungarian.so: cannot open shared object file: No such file or directory"
          ]
        }
      ]
    },
    {
      "cell_type": "code",
      "source": [
        "%cd /content/px2graph\n",
        "! python main.py -e [experiment name] --sg_task [PR|CL|SG]"
      ],
      "metadata": {
        "id": "_AN1dA5TlGor",
        "outputId": "3a957c41-dc32-4c06-feff-5a7d265de9d6",
        "colab": {
          "base_uri": "https://localhost:8080/"
        }
      },
      "execution_count": null,
      "outputs": [
        {
          "output_type": "stream",
          "name": "stdout",
          "text": [
            "Name: tensorflow\n",
            "Version: 2.8.0\n",
            "Summary: TensorFlow is an open source machine learning framework for everyone.\n",
            "Home-page: https://www.tensorflow.org/\n",
            "Author: Google Inc.\n",
            "Author-email: packages@tensorflow.org\n",
            "License: Apache 2.0\n",
            "Location: /usr/local/lib/python3.7/dist-packages\n",
            "Requires: gast, google-pasta, flatbuffers, tensorflow-io-gcs-filesystem, six, numpy, opt-einsum, libclang, keras, absl-py, setuptools, tensorboard, keras-preprocessing, protobuf, astunparse, typing-extensions, termcolor, grpcio, h5py, wrapt, tf-estimator-nightly\n",
            "Required-by: kapre\n"
          ]
        }
      ]
    },
    {
      "cell_type": "markdown",
      "source": [
        "# Scene graph benchmark"
      ],
      "metadata": {
        "id": "O-2-dfPNLsCP"
      }
    },
    {
      "cell_type": "code",
      "source": [
        "! git clone https://github.com/microsoft/scene_graph_benchmark.git"
      ],
      "metadata": {
        "colab": {
          "base_uri": "https://localhost:8080/"
        },
        "id": "PbIDHh3gLuuX",
        "outputId": "27d34f42-97c1-431c-f037-d38814f2824a"
      },
      "execution_count": 1,
      "outputs": [
        {
          "output_type": "stream",
          "name": "stdout",
          "text": [
            "Cloning into 'scene_graph_benchmark'...\n",
            "remote: Enumerating objects: 795, done.\u001b[K\n",
            "remote: Counting objects: 100% (795/795), done.\u001b[K\n",
            "remote: Compressing objects: 100% (504/504), done.\u001b[K\n",
            "remote: Total 795 (delta 394), reused 671 (delta 279), pack-reused 0\u001b[K\n",
            "Receiving objects: 100% (795/795), 21.20 MiB | 33.35 MiB/s, done.\n",
            "Resolving deltas: 100% (394/394), done.\n"
          ]
        }
      ]
    },
    {
      "cell_type": "code",
      "source": [
        "! pip install ipython h5py nltk joblib jupyter pandas scipy"
      ],
      "metadata": {
        "colab": {
          "base_uri": "https://localhost:8080/"
        },
        "id": "UXYddUQcLwB_",
        "outputId": "6cb4e61b-c592-4700-9506-772f405f0aea"
      },
      "execution_count": 2,
      "outputs": [
        {
          "output_type": "stream",
          "name": "stdout",
          "text": [
            "Requirement already satisfied: ipython in /usr/local/lib/python3.7/dist-packages (5.5.0)\n",
            "Requirement already satisfied: h5py in /usr/local/lib/python3.7/dist-packages (3.1.0)\n",
            "Requirement already satisfied: nltk in /usr/local/lib/python3.7/dist-packages (3.2.5)\n",
            "Requirement already satisfied: joblib in /usr/local/lib/python3.7/dist-packages (1.1.0)\n",
            "Requirement already satisfied: jupyter in /usr/local/lib/python3.7/dist-packages (1.0.0)\n",
            "Requirement already satisfied: pandas in /usr/local/lib/python3.7/dist-packages (1.3.5)\n",
            "Requirement already satisfied: scipy in /usr/local/lib/python3.7/dist-packages (1.4.1)\n",
            "Requirement already satisfied: pygments in /usr/local/lib/python3.7/dist-packages (from ipython) (2.6.1)\n",
            "Requirement already satisfied: prompt-toolkit<2.0.0,>=1.0.4 in /usr/local/lib/python3.7/dist-packages (from ipython) (1.0.18)\n",
            "Requirement already satisfied: pickleshare in /usr/local/lib/python3.7/dist-packages (from ipython) (0.7.5)\n",
            "Requirement already satisfied: pexpect in /usr/local/lib/python3.7/dist-packages (from ipython) (4.8.0)\n",
            "Requirement already satisfied: setuptools>=18.5 in /usr/local/lib/python3.7/dist-packages (from ipython) (57.4.0)\n",
            "Requirement already satisfied: decorator in /usr/local/lib/python3.7/dist-packages (from ipython) (4.4.2)\n",
            "Requirement already satisfied: simplegeneric>0.8 in /usr/local/lib/python3.7/dist-packages (from ipython) (0.8.1)\n",
            "Requirement already satisfied: traitlets>=4.2 in /usr/local/lib/python3.7/dist-packages (from ipython) (5.1.1)\n",
            "Requirement already satisfied: wcwidth in /usr/local/lib/python3.7/dist-packages (from prompt-toolkit<2.0.0,>=1.0.4->ipython) (0.2.5)\n",
            "Requirement already satisfied: six>=1.9.0 in /usr/local/lib/python3.7/dist-packages (from prompt-toolkit<2.0.0,>=1.0.4->ipython) (1.15.0)\n",
            "Requirement already satisfied: cached-property in /usr/local/lib/python3.7/dist-packages (from h5py) (1.5.2)\n",
            "Requirement already satisfied: numpy>=1.14.5 in /usr/local/lib/python3.7/dist-packages (from h5py) (1.21.5)\n",
            "Requirement already satisfied: notebook in /usr/local/lib/python3.7/dist-packages (from jupyter) (5.3.1)\n",
            "Requirement already satisfied: jupyter-console in /usr/local/lib/python3.7/dist-packages (from jupyter) (5.2.0)\n",
            "Requirement already satisfied: ipykernel in /usr/local/lib/python3.7/dist-packages (from jupyter) (4.10.1)\n",
            "Requirement already satisfied: ipywidgets in /usr/local/lib/python3.7/dist-packages (from jupyter) (7.7.0)\n",
            "Requirement already satisfied: nbconvert in /usr/local/lib/python3.7/dist-packages (from jupyter) (5.6.1)\n",
            "Requirement already satisfied: qtconsole in /usr/local/lib/python3.7/dist-packages (from jupyter) (5.2.2)\n",
            "Requirement already satisfied: pytz>=2017.3 in /usr/local/lib/python3.7/dist-packages (from pandas) (2018.9)\n",
            "Requirement already satisfied: python-dateutil>=2.7.3 in /usr/local/lib/python3.7/dist-packages (from pandas) (2.8.2)\n",
            "Requirement already satisfied: jupyter-client in /usr/local/lib/python3.7/dist-packages (from ipykernel->jupyter) (5.3.5)\n",
            "Requirement already satisfied: tornado>=4.0 in /usr/local/lib/python3.7/dist-packages (from ipykernel->jupyter) (5.1.1)\n",
            "Requirement already satisfied: widgetsnbextension~=3.6.0 in /usr/local/lib/python3.7/dist-packages (from ipywidgets->jupyter) (3.6.0)\n",
            "Requirement already satisfied: jupyterlab-widgets>=1.0.0 in /usr/local/lib/python3.7/dist-packages (from ipywidgets->jupyter) (1.1.0)\n",
            "Requirement already satisfied: nbformat>=4.2.0 in /usr/local/lib/python3.7/dist-packages (from ipywidgets->jupyter) (5.2.0)\n",
            "Requirement already satisfied: ipython-genutils~=0.2.0 in /usr/local/lib/python3.7/dist-packages (from ipywidgets->jupyter) (0.2.0)\n",
            "Requirement already satisfied: jsonschema!=2.5.0,>=2.4 in /usr/local/lib/python3.7/dist-packages (from nbformat>=4.2.0->ipywidgets->jupyter) (4.3.3)\n",
            "Requirement already satisfied: jupyter-core in /usr/local/lib/python3.7/dist-packages (from nbformat>=4.2.0->ipywidgets->jupyter) (4.9.2)\n",
            "Requirement already satisfied: pyrsistent!=0.17.0,!=0.17.1,!=0.17.2,>=0.14.0 in /usr/local/lib/python3.7/dist-packages (from jsonschema!=2.5.0,>=2.4->nbformat>=4.2.0->ipywidgets->jupyter) (0.18.1)\n",
            "Requirement already satisfied: attrs>=17.4.0 in /usr/local/lib/python3.7/dist-packages (from jsonschema!=2.5.0,>=2.4->nbformat>=4.2.0->ipywidgets->jupyter) (21.4.0)\n",
            "Requirement already satisfied: importlib-resources>=1.4.0 in /usr/local/lib/python3.7/dist-packages (from jsonschema!=2.5.0,>=2.4->nbformat>=4.2.0->ipywidgets->jupyter) (5.4.0)\n",
            "Requirement already satisfied: typing-extensions in /usr/local/lib/python3.7/dist-packages (from jsonschema!=2.5.0,>=2.4->nbformat>=4.2.0->ipywidgets->jupyter) (3.10.0.2)\n",
            "Requirement already satisfied: importlib-metadata in /usr/local/lib/python3.7/dist-packages (from jsonschema!=2.5.0,>=2.4->nbformat>=4.2.0->ipywidgets->jupyter) (4.11.3)\n",
            "Requirement already satisfied: zipp>=3.1.0 in /usr/local/lib/python3.7/dist-packages (from importlib-resources>=1.4.0->jsonschema!=2.5.0,>=2.4->nbformat>=4.2.0->ipywidgets->jupyter) (3.7.0)\n",
            "Requirement already satisfied: terminado>=0.8.1 in /usr/local/lib/python3.7/dist-packages (from notebook->jupyter) (0.13.3)\n",
            "Requirement already satisfied: jinja2 in /usr/local/lib/python3.7/dist-packages (from notebook->jupyter) (2.11.3)\n",
            "Requirement already satisfied: Send2Trash in /usr/local/lib/python3.7/dist-packages (from notebook->jupyter) (1.8.0)\n",
            "Requirement already satisfied: pyzmq>=13 in /usr/local/lib/python3.7/dist-packages (from jupyter-client->ipykernel->jupyter) (22.3.0)\n",
            "Requirement already satisfied: ptyprocess in /usr/local/lib/python3.7/dist-packages (from terminado>=0.8.1->notebook->jupyter) (0.7.0)\n",
            "Requirement already satisfied: MarkupSafe>=0.23 in /usr/local/lib/python3.7/dist-packages (from jinja2->notebook->jupyter) (2.0.1)\n",
            "Requirement already satisfied: defusedxml in /usr/local/lib/python3.7/dist-packages (from nbconvert->jupyter) (0.7.1)\n",
            "Requirement already satisfied: entrypoints>=0.2.2 in /usr/local/lib/python3.7/dist-packages (from nbconvert->jupyter) (0.4)\n",
            "Requirement already satisfied: bleach in /usr/local/lib/python3.7/dist-packages (from nbconvert->jupyter) (4.1.0)\n",
            "Requirement already satisfied: mistune<2,>=0.8.1 in /usr/local/lib/python3.7/dist-packages (from nbconvert->jupyter) (0.8.4)\n",
            "Requirement already satisfied: testpath in /usr/local/lib/python3.7/dist-packages (from nbconvert->jupyter) (0.6.0)\n",
            "Requirement already satisfied: pandocfilters>=1.4.1 in /usr/local/lib/python3.7/dist-packages (from nbconvert->jupyter) (1.5.0)\n",
            "Requirement already satisfied: packaging in /usr/local/lib/python3.7/dist-packages (from bleach->nbconvert->jupyter) (21.3)\n",
            "Requirement already satisfied: webencodings in /usr/local/lib/python3.7/dist-packages (from bleach->nbconvert->jupyter) (0.5.1)\n",
            "Requirement already satisfied: pyparsing!=3.0.5,>=2.0.2 in /usr/local/lib/python3.7/dist-packages (from packaging->bleach->nbconvert->jupyter) (3.0.7)\n",
            "Requirement already satisfied: qtpy in /usr/local/lib/python3.7/dist-packages (from qtconsole->jupyter) (2.0.1)\n"
          ]
        }
      ]
    },
    {
      "cell_type": "code",
      "source": [
        "! pip install ninja yacs>=0.1.8 cython matplotlib tqdm opencv-python numpy>=1.19.5"
      ],
      "metadata": {
        "id": "CI-BvSh2L45m"
      },
      "execution_count": 3,
      "outputs": []
    },
    {
      "cell_type": "code",
      "source": [
        "# ! pip install pytorch==1.7.1 torchvision==0.8.2 torchaudio==0.7.2\n",
        "! pip install torch==1.7.1 torchvision==0.8.2 torchaudio==0.7.2 --extra-index-url https://download.pytorch.org/whl/cu111"
      ],
      "metadata": {
        "colab": {
          "base_uri": "https://localhost:8080/"
        },
        "id": "Ae-mkbYyL9mu",
        "outputId": "a8201a7d-c7ef-41b8-a2ef-8f7ced43ee4d"
      },
      "execution_count": 4,
      "outputs": [
        {
          "output_type": "stream",
          "name": "stdout",
          "text": [
            "Looking in indexes: https://pypi.org/simple, https://download.pytorch.org/whl/cu111\n",
            "Collecting torch==1.7.1\n",
            "  Downloading torch-1.7.1-cp37-cp37m-manylinux1_x86_64.whl (776.8 MB)\n",
            "\u001b[K     |████████████████████████████████| 776.8 MB 18 kB/s \n",
            "\u001b[?25hCollecting torchvision==0.8.2\n",
            "  Downloading torchvision-0.8.2-cp37-cp37m-manylinux1_x86_64.whl (12.8 MB)\n",
            "\u001b[K     |████████████████████████████████| 12.8 MB 29.5 MB/s \n",
            "\u001b[?25hCollecting torchaudio==0.7.2\n",
            "  Downloading torchaudio-0.7.2-cp37-cp37m-manylinux1_x86_64.whl (7.6 MB)\n",
            "\u001b[K     |████████████████████████████████| 7.6 MB 33.1 MB/s \n",
            "\u001b[?25hRequirement already satisfied: numpy in /usr/local/lib/python3.7/dist-packages (from torch==1.7.1) (1.21.5)\n",
            "Requirement already satisfied: typing-extensions in /usr/local/lib/python3.7/dist-packages (from torch==1.7.1) (3.10.0.2)\n",
            "Requirement already satisfied: pillow>=4.1.1 in /usr/local/lib/python3.7/dist-packages (from torchvision==0.8.2) (7.1.2)\n",
            "Installing collected packages: torch, torchvision, torchaudio\n",
            "  Attempting uninstall: torch\n",
            "    Found existing installation: torch 1.10.0+cu111\n",
            "    Uninstalling torch-1.10.0+cu111:\n",
            "      Successfully uninstalled torch-1.10.0+cu111\n",
            "  Attempting uninstall: torchvision\n",
            "    Found existing installation: torchvision 0.11.1+cu111\n",
            "    Uninstalling torchvision-0.11.1+cu111:\n",
            "      Successfully uninstalled torchvision-0.11.1+cu111\n",
            "  Attempting uninstall: torchaudio\n",
            "    Found existing installation: torchaudio 0.10.0+cu111\n",
            "    Uninstalling torchaudio-0.10.0+cu111:\n",
            "      Successfully uninstalled torchaudio-0.10.0+cu111\n",
            "\u001b[31mERROR: pip's dependency resolver does not currently take into account all the packages that are installed. This behaviour is the source of the following dependency conflicts.\n",
            "torchtext 0.11.0 requires torch==1.10.0, but you have torch 1.7.1 which is incompatible.\u001b[0m\n",
            "Successfully installed torch-1.7.1 torchaudio-0.7.2 torchvision-0.8.2\n"
          ]
        }
      ]
    },
    {
      "cell_type": "code",
      "source": [
        "! pip install einops timm pycocotools cityscapesScripts"
      ],
      "metadata": {
        "colab": {
          "base_uri": "https://localhost:8080/",
          "height": 797
        },
        "id": "oWMwTLA3NHTn",
        "outputId": "228c3d71-4380-4504-c58d-e3305ae463b6"
      },
      "execution_count": 5,
      "outputs": [
        {
          "output_type": "stream",
          "name": "stdout",
          "text": [
            "Collecting einops\n",
            "  Downloading einops-0.4.1-py3-none-any.whl (28 kB)\n",
            "Collecting timm\n",
            "  Downloading timm-0.5.4-py3-none-any.whl (431 kB)\n",
            "\u001b[K     |████████████████████████████████| 431 kB 7.9 MB/s \n",
            "\u001b[?25hRequirement already satisfied: pycocotools in /usr/local/lib/python3.7/dist-packages (2.0.4)\n",
            "Collecting cityscapesScripts\n",
            "  Downloading cityscapesScripts-2.2.0-py3-none-any.whl (472 kB)\n",
            "\u001b[K     |████████████████████████████████| 472 kB 36.8 MB/s \n",
            "\u001b[?25hRequirement already satisfied: torchvision in /usr/local/lib/python3.7/dist-packages (from timm) (0.8.2)\n",
            "Requirement already satisfied: torch>=1.4 in /usr/local/lib/python3.7/dist-packages (from timm) (1.7.1)\n",
            "Requirement already satisfied: numpy in /usr/local/lib/python3.7/dist-packages (from torch>=1.4->timm) (1.21.5)\n",
            "Requirement already satisfied: typing-extensions in /usr/local/lib/python3.7/dist-packages (from torch>=1.4->timm) (3.10.0.2)\n",
            "Requirement already satisfied: matplotlib>=2.1.0 in /usr/local/lib/python3.7/dist-packages (from pycocotools) (3.2.2)\n",
            "Requirement already satisfied: python-dateutil>=2.1 in /usr/local/lib/python3.7/dist-packages (from matplotlib>=2.1.0->pycocotools) (2.8.2)\n",
            "Requirement already satisfied: kiwisolver>=1.0.1 in /usr/local/lib/python3.7/dist-packages (from matplotlib>=2.1.0->pycocotools) (1.4.0)\n",
            "Requirement already satisfied: pyparsing!=2.0.4,!=2.1.2,!=2.1.6,>=2.0.1 in /usr/local/lib/python3.7/dist-packages (from matplotlib>=2.1.0->pycocotools) (3.0.7)\n",
            "Requirement already satisfied: cycler>=0.10 in /usr/local/lib/python3.7/dist-packages (from matplotlib>=2.1.0->pycocotools) (0.11.0)\n",
            "Requirement already satisfied: six>=1.5 in /usr/local/lib/python3.7/dist-packages (from python-dateutil>=2.1->matplotlib>=2.1.0->pycocotools) (1.15.0)\n",
            "Requirement already satisfied: tqdm in /usr/local/lib/python3.7/dist-packages (from cityscapesScripts) (4.63.0)\n",
            "Requirement already satisfied: pillow in /usr/local/lib/python3.7/dist-packages (from cityscapesScripts) (7.1.2)\n",
            "Collecting typing\n",
            "  Downloading typing-3.7.4.3.tar.gz (78 kB)\n",
            "\u001b[K     |████████████████████████████████| 78 kB 6.7 MB/s \n",
            "\u001b[?25hRequirement already satisfied: appdirs in /usr/local/lib/python3.7/dist-packages (from cityscapesScripts) (1.4.4)\n",
            "Collecting pyquaternion\n",
            "  Downloading pyquaternion-0.9.9-py3-none-any.whl (14 kB)\n",
            "Collecting coloredlogs\n",
            "  Downloading coloredlogs-15.0.1-py2.py3-none-any.whl (46 kB)\n",
            "\u001b[K     |████████████████████████████████| 46 kB 2.9 MB/s \n",
            "\u001b[?25hCollecting humanfriendly>=9.1\n",
            "  Downloading humanfriendly-10.0-py2.py3-none-any.whl (86 kB)\n",
            "\u001b[K     |████████████████████████████████| 86 kB 5.1 MB/s \n",
            "\u001b[?25hBuilding wheels for collected packages: typing\n",
            "  Building wheel for typing (setup.py) ... \u001b[?25l\u001b[?25hdone\n",
            "  Created wheel for typing: filename=typing-3.7.4.3-py3-none-any.whl size=26325 sha256=7506fa836058a6bab474f2da5402af4b9c28a55b9ea6b767207edc5acdc28f88\n",
            "  Stored in directory: /root/.cache/pip/wheels/35/f3/15/01aa6571f0a72ee6ae7b827c1491c37a1f72d686fd22b43b0e\n",
            "Successfully built typing\n",
            "Installing collected packages: humanfriendly, typing, pyquaternion, coloredlogs, timm, einops, cityscapesScripts\n",
            "Successfully installed cityscapesScripts-2.2.0 coloredlogs-15.0.1 einops-0.4.1 humanfriendly-10.0 pyquaternion-0.9.9 timm-0.5.4 typing-3.7.4.3\n"
          ]
        },
        {
          "output_type": "display_data",
          "data": {
            "application/vnd.colab-display-data+json": {
              "pip_warning": {
                "packages": [
                  "typing"
                ]
              }
            }
          },
          "metadata": {}
        }
      ]
    },
    {
      "cell_type": "code",
      "source": [
        "%cd /content/scene_graph_benchmark"
      ],
      "metadata": {
        "colab": {
          "base_uri": "https://localhost:8080/"
        },
        "id": "yKhLZ_RgMCtu",
        "outputId": "064ef9c0-bdcd-46a8-82b4-d3e469c9217a"
      },
      "execution_count": 1,
      "outputs": [
        {
          "output_type": "stream",
          "name": "stdout",
          "text": [
            "/content/scene_graph_benchmark\n"
          ]
        }
      ]
    },
    {
      "cell_type": "code",
      "source": [
        "! python setup.py build develop"
      ],
      "metadata": {
        "colab": {
          "base_uri": "https://localhost:8080/"
        },
        "id": "AfBL_cSCM3Pf",
        "outputId": "8af163da-e009-46ee-ff1d-7fcfc943b35a"
      },
      "execution_count": 2,
      "outputs": [
        {
          "output_type": "stream",
          "name": "stdout",
          "text": [
            "running build\n",
            "running build_py\n",
            "creating build\n",
            "creating build/lib.linux-x86_64-3.7\n",
            "creating build/lib.linux-x86_64-3.7/scene_graph_benchmark\n",
            "copying scene_graph_benchmark/__init__.py -> build/lib.linux-x86_64-3.7/scene_graph_benchmark\n",
            "copying scene_graph_benchmark/registry.py -> build/lib.linux-x86_64-3.7/scene_graph_benchmark\n",
            "copying scene_graph_benchmark/AttrRCNN.py -> build/lib.linux-x86_64-3.7/scene_graph_benchmark\n",
            "copying scene_graph_benchmark/scene_parser.py -> build/lib.linux-x86_64-3.7/scene_graph_benchmark\n",
            "creating build/lib.linux-x86_64-3.7/maskrcnn_benchmark\n",
            "copying maskrcnn_benchmark/__init__.py -> build/lib.linux-x86_64-3.7/maskrcnn_benchmark\n",
            "creating build/lib.linux-x86_64-3.7/scene_graph_benchmark/relation_head\n",
            "copying scene_graph_benchmark/relation_head/relation_head.py -> build/lib.linux-x86_64-3.7/scene_graph_benchmark/relation_head\n",
            "copying scene_graph_benchmark/relation_head/contrastive_loss_sample_pairs.py -> build/lib.linux-x86_64-3.7/scene_graph_benchmark/relation_head\n",
            "copying scene_graph_benchmark/relation_head/roi_relation_predictors.py -> build/lib.linux-x86_64-3.7/scene_graph_benchmark/relation_head\n",
            "copying scene_graph_benchmark/relation_head/pair_matcher.py -> build/lib.linux-x86_64-3.7/scene_graph_benchmark/relation_head\n",
            "copying scene_graph_benchmark/relation_head/roi_relation_box_predictors.py -> build/lib.linux-x86_64-3.7/scene_graph_benchmark/relation_head\n",
            "copying scene_graph_benchmark/relation_head/sparse_targets.py -> build/lib.linux-x86_64-3.7/scene_graph_benchmark/relation_head\n",
            "copying scene_graph_benchmark/relation_head/__init__.py -> build/lib.linux-x86_64-3.7/scene_graph_benchmark/relation_head\n",
            "copying scene_graph_benchmark/relation_head/roi_relation_feature_extractors.py -> build/lib.linux-x86_64-3.7/scene_graph_benchmark/relation_head\n",
            "copying scene_graph_benchmark/relation_head/inference.py -> build/lib.linux-x86_64-3.7/scene_graph_benchmark/relation_head\n",
            "copying scene_graph_benchmark/relation_head/loss.py -> build/lib.linux-x86_64-3.7/scene_graph_benchmark/relation_head\n",
            "copying scene_graph_benchmark/relation_head/roi_relation_box_feature_extractors.py -> build/lib.linux-x86_64-3.7/scene_graph_benchmark/relation_head\n",
            "copying scene_graph_benchmark/relation_head/balanced_positive_negative_pair_sampler.py -> build/lib.linux-x86_64-3.7/scene_graph_benchmark/relation_head\n",
            "creating build/lib.linux-x86_64-3.7/scene_graph_benchmark/attribute_head\n",
            "copying scene_graph_benchmark/attribute_head/attribute_head.py -> build/lib.linux-x86_64-3.7/scene_graph_benchmark/attribute_head\n",
            "copying scene_graph_benchmark/attribute_head/__init__.py -> build/lib.linux-x86_64-3.7/scene_graph_benchmark/attribute_head\n",
            "copying scene_graph_benchmark/attribute_head/inference.py -> build/lib.linux-x86_64-3.7/scene_graph_benchmark/attribute_head\n",
            "copying scene_graph_benchmark/attribute_head/loss.py -> build/lib.linux-x86_64-3.7/scene_graph_benchmark/attribute_head\n",
            "copying scene_graph_benchmark/attribute_head/roi_attribute_feature_extractors.py -> build/lib.linux-x86_64-3.7/scene_graph_benchmark/attribute_head\n",
            "copying scene_graph_benchmark/attribute_head/roi_attribute_predictors.py -> build/lib.linux-x86_64-3.7/scene_graph_benchmark/attribute_head\n",
            "creating build/lib.linux-x86_64-3.7/scene_graph_benchmark/config\n",
            "copying scene_graph_benchmark/config/sg_defaults.py -> build/lib.linux-x86_64-3.7/scene_graph_benchmark/config\n",
            "copying scene_graph_benchmark/config/__init__.py -> build/lib.linux-x86_64-3.7/scene_graph_benchmark/config\n",
            "creating build/lib.linux-x86_64-3.7/scene_graph_benchmark/relation_head/msdn\n",
            "copying scene_graph_benchmark/relation_head/msdn/__init__.py -> build/lib.linux-x86_64-3.7/scene_graph_benchmark/relation_head/msdn\n",
            "copying scene_graph_benchmark/relation_head/msdn/msdn.py -> build/lib.linux-x86_64-3.7/scene_graph_benchmark/relation_head/msdn\n",
            "copying scene_graph_benchmark/relation_head/msdn/msdn_base.py -> build/lib.linux-x86_64-3.7/scene_graph_benchmark/relation_head/msdn\n",
            "creating build/lib.linux-x86_64-3.7/scene_graph_benchmark/relation_head/neural_motif\n",
            "copying scene_graph_benchmark/relation_head/neural_motif/roi_sorter.py -> build/lib.linux-x86_64-3.7/scene_graph_benchmark/relation_head/neural_motif\n",
            "copying scene_graph_benchmark/relation_head/neural_motif/word_vectors.py -> build/lib.linux-x86_64-3.7/scene_graph_benchmark/relation_head/neural_motif\n",
            "copying scene_graph_benchmark/relation_head/neural_motif/decoder_rnn.py -> build/lib.linux-x86_64-3.7/scene_graph_benchmark/relation_head/neural_motif\n",
            "copying scene_graph_benchmark/relation_head/neural_motif/__init__.py -> build/lib.linux-x86_64-3.7/scene_graph_benchmark/relation_head/neural_motif\n",
            "copying scene_graph_benchmark/relation_head/neural_motif/neuralmotif.py -> build/lib.linux-x86_64-3.7/scene_graph_benchmark/relation_head/neural_motif\n",
            "copying scene_graph_benchmark/relation_head/neural_motif/context_encoder.py -> build/lib.linux-x86_64-3.7/scene_graph_benchmark/relation_head/neural_motif\n",
            "creating build/lib.linux-x86_64-3.7/scene_graph_benchmark/relation_head/reldn\n",
            "copying scene_graph_benchmark/relation_head/reldn/spatial.py -> build/lib.linux-x86_64-3.7/scene_graph_benchmark/relation_head/reldn\n",
            "copying scene_graph_benchmark/relation_head/reldn/__init__.py -> build/lib.linux-x86_64-3.7/scene_graph_benchmark/relation_head/reldn\n",
            "copying scene_graph_benchmark/relation_head/reldn/reldn.py -> build/lib.linux-x86_64-3.7/scene_graph_benchmark/relation_head/reldn\n",
            "creating build/lib.linux-x86_64-3.7/scene_graph_benchmark/relation_head/baseline\n",
            "copying scene_graph_benchmark/relation_head/baseline/__init__.py -> build/lib.linux-x86_64-3.7/scene_graph_benchmark/relation_head/baseline\n",
            "copying scene_graph_benchmark/relation_head/baseline/baseline.py -> build/lib.linux-x86_64-3.7/scene_graph_benchmark/relation_head/baseline\n",
            "creating build/lib.linux-x86_64-3.7/scene_graph_benchmark/relation_head/imp\n",
            "copying scene_graph_benchmark/relation_head/imp/imp.py -> build/lib.linux-x86_64-3.7/scene_graph_benchmark/relation_head/imp\n",
            "copying scene_graph_benchmark/relation_head/imp/__init__.py -> build/lib.linux-x86_64-3.7/scene_graph_benchmark/relation_head/imp\n",
            "creating build/lib.linux-x86_64-3.7/scene_graph_benchmark/relation_head/grcnn\n",
            "copying scene_graph_benchmark/relation_head/grcnn/grcnn.py -> build/lib.linux-x86_64-3.7/scene_graph_benchmark/relation_head/grcnn\n",
            "copying scene_graph_benchmark/relation_head/grcnn/__init__.py -> build/lib.linux-x86_64-3.7/scene_graph_benchmark/relation_head/grcnn\n",
            "creating build/lib.linux-x86_64-3.7/scene_graph_benchmark/relation_head/relpn\n",
            "copying scene_graph_benchmark/relation_head/relpn/relpn.py -> build/lib.linux-x86_64-3.7/scene_graph_benchmark/relation_head/relpn\n",
            "copying scene_graph_benchmark/relation_head/relpn/relationshipness.py -> build/lib.linux-x86_64-3.7/scene_graph_benchmark/relation_head/relpn\n",
            "copying scene_graph_benchmark/relation_head/relpn/__init__.py -> build/lib.linux-x86_64-3.7/scene_graph_benchmark/relation_head/relpn\n",
            "copying scene_graph_benchmark/relation_head/relpn/utils.py -> build/lib.linux-x86_64-3.7/scene_graph_benchmark/relation_head/relpn\n",
            "creating build/lib.linux-x86_64-3.7/scene_graph_benchmark/relation_head/grcnn/agcn\n",
            "copying scene_graph_benchmark/relation_head/grcnn/agcn/__init__.py -> build/lib.linux-x86_64-3.7/scene_graph_benchmark/relation_head/grcnn/agcn\n",
            "copying scene_graph_benchmark/relation_head/grcnn/agcn/agcn.py -> build/lib.linux-x86_64-3.7/scene_graph_benchmark/relation_head/grcnn/agcn\n",
            "creating build/lib.linux-x86_64-3.7/maskrcnn_benchmark/data\n",
            "copying maskrcnn_benchmark/data/__init__.py -> build/lib.linux-x86_64-3.7/maskrcnn_benchmark/data\n",
            "copying maskrcnn_benchmark/data/collate_batch.py -> build/lib.linux-x86_64-3.7/maskrcnn_benchmark/data\n",
            "copying maskrcnn_benchmark/data/build.py -> build/lib.linux-x86_64-3.7/maskrcnn_benchmark/data\n",
            "creating build/lib.linux-x86_64-3.7/maskrcnn_benchmark/structures\n",
            "copying maskrcnn_benchmark/structures/bounding_box_pair.py -> build/lib.linux-x86_64-3.7/maskrcnn_benchmark/structures\n",
            "copying maskrcnn_benchmark/structures/image_list.py -> build/lib.linux-x86_64-3.7/maskrcnn_benchmark/structures\n",
            "copying maskrcnn_benchmark/structures/segmentation_mask.py -> build/lib.linux-x86_64-3.7/maskrcnn_benchmark/structures\n",
            "copying maskrcnn_benchmark/structures/tsv_file_ops.py -> build/lib.linux-x86_64-3.7/maskrcnn_benchmark/structures\n",
            "copying maskrcnn_benchmark/structures/keypoint.py -> build/lib.linux-x86_64-3.7/maskrcnn_benchmark/structures\n",
            "copying maskrcnn_benchmark/structures/__init__.py -> build/lib.linux-x86_64-3.7/maskrcnn_benchmark/structures\n",
            "copying maskrcnn_benchmark/structures/boxlist_ops.py -> build/lib.linux-x86_64-3.7/maskrcnn_benchmark/structures\n",
            "copying maskrcnn_benchmark/structures/tsv_file.py -> build/lib.linux-x86_64-3.7/maskrcnn_benchmark/structures\n",
            "copying maskrcnn_benchmark/structures/bounding_box.py -> build/lib.linux-x86_64-3.7/maskrcnn_benchmark/structures\n",
            "creating build/lib.linux-x86_64-3.7/maskrcnn_benchmark/engine\n",
            "copying maskrcnn_benchmark/engine/trainer.py -> build/lib.linux-x86_64-3.7/maskrcnn_benchmark/engine\n",
            "copying maskrcnn_benchmark/engine/__init__.py -> build/lib.linux-x86_64-3.7/maskrcnn_benchmark/engine\n",
            "copying maskrcnn_benchmark/engine/inference.py -> build/lib.linux-x86_64-3.7/maskrcnn_benchmark/engine\n",
            "copying maskrcnn_benchmark/engine/bbox_aug.py -> build/lib.linux-x86_64-3.7/maskrcnn_benchmark/engine\n",
            "creating build/lib.linux-x86_64-3.7/maskrcnn_benchmark/solver\n",
            "copying maskrcnn_benchmark/solver/lr_scheduler.py -> build/lib.linux-x86_64-3.7/maskrcnn_benchmark/solver\n",
            "copying maskrcnn_benchmark/solver/__init__.py -> build/lib.linux-x86_64-3.7/maskrcnn_benchmark/solver\n",
            "copying maskrcnn_benchmark/solver/build.py -> build/lib.linux-x86_64-3.7/maskrcnn_benchmark/solver\n",
            "creating build/lib.linux-x86_64-3.7/maskrcnn_benchmark/utils\n",
            "copying maskrcnn_benchmark/utils/c2_model_loading.py -> build/lib.linux-x86_64-3.7/maskrcnn_benchmark/utils\n",
            "copying maskrcnn_benchmark/utils/model_serialization.py -> build/lib.linux-x86_64-3.7/maskrcnn_benchmark/utils\n",
            "copying maskrcnn_benchmark/utils/collect_env.py -> build/lib.linux-x86_64-3.7/maskrcnn_benchmark/utils\n",
            "copying maskrcnn_benchmark/utils/model_zoo.py -> build/lib.linux-x86_64-3.7/maskrcnn_benchmark/utils\n",
            "copying maskrcnn_benchmark/utils/checkpoint.py -> build/lib.linux-x86_64-3.7/maskrcnn_benchmark/utils\n",
            "copying maskrcnn_benchmark/utils/logger.py -> build/lib.linux-x86_64-3.7/maskrcnn_benchmark/utils\n",
            "copying maskrcnn_benchmark/utils/metric_logger.py -> build/lib.linux-x86_64-3.7/maskrcnn_benchmark/utils\n",
            "copying maskrcnn_benchmark/utils/__init__.py -> build/lib.linux-x86_64-3.7/maskrcnn_benchmark/utils\n",
            "copying maskrcnn_benchmark/utils/comm.py -> build/lib.linux-x86_64-3.7/maskrcnn_benchmark/utils\n",
            "copying maskrcnn_benchmark/utils/dataset_utils.py -> build/lib.linux-x86_64-3.7/maskrcnn_benchmark/utils\n",
            "copying maskrcnn_benchmark/utils/cv2_util.py -> build/lib.linux-x86_64-3.7/maskrcnn_benchmark/utils\n",
            "copying maskrcnn_benchmark/utils/registry.py -> build/lib.linux-x86_64-3.7/maskrcnn_benchmark/utils\n",
            "copying maskrcnn_benchmark/utils/miscellaneous.py -> build/lib.linux-x86_64-3.7/maskrcnn_benchmark/utils\n",
            "copying maskrcnn_benchmark/utils/env.py -> build/lib.linux-x86_64-3.7/maskrcnn_benchmark/utils\n",
            "copying maskrcnn_benchmark/utils/imports.py -> build/lib.linux-x86_64-3.7/maskrcnn_benchmark/utils\n",
            "copying maskrcnn_benchmark/utils/timer.py -> build/lib.linux-x86_64-3.7/maskrcnn_benchmark/utils\n",
            "copying maskrcnn_benchmark/utils/amp.py -> build/lib.linux-x86_64-3.7/maskrcnn_benchmark/utils\n",
            "creating build/lib.linux-x86_64-3.7/maskrcnn_benchmark/config\n",
            "copying maskrcnn_benchmark/config/defaults.py -> build/lib.linux-x86_64-3.7/maskrcnn_benchmark/config\n",
            "copying maskrcnn_benchmark/config/__init__.py -> build/lib.linux-x86_64-3.7/maskrcnn_benchmark/config\n",
            "copying maskrcnn_benchmark/config/paths_catalog.py -> build/lib.linux-x86_64-3.7/maskrcnn_benchmark/config\n",
            "creating build/lib.linux-x86_64-3.7/maskrcnn_benchmark/modeling\n",
            "copying maskrcnn_benchmark/modeling/make_layers.py -> build/lib.linux-x86_64-3.7/maskrcnn_benchmark/modeling\n",
            "copying maskrcnn_benchmark/modeling/balanced_positive_negative_sampler.py -> build/lib.linux-x86_64-3.7/maskrcnn_benchmark/modeling\n",
            "copying maskrcnn_benchmark/modeling/__init__.py -> build/lib.linux-x86_64-3.7/maskrcnn_benchmark/modeling\n",
            "copying maskrcnn_benchmark/modeling/registry.py -> build/lib.linux-x86_64-3.7/maskrcnn_benchmark/modeling\n",
            "copying maskrcnn_benchmark/modeling/matcher.py -> build/lib.linux-x86_64-3.7/maskrcnn_benchmark/modeling\n",
            "copying maskrcnn_benchmark/modeling/utils.py -> build/lib.linux-x86_64-3.7/maskrcnn_benchmark/modeling\n",
            "copying maskrcnn_benchmark/modeling/box_coder.py -> build/lib.linux-x86_64-3.7/maskrcnn_benchmark/modeling\n",
            "copying maskrcnn_benchmark/modeling/poolers.py -> build/lib.linux-x86_64-3.7/maskrcnn_benchmark/modeling\n",
            "creating build/lib.linux-x86_64-3.7/maskrcnn_benchmark/layers\n",
            "copying maskrcnn_benchmark/layers/nms.py -> build/lib.linux-x86_64-3.7/maskrcnn_benchmark/layers\n",
            "copying maskrcnn_benchmark/layers/__init__.py -> build/lib.linux-x86_64-3.7/maskrcnn_benchmark/layers\n",
            "copying maskrcnn_benchmark/layers/smooth_l1_loss.py -> build/lib.linux-x86_64-3.7/maskrcnn_benchmark/layers\n",
            "copying maskrcnn_benchmark/layers/_utils.py -> build/lib.linux-x86_64-3.7/maskrcnn_benchmark/layers\n",
            "copying maskrcnn_benchmark/layers/batch_norm.py -> build/lib.linux-x86_64-3.7/maskrcnn_benchmark/layers\n",
            "copying maskrcnn_benchmark/layers/roi_pool.py -> build/lib.linux-x86_64-3.7/maskrcnn_benchmark/layers\n",
            "copying maskrcnn_benchmark/layers/sigmoid_focal_loss.py -> build/lib.linux-x86_64-3.7/maskrcnn_benchmark/layers\n",
            "copying maskrcnn_benchmark/layers/misc.py -> build/lib.linux-x86_64-3.7/maskrcnn_benchmark/layers\n",
            "copying maskrcnn_benchmark/layers/roi_align.py -> build/lib.linux-x86_64-3.7/maskrcnn_benchmark/layers\n",
            "creating build/lib.linux-x86_64-3.7/maskrcnn_benchmark/data/datasets\n",
            "copying maskrcnn_benchmark/data/datasets/concat_dataset.py -> build/lib.linux-x86_64-3.7/maskrcnn_benchmark/data/datasets\n",
            "copying maskrcnn_benchmark/data/datasets/list_dataset.py -> build/lib.linux-x86_64-3.7/maskrcnn_benchmark/data/datasets\n",
            "copying maskrcnn_benchmark/data/datasets/openimages_vrd_tsv.py -> build/lib.linux-x86_64-3.7/maskrcnn_benchmark/data/datasets\n",
            "copying maskrcnn_benchmark/data/datasets/tsv_dataset.py -> build/lib.linux-x86_64-3.7/maskrcnn_benchmark/data/datasets\n",
            "copying maskrcnn_benchmark/data/datasets/__init__.py -> build/lib.linux-x86_64-3.7/maskrcnn_benchmark/data/datasets\n",
            "copying maskrcnn_benchmark/data/datasets/vg_tsv.py -> build/lib.linux-x86_64-3.7/maskrcnn_benchmark/data/datasets\n",
            "copying maskrcnn_benchmark/data/datasets/relation_tsv.py -> build/lib.linux-x86_64-3.7/maskrcnn_benchmark/data/datasets\n",
            "copying maskrcnn_benchmark/data/datasets/coco.py -> build/lib.linux-x86_64-3.7/maskrcnn_benchmark/data/datasets\n",
            "copying maskrcnn_benchmark/data/datasets/abstract.py -> build/lib.linux-x86_64-3.7/maskrcnn_benchmark/data/datasets\n",
            "copying maskrcnn_benchmark/data/datasets/od_tsv.py -> build/lib.linux-x86_64-3.7/maskrcnn_benchmark/data/datasets\n",
            "copying maskrcnn_benchmark/data/datasets/cityscapes.py -> build/lib.linux-x86_64-3.7/maskrcnn_benchmark/data/datasets\n",
            "copying maskrcnn_benchmark/data/datasets/voc.py -> build/lib.linux-x86_64-3.7/maskrcnn_benchmark/data/datasets\n",
            "creating build/lib.linux-x86_64-3.7/maskrcnn_benchmark/data/transforms\n",
            "copying maskrcnn_benchmark/data/transforms/__init__.py -> build/lib.linux-x86_64-3.7/maskrcnn_benchmark/data/transforms\n",
            "copying maskrcnn_benchmark/data/transforms/transforms.py -> build/lib.linux-x86_64-3.7/maskrcnn_benchmark/data/transforms\n",
            "copying maskrcnn_benchmark/data/transforms/build.py -> build/lib.linux-x86_64-3.7/maskrcnn_benchmark/data/transforms\n",
            "creating build/lib.linux-x86_64-3.7/maskrcnn_benchmark/data/samplers\n",
            "copying maskrcnn_benchmark/data/samplers/distributed.py -> build/lib.linux-x86_64-3.7/maskrcnn_benchmark/data/samplers\n",
            "copying maskrcnn_benchmark/data/samplers/__init__.py -> build/lib.linux-x86_64-3.7/maskrcnn_benchmark/data/samplers\n",
            "copying maskrcnn_benchmark/data/samplers/grouped_batch_sampler.py -> build/lib.linux-x86_64-3.7/maskrcnn_benchmark/data/samplers\n",
            "copying maskrcnn_benchmark/data/samplers/iteration_based_batch_sampler.py -> build/lib.linux-x86_64-3.7/maskrcnn_benchmark/data/samplers\n",
            "creating build/lib.linux-x86_64-3.7/maskrcnn_benchmark/data/datasets/evaluation\n",
            "copying maskrcnn_benchmark/data/datasets/evaluation/__init__.py -> build/lib.linux-x86_64-3.7/maskrcnn_benchmark/data/datasets/evaluation\n",
            "copying maskrcnn_benchmark/data/datasets/evaluation/utils.py -> build/lib.linux-x86_64-3.7/maskrcnn_benchmark/data/datasets/evaluation\n",
            "creating build/lib.linux-x86_64-3.7/maskrcnn_benchmark/data/datasets/evaluation/cityscapes\n",
            "copying maskrcnn_benchmark/data/datasets/evaluation/cityscapes/__init__.py -> build/lib.linux-x86_64-3.7/maskrcnn_benchmark/data/datasets/evaluation/cityscapes\n",
            "copying maskrcnn_benchmark/data/datasets/evaluation/cityscapes/eval_instances.py -> build/lib.linux-x86_64-3.7/maskrcnn_benchmark/data/datasets/evaluation/cityscapes\n",
            "copying maskrcnn_benchmark/data/datasets/evaluation/cityscapes/cityscapes_eval.py -> build/lib.linux-x86_64-3.7/maskrcnn_benchmark/data/datasets/evaluation/cityscapes\n",
            "creating build/lib.linux-x86_64-3.7/maskrcnn_benchmark/data/datasets/evaluation/sg\n",
            "copying maskrcnn_benchmark/data/datasets/evaluation/sg/__init__.py -> build/lib.linux-x86_64-3.7/maskrcnn_benchmark/data/datasets/evaluation/sg\n",
            "copying maskrcnn_benchmark/data/datasets/evaluation/sg/evaluator.py -> build/lib.linux-x86_64-3.7/maskrcnn_benchmark/data/datasets/evaluation/sg\n",
            "copying maskrcnn_benchmark/data/datasets/evaluation/sg/sg_tsv_eval.py -> build/lib.linux-x86_64-3.7/maskrcnn_benchmark/data/datasets/evaluation/sg\n",
            "copying maskrcnn_benchmark/data/datasets/evaluation/sg/box.py -> build/lib.linux-x86_64-3.7/maskrcnn_benchmark/data/datasets/evaluation/sg\n",
            "creating build/lib.linux-x86_64-3.7/maskrcnn_benchmark/data/datasets/evaluation/vg\n",
            "copying maskrcnn_benchmark/data/datasets/evaluation/vg/__init__.py -> build/lib.linux-x86_64-3.7/maskrcnn_benchmark/data/datasets/evaluation/vg\n",
            "copying maskrcnn_benchmark/data/datasets/evaluation/vg/vg_eval.py -> build/lib.linux-x86_64-3.7/maskrcnn_benchmark/data/datasets/evaluation/vg\n",
            "creating build/lib.linux-x86_64-3.7/maskrcnn_benchmark/data/datasets/evaluation/openimages_vrd\n",
            "copying maskrcnn_benchmark/data/datasets/evaluation/openimages_vrd/eval_utils.py -> build/lib.linux-x86_64-3.7/maskrcnn_benchmark/data/datasets/evaluation/openimages_vrd\n",
            "copying maskrcnn_benchmark/data/datasets/evaluation/openimages_vrd/__init__.py -> build/lib.linux-x86_64-3.7/maskrcnn_benchmark/data/datasets/evaluation/openimages_vrd\n",
            "copying maskrcnn_benchmark/data/datasets/evaluation/openimages_vrd/openimages_vrd_eval.py -> build/lib.linux-x86_64-3.7/maskrcnn_benchmark/data/datasets/evaluation/openimages_vrd\n",
            "creating build/lib.linux-x86_64-3.7/maskrcnn_benchmark/data/datasets/evaluation/coco\n",
            "copying maskrcnn_benchmark/data/datasets/evaluation/coco/coco_eval_wrapper.py -> build/lib.linux-x86_64-3.7/maskrcnn_benchmark/data/datasets/evaluation/coco\n",
            "copying maskrcnn_benchmark/data/datasets/evaluation/coco/coco_eval.py -> build/lib.linux-x86_64-3.7/maskrcnn_benchmark/data/datasets/evaluation/coco\n",
            "copying maskrcnn_benchmark/data/datasets/evaluation/coco/__init__.py -> build/lib.linux-x86_64-3.7/maskrcnn_benchmark/data/datasets/evaluation/coco\n",
            "copying maskrcnn_benchmark/data/datasets/evaluation/coco/abs_to_coco.py -> build/lib.linux-x86_64-3.7/maskrcnn_benchmark/data/datasets/evaluation/coco\n",
            "creating build/lib.linux-x86_64-3.7/maskrcnn_benchmark/data/datasets/evaluation/voc\n",
            "copying maskrcnn_benchmark/data/datasets/evaluation/voc/__init__.py -> build/lib.linux-x86_64-3.7/maskrcnn_benchmark/data/datasets/evaluation/voc\n",
            "copying maskrcnn_benchmark/data/datasets/evaluation/voc/voc_eval.py -> build/lib.linux-x86_64-3.7/maskrcnn_benchmark/data/datasets/evaluation/voc\n",
            "creating build/lib.linux-x86_64-3.7/maskrcnn_benchmark/modeling/backbone\n",
            "copying maskrcnn_benchmark/modeling/backbone/longformer2d.py -> build/lib.linux-x86_64-3.7/maskrcnn_benchmark/modeling/backbone\n",
            "copying maskrcnn_benchmark/modeling/backbone/fbnet_modeldef.py -> build/lib.linux-x86_64-3.7/maskrcnn_benchmark/modeling/backbone\n",
            "copying maskrcnn_benchmark/modeling/backbone/fbnet_builder.py -> build/lib.linux-x86_64-3.7/maskrcnn_benchmark/modeling/backbone\n",
            "copying maskrcnn_benchmark/modeling/backbone/slidingchunk_2d.py -> build/lib.linux-x86_64-3.7/maskrcnn_benchmark/modeling/backbone\n",
            "copying maskrcnn_benchmark/modeling/backbone/__init__.py -> build/lib.linux-x86_64-3.7/maskrcnn_benchmark/modeling/backbone\n",
            "copying maskrcnn_benchmark/modeling/backbone/backbone.py -> build/lib.linux-x86_64-3.7/maskrcnn_benchmark/modeling/backbone\n",
            "copying maskrcnn_benchmark/modeling/backbone/fpn.py -> build/lib.linux-x86_64-3.7/maskrcnn_benchmark/modeling/backbone\n",
            "copying maskrcnn_benchmark/modeling/backbone/msvit.py -> build/lib.linux-x86_64-3.7/maskrcnn_benchmark/modeling/backbone\n",
            "copying maskrcnn_benchmark/modeling/backbone/fbnet.py -> build/lib.linux-x86_64-3.7/maskrcnn_benchmark/modeling/backbone\n",
            "copying maskrcnn_benchmark/modeling/backbone/resnet.py -> build/lib.linux-x86_64-3.7/maskrcnn_benchmark/modeling/backbone\n",
            "creating build/lib.linux-x86_64-3.7/maskrcnn_benchmark/modeling/rpn\n",
            "copying maskrcnn_benchmark/modeling/rpn/rpn.py -> build/lib.linux-x86_64-3.7/maskrcnn_benchmark/modeling/rpn\n",
            "copying maskrcnn_benchmark/modeling/rpn/__init__.py -> build/lib.linux-x86_64-3.7/maskrcnn_benchmark/modeling/rpn\n",
            "copying maskrcnn_benchmark/modeling/rpn/inference.py -> build/lib.linux-x86_64-3.7/maskrcnn_benchmark/modeling/rpn\n",
            "copying maskrcnn_benchmark/modeling/rpn/loss.py -> build/lib.linux-x86_64-3.7/maskrcnn_benchmark/modeling/rpn\n",
            "copying maskrcnn_benchmark/modeling/rpn/utils.py -> build/lib.linux-x86_64-3.7/maskrcnn_benchmark/modeling/rpn\n",
            "copying maskrcnn_benchmark/modeling/rpn/anchor_generator.py -> build/lib.linux-x86_64-3.7/maskrcnn_benchmark/modeling/rpn\n",
            "creating build/lib.linux-x86_64-3.7/maskrcnn_benchmark/modeling/detector\n",
            "copying maskrcnn_benchmark/modeling/detector/__init__.py -> build/lib.linux-x86_64-3.7/maskrcnn_benchmark/modeling/detector\n",
            "copying maskrcnn_benchmark/modeling/detector/detectors.py -> build/lib.linux-x86_64-3.7/maskrcnn_benchmark/modeling/detector\n",
            "copying maskrcnn_benchmark/modeling/detector/generalized_rcnn.py -> build/lib.linux-x86_64-3.7/maskrcnn_benchmark/modeling/detector\n",
            "creating build/lib.linux-x86_64-3.7/maskrcnn_benchmark/modeling/roi_heads\n",
            "copying maskrcnn_benchmark/modeling/roi_heads/__init__.py -> build/lib.linux-x86_64-3.7/maskrcnn_benchmark/modeling/roi_heads\n",
            "copying maskrcnn_benchmark/modeling/roi_heads/roi_heads.py -> build/lib.linux-x86_64-3.7/maskrcnn_benchmark/modeling/roi_heads\n",
            "creating build/lib.linux-x86_64-3.7/maskrcnn_benchmark/modeling/rpn/retinanet\n",
            "copying maskrcnn_benchmark/modeling/rpn/retinanet/retinanet.py -> build/lib.linux-x86_64-3.7/maskrcnn_benchmark/modeling/rpn/retinanet\n",
            "copying maskrcnn_benchmark/modeling/rpn/retinanet/__init__.py -> build/lib.linux-x86_64-3.7/maskrcnn_benchmark/modeling/rpn/retinanet\n",
            "copying maskrcnn_benchmark/modeling/rpn/retinanet/inference.py -> build/lib.linux-x86_64-3.7/maskrcnn_benchmark/modeling/rpn/retinanet\n",
            "copying maskrcnn_benchmark/modeling/rpn/retinanet/loss.py -> build/lib.linux-x86_64-3.7/maskrcnn_benchmark/modeling/rpn/retinanet\n",
            "creating build/lib.linux-x86_64-3.7/maskrcnn_benchmark/modeling/roi_heads/mask_head\n",
            "copying maskrcnn_benchmark/modeling/roi_heads/mask_head/roi_mask_feature_extractors.py -> build/lib.linux-x86_64-3.7/maskrcnn_benchmark/modeling/roi_heads/mask_head\n",
            "copying maskrcnn_benchmark/modeling/roi_heads/mask_head/__init__.py -> build/lib.linux-x86_64-3.7/maskrcnn_benchmark/modeling/roi_heads/mask_head\n",
            "copying maskrcnn_benchmark/modeling/roi_heads/mask_head/inference.py -> build/lib.linux-x86_64-3.7/maskrcnn_benchmark/modeling/roi_heads/mask_head\n",
            "copying maskrcnn_benchmark/modeling/roi_heads/mask_head/loss.py -> build/lib.linux-x86_64-3.7/maskrcnn_benchmark/modeling/roi_heads/mask_head\n",
            "copying maskrcnn_benchmark/modeling/roi_heads/mask_head/mask_head.py -> build/lib.linux-x86_64-3.7/maskrcnn_benchmark/modeling/roi_heads/mask_head\n",
            "copying maskrcnn_benchmark/modeling/roi_heads/mask_head/roi_mask_predictors.py -> build/lib.linux-x86_64-3.7/maskrcnn_benchmark/modeling/roi_heads/mask_head\n",
            "creating build/lib.linux-x86_64-3.7/maskrcnn_benchmark/modeling/roi_heads/keypoint_head\n",
            "copying maskrcnn_benchmark/modeling/roi_heads/keypoint_head/roi_keypoint_predictors.py -> build/lib.linux-x86_64-3.7/maskrcnn_benchmark/modeling/roi_heads/keypoint_head\n",
            "copying maskrcnn_benchmark/modeling/roi_heads/keypoint_head/roi_keypoint_feature_extractors.py -> build/lib.linux-x86_64-3.7/maskrcnn_benchmark/modeling/roi_heads/keypoint_head\n",
            "copying maskrcnn_benchmark/modeling/roi_heads/keypoint_head/keypoint_head.py -> build/lib.linux-x86_64-3.7/maskrcnn_benchmark/modeling/roi_heads/keypoint_head\n",
            "copying maskrcnn_benchmark/modeling/roi_heads/keypoint_head/__init__.py -> build/lib.linux-x86_64-3.7/maskrcnn_benchmark/modeling/roi_heads/keypoint_head\n",
            "copying maskrcnn_benchmark/modeling/roi_heads/keypoint_head/inference.py -> build/lib.linux-x86_64-3.7/maskrcnn_benchmark/modeling/roi_heads/keypoint_head\n",
            "copying maskrcnn_benchmark/modeling/roi_heads/keypoint_head/loss.py -> build/lib.linux-x86_64-3.7/maskrcnn_benchmark/modeling/roi_heads/keypoint_head\n",
            "creating build/lib.linux-x86_64-3.7/maskrcnn_benchmark/modeling/roi_heads/box_head\n",
            "copying maskrcnn_benchmark/modeling/roi_heads/box_head/roi_box_predictors.py -> build/lib.linux-x86_64-3.7/maskrcnn_benchmark/modeling/roi_heads/box_head\n",
            "copying maskrcnn_benchmark/modeling/roi_heads/box_head/__init__.py -> build/lib.linux-x86_64-3.7/maskrcnn_benchmark/modeling/roi_heads/box_head\n",
            "copying maskrcnn_benchmark/modeling/roi_heads/box_head/roi_box_feature_extractors.py -> build/lib.linux-x86_64-3.7/maskrcnn_benchmark/modeling/roi_heads/box_head\n",
            "copying maskrcnn_benchmark/modeling/roi_heads/box_head/inference.py -> build/lib.linux-x86_64-3.7/maskrcnn_benchmark/modeling/roi_heads/box_head\n",
            "copying maskrcnn_benchmark/modeling/roi_heads/box_head/loss.py -> build/lib.linux-x86_64-3.7/maskrcnn_benchmark/modeling/roi_heads/box_head\n",
            "copying maskrcnn_benchmark/modeling/roi_heads/box_head/box_head.py -> build/lib.linux-x86_64-3.7/maskrcnn_benchmark/modeling/roi_heads/box_head\n",
            "creating build/lib.linux-x86_64-3.7/maskrcnn_benchmark/layers/dcn\n",
            "copying maskrcnn_benchmark/layers/dcn/deform_conv_func.py -> build/lib.linux-x86_64-3.7/maskrcnn_benchmark/layers/dcn\n",
            "copying maskrcnn_benchmark/layers/dcn/__init__.py -> build/lib.linux-x86_64-3.7/maskrcnn_benchmark/layers/dcn\n",
            "copying maskrcnn_benchmark/layers/dcn/deform_pool_module.py -> build/lib.linux-x86_64-3.7/maskrcnn_benchmark/layers/dcn\n",
            "copying maskrcnn_benchmark/layers/dcn/deform_conv_module.py -> build/lib.linux-x86_64-3.7/maskrcnn_benchmark/layers/dcn\n",
            "copying maskrcnn_benchmark/layers/dcn/deform_pool_func.py -> build/lib.linux-x86_64-3.7/maskrcnn_benchmark/layers/dcn\n",
            "running build_ext\n",
            "building 'maskrcnn_benchmark._C' extension\n",
            "creating /content/scene_graph_benchmark/build/temp.linux-x86_64-3.7\n",
            "creating /content/scene_graph_benchmark/build/temp.linux-x86_64-3.7/content\n",
            "creating /content/scene_graph_benchmark/build/temp.linux-x86_64-3.7/content/scene_graph_benchmark\n",
            "creating /content/scene_graph_benchmark/build/temp.linux-x86_64-3.7/content/scene_graph_benchmark/maskrcnn_benchmark\n",
            "creating /content/scene_graph_benchmark/build/temp.linux-x86_64-3.7/content/scene_graph_benchmark/maskrcnn_benchmark/csrc\n",
            "creating /content/scene_graph_benchmark/build/temp.linux-x86_64-3.7/content/scene_graph_benchmark/maskrcnn_benchmark/csrc/cpu\n",
            "creating /content/scene_graph_benchmark/build/temp.linux-x86_64-3.7/content/scene_graph_benchmark/maskrcnn_benchmark/csrc/cuda\n",
            "Emitting ninja build file /content/scene_graph_benchmark/build/temp.linux-x86_64-3.7/build.ninja...\n",
            "Compiling objects...\n",
            "Allowing ninja to set a default number of workers... (overridable by setting the environment variable MAX_JOBS=N)\n",
            "[1/11] c++ -MMD -MF /content/scene_graph_benchmark/build/temp.linux-x86_64-3.7/content/scene_graph_benchmark/maskrcnn_benchmark/csrc/cpu/ROIAlign_cpu.o.d -pthread -Wno-unused-result -Wsign-compare -DNDEBUG -g -fwrapv -O2 -Wall -g -fdebug-prefix-map=/build/python3.7-dIfpci/python3.7-3.7.13=. -fstack-protector-strong -Wformat -Werror=format-security -g -fdebug-prefix-map=/build/python3.7-dIfpci/python3.7-3.7.13=. -fstack-protector-strong -Wformat -Werror=format-security -Wdate-time -D_FORTIFY_SOURCE=2 -fPIC -DWITH_CUDA -I/content/scene_graph_benchmark/maskrcnn_benchmark/csrc -I/usr/local/lib/python3.7/dist-packages/torch/include -I/usr/local/lib/python3.7/dist-packages/torch/include/torch/csrc/api/include -I/usr/local/lib/python3.7/dist-packages/torch/include/TH -I/usr/local/lib/python3.7/dist-packages/torch/include/THC -I/usr/local/cuda/include -I/usr/include/python3.7m -c -c /content/scene_graph_benchmark/maskrcnn_benchmark/csrc/cpu/ROIAlign_cpu.cpp -o /content/scene_graph_benchmark/build/temp.linux-x86_64-3.7/content/scene_graph_benchmark/maskrcnn_benchmark/csrc/cpu/ROIAlign_cpu.o -DTORCH_API_INCLUDE_EXTENSION_H '-DPYBIND11_COMPILER_TYPE=\"_gcc\"' '-DPYBIND11_STDLIB=\"_libstdcpp\"' '-DPYBIND11_BUILD_ABI=\"_cxxabi1011\"' -DTORCH_EXTENSION_NAME=_C -D_GLIBCXX_USE_CXX11_ABI=0 -std=c++14\n",
            "In file included from /usr/local/lib/python3.7/dist-packages/torch/include/ATen/Parallel.h:149:0,\n",
            "                 from /usr/local/lib/python3.7/dist-packages/torch/include/torch/csrc/api/include/torch/utils.h:3,\n",
            "                 from /usr/local/lib/python3.7/dist-packages/torch/include/torch/csrc/api/include/torch/nn/cloneable.h:5,\n",
            "                 from /usr/local/lib/python3.7/dist-packages/torch/include/torch/csrc/api/include/torch/nn.h:3,\n",
            "                 from /usr/local/lib/python3.7/dist-packages/torch/include/torch/csrc/api/include/torch/all.h:12,\n",
            "                 from /usr/local/lib/python3.7/dist-packages/torch/include/torch/extension.h:4,\n",
            "                 from /content/scene_graph_benchmark/maskrcnn_benchmark/csrc/cpu/vision.h:3,\n",
            "                 from /content/scene_graph_benchmark/maskrcnn_benchmark/csrc/cpu/ROIAlign_cpu.cpp:2:\n",
            "/usr/local/lib/python3.7/dist-packages/torch/include/ATen/ParallelOpenMP.h:84:0: warning: ignoring #pragma omp parallel [-Wunknown-pragmas]\n",
            " #pragma omp parallel for if ((end - begin) >= grain_size)\n",
            " \n",
            "[2/11] c++ -MMD -MF /content/scene_graph_benchmark/build/temp.linux-x86_64-3.7/content/scene_graph_benchmark/maskrcnn_benchmark/csrc/cpu/nms_cpu.o.d -pthread -Wno-unused-result -Wsign-compare -DNDEBUG -g -fwrapv -O2 -Wall -g -fdebug-prefix-map=/build/python3.7-dIfpci/python3.7-3.7.13=. -fstack-protector-strong -Wformat -Werror=format-security -g -fdebug-prefix-map=/build/python3.7-dIfpci/python3.7-3.7.13=. -fstack-protector-strong -Wformat -Werror=format-security -Wdate-time -D_FORTIFY_SOURCE=2 -fPIC -DWITH_CUDA -I/content/scene_graph_benchmark/maskrcnn_benchmark/csrc -I/usr/local/lib/python3.7/dist-packages/torch/include -I/usr/local/lib/python3.7/dist-packages/torch/include/torch/csrc/api/include -I/usr/local/lib/python3.7/dist-packages/torch/include/TH -I/usr/local/lib/python3.7/dist-packages/torch/include/THC -I/usr/local/cuda/include -I/usr/include/python3.7m -c -c /content/scene_graph_benchmark/maskrcnn_benchmark/csrc/cpu/nms_cpu.cpp -o /content/scene_graph_benchmark/build/temp.linux-x86_64-3.7/content/scene_graph_benchmark/maskrcnn_benchmark/csrc/cpu/nms_cpu.o -DTORCH_API_INCLUDE_EXTENSION_H '-DPYBIND11_COMPILER_TYPE=\"_gcc\"' '-DPYBIND11_STDLIB=\"_libstdcpp\"' '-DPYBIND11_BUILD_ABI=\"_cxxabi1011\"' -DTORCH_EXTENSION_NAME=_C -D_GLIBCXX_USE_CXX11_ABI=0 -std=c++14\n",
            "In file included from /usr/local/lib/python3.7/dist-packages/torch/include/ATen/Parallel.h:149:0,\n",
            "                 from /usr/local/lib/python3.7/dist-packages/torch/include/torch/csrc/api/include/torch/utils.h:3,\n",
            "                 from /usr/local/lib/python3.7/dist-packages/torch/include/torch/csrc/api/include/torch/nn/cloneable.h:5,\n",
            "                 from /usr/local/lib/python3.7/dist-packages/torch/include/torch/csrc/api/include/torch/nn.h:3,\n",
            "                 from /usr/local/lib/python3.7/dist-packages/torch/include/torch/csrc/api/include/torch/all.h:12,\n",
            "                 from /usr/local/lib/python3.7/dist-packages/torch/include/torch/extension.h:4,\n",
            "                 from /content/scene_graph_benchmark/maskrcnn_benchmark/csrc/cpu/vision.h:3,\n",
            "                 from /content/scene_graph_benchmark/maskrcnn_benchmark/csrc/cpu/nms_cpu.cpp:2:\n",
            "/usr/local/lib/python3.7/dist-packages/torch/include/ATen/ParallelOpenMP.h:84:0: warning: ignoring #pragma omp parallel [-Wunknown-pragmas]\n",
            " #pragma omp parallel for if ((end - begin) >= grain_size)\n",
            " \n",
            "In file included from /usr/local/lib/python3.7/dist-packages/torch/include/c10/core/Device.h:5:0,\n",
            "                 from /usr/local/lib/python3.7/dist-packages/torch/include/c10/core/Allocator.h:6,\n",
            "                 from /usr/local/lib/python3.7/dist-packages/torch/include/ATen/ATen.h:7,\n",
            "                 from /usr/local/lib/python3.7/dist-packages/torch/include/torch/csrc/api/include/torch/types.h:3,\n",
            "                 from /usr/local/lib/python3.7/dist-packages/torch/include/torch/csrc/api/include/torch/data/dataloader_options.h:4,\n",
            "                 from /usr/local/lib/python3.7/dist-packages/torch/include/torch/csrc/api/include/torch/data/dataloader/base.h:3,\n",
            "                 from /usr/local/lib/python3.7/dist-packages/torch/include/torch/csrc/api/include/torch/data/dataloader/stateful.h:3,\n",
            "                 from /usr/local/lib/python3.7/dist-packages/torch/include/torch/csrc/api/include/torch/data/dataloader.h:3,\n",
            "                 from /usr/local/lib/python3.7/dist-packages/torch/include/torch/csrc/api/include/torch/data.h:3,\n",
            "                 from /usr/local/lib/python3.7/dist-packages/torch/include/torch/csrc/api/include/torch/all.h:8,\n",
            "                 from /usr/local/lib/python3.7/dist-packages/torch/include/torch/extension.h:4,\n",
            "                 from /content/scene_graph_benchmark/maskrcnn_benchmark/csrc/cpu/vision.h:3,\n",
            "                 from /content/scene_graph_benchmark/maskrcnn_benchmark/csrc/cpu/nms_cpu.cpp:2:\n",
            "/content/scene_graph_benchmark/maskrcnn_benchmark/csrc/cpu/nms_cpu.cpp: In instantiation of ‘at::Tensor nms_cpu_kernel(const at::Tensor&, const at::Tensor&, float) [with scalar_t = double]’:\n",
            "/content/scene_graph_benchmark/maskrcnn_benchmark/csrc/cpu/nms_cpu.cpp:71:3:   required from here\n",
            "/content/scene_graph_benchmark/maskrcnn_benchmark/csrc/cpu/nms_cpu.cpp:11:23: warning: ‘at::DeprecatedTypeProperties& at::Tensor::type() const’ is deprecated: Tensor.type() is deprecated. Instead use Tensor.options(), which in many cases (e.g. in a constructor) is a drop-in replacement. If you were using data from type(), that is now available from Tensor itself, so instead of tensor.type().scalar_type(), use tensor.scalar_type() instead and instead of tensor.type().backend() use tensor.device(). [-Wdeprecated-declarations]\n",
            "   AT_ASSERTM(dets.type() == scores.type(), \"dets should have the same type as scores\");\n",
            "              ~~~~~~~~~^~\n",
            "/usr/local/lib/python3.7/dist-packages/torch/include/c10/util/Exception.h:219:39: note: in definition of macro ‘C10_EXPAND_MSVC_WORKAROUND’\n",
            " #define C10_EXPAND_MSVC_WORKAROUND(x) x\n",
            "                                       ^\n",
            "/usr/local/lib/python3.7/dist-packages/torch/include/c10/util/Exception.h:238:34: note: in expansion of macro ‘C10_UNLIKELY’\n",
            " #define C10_UNLIKELY_OR_CONST(e) C10_UNLIKELY(e)\n",
            "                                  ^~~~~~~~~~~~\n",
            "/usr/local/lib/python3.7/dist-packages/torch/include/c10/util/Exception.h:285:7: note: in expansion of macro ‘C10_UNLIKELY_OR_CONST’\n",
            "   if (C10_UNLIKELY_OR_CONST(!(cond))) {       \\\n",
            "       ^~~~~~~~~~~~~~~~~~~~~\n",
            "/usr/local/lib/python3.7/dist-packages/torch/include/c10/util/Exception.h:447:32: note: in expansion of macro ‘TORCH_INTERNAL_ASSERT’\n",
            "     C10_EXPAND_MSVC_WORKAROUND(TORCH_INTERNAL_ASSERT(cond, __VA_ARGS__));     \\\n",
            "                                ^~~~~~~~~~~~~~~~~~~~~\n",
            "/content/scene_graph_benchmark/maskrcnn_benchmark/csrc/cpu/nms_cpu.cpp:11:3: note: in expansion of macro ‘AT_ASSERTM’\n",
            "   AT_ASSERTM(dets.type() == scores.type(), \"dets should have the same type as scores\");\n",
            "   ^~~~~~~~~~\n",
            "In file included from /usr/local/lib/python3.7/dist-packages/torch/include/ATen/Tensor.h:3:0,\n",
            "                 from /usr/local/lib/python3.7/dist-packages/torch/include/ATen/Context.h:4,\n",
            "                 from /usr/local/lib/python3.7/dist-packages/torch/include/ATen/ATen.h:9,\n",
            "                 from /usr/local/lib/python3.7/dist-packages/torch/include/torch/csrc/api/include/torch/types.h:3,\n",
            "                 from /usr/local/lib/python3.7/dist-packages/torch/include/torch/csrc/api/include/torch/data/dataloader_options.h:4,\n",
            "                 from /usr/local/lib/python3.7/dist-packages/torch/include/torch/csrc/api/include/torch/data/dataloader/base.h:3,\n",
            "                 from /usr/local/lib/python3.7/dist-packages/torch/include/torch/csrc/api/include/torch/data/dataloader/stateful.h:3,\n",
            "                 from /usr/local/lib/python3.7/dist-packages/torch/include/torch/csrc/api/include/torch/data/dataloader.h:3,\n",
            "                 from /usr/local/lib/python3.7/dist-packages/torch/include/torch/csrc/api/include/torch/data.h:3,\n",
            "                 from /usr/local/lib/python3.7/dist-packages/torch/include/torch/csrc/api/include/torch/all.h:8,\n",
            "                 from /usr/local/lib/python3.7/dist-packages/torch/include/torch/extension.h:4,\n",
            "                 from /content/scene_graph_benchmark/maskrcnn_benchmark/csrc/cpu/vision.h:3,\n",
            "                 from /content/scene_graph_benchmark/maskrcnn_benchmark/csrc/cpu/nms_cpu.cpp:2:\n",
            "/usr/local/lib/python3.7/dist-packages/torch/include/ATen/core/TensorBody.h:277:30: note: declared here\n",
            "   DeprecatedTypeProperties & type() const {\n",
            "                              ^~~~\n",
            "In file included from /usr/local/lib/python3.7/dist-packages/torch/include/c10/core/Device.h:5:0,\n",
            "                 from /usr/local/lib/python3.7/dist-packages/torch/include/c10/core/Allocator.h:6,\n",
            "                 from /usr/local/lib/python3.7/dist-packages/torch/include/ATen/ATen.h:7,\n",
            "                 from /usr/local/lib/python3.7/dist-packages/torch/include/torch/csrc/api/include/torch/types.h:3,\n",
            "                 from /usr/local/lib/python3.7/dist-packages/torch/include/torch/csrc/api/include/torch/data/dataloader_options.h:4,\n",
            "                 from /usr/local/lib/python3.7/dist-packages/torch/include/torch/csrc/api/include/torch/data/dataloader/base.h:3,\n",
            "                 from /usr/local/lib/python3.7/dist-packages/torch/include/torch/csrc/api/include/torch/data/dataloader/stateful.h:3,\n",
            "                 from /usr/local/lib/python3.7/dist-packages/torch/include/torch/csrc/api/include/torch/data/dataloader.h:3,\n",
            "                 from /usr/local/lib/python3.7/dist-packages/torch/include/torch/csrc/api/include/torch/data.h:3,\n",
            "                 from /usr/local/lib/python3.7/dist-packages/torch/include/torch/csrc/api/include/torch/all.h:8,\n",
            "                 from /usr/local/lib/python3.7/dist-packages/torch/include/torch/extension.h:4,\n",
            "                 from /content/scene_graph_benchmark/maskrcnn_benchmark/csrc/cpu/vision.h:3,\n",
            "                 from /content/scene_graph_benchmark/maskrcnn_benchmark/csrc/cpu/nms_cpu.cpp:2:\n",
            "/content/scene_graph_benchmark/maskrcnn_benchmark/csrc/cpu/nms_cpu.cpp:11:23: warning: ‘at::DeprecatedTypeProperties& at::Tensor::type() const’ is deprecated: Tensor.type() is deprecated. Instead use Tensor.options(), which in many cases (e.g. in a constructor) is a drop-in replacement. If you were using data from type(), that is now available from Tensor itself, so instead of tensor.type().scalar_type(), use tensor.scalar_type() instead and instead of tensor.type().backend() use tensor.device(). [-Wdeprecated-declarations]\n",
            "   AT_ASSERTM(dets.type() == scores.type(), \"dets should have the same type as scores\");\n",
            "              ~~~~~~~~~^~\n",
            "/usr/local/lib/python3.7/dist-packages/torch/include/c10/util/Exception.h:219:39: note: in definition of macro ‘C10_EXPAND_MSVC_WORKAROUND’\n",
            " #define C10_EXPAND_MSVC_WORKAROUND(x) x\n",
            "                                       ^\n",
            "/usr/local/lib/python3.7/dist-packages/torch/include/c10/util/Exception.h:238:34: note: in expansion of macro ‘C10_UNLIKELY’\n",
            " #define C10_UNLIKELY_OR_CONST(e) C10_UNLIKELY(e)\n",
            "                                  ^~~~~~~~~~~~\n",
            "/usr/local/lib/python3.7/dist-packages/torch/include/c10/util/Exception.h:285:7: note: in expansion of macro ‘C10_UNLIKELY_OR_CONST’\n",
            "   if (C10_UNLIKELY_OR_CONST(!(cond))) {       \\\n",
            "       ^~~~~~~~~~~~~~~~~~~~~\n",
            "/usr/local/lib/python3.7/dist-packages/torch/include/c10/util/Exception.h:447:32: note: in expansion of macro ‘TORCH_INTERNAL_ASSERT’\n",
            "     C10_EXPAND_MSVC_WORKAROUND(TORCH_INTERNAL_ASSERT(cond, __VA_ARGS__));     \\\n",
            "                                ^~~~~~~~~~~~~~~~~~~~~\n",
            "/content/scene_graph_benchmark/maskrcnn_benchmark/csrc/cpu/nms_cpu.cpp:11:3: note: in expansion of macro ‘AT_ASSERTM’\n",
            "   AT_ASSERTM(dets.type() == scores.type(), \"dets should have the same type as scores\");\n",
            "   ^~~~~~~~~~\n",
            "In file included from /usr/local/lib/python3.7/dist-packages/torch/include/ATen/Tensor.h:3:0,\n",
            "                 from /usr/local/lib/python3.7/dist-packages/torch/include/ATen/Context.h:4,\n",
            "                 from /usr/local/lib/python3.7/dist-packages/torch/include/ATen/ATen.h:9,\n",
            "                 from /usr/local/lib/python3.7/dist-packages/torch/include/torch/csrc/api/include/torch/types.h:3,\n",
            "                 from /usr/local/lib/python3.7/dist-packages/torch/include/torch/csrc/api/include/torch/data/dataloader_options.h:4,\n",
            "                 from /usr/local/lib/python3.7/dist-packages/torch/include/torch/csrc/api/include/torch/data/dataloader/base.h:3,\n",
            "                 from /usr/local/lib/python3.7/dist-packages/torch/include/torch/csrc/api/include/torch/data/dataloader/stateful.h:3,\n",
            "                 from /usr/local/lib/python3.7/dist-packages/torch/include/torch/csrc/api/include/torch/data/dataloader.h:3,\n",
            "                 from /usr/local/lib/python3.7/dist-packages/torch/include/torch/csrc/api/include/torch/data.h:3,\n",
            "                 from /usr/local/lib/python3.7/dist-packages/torch/include/torch/csrc/api/include/torch/all.h:8,\n",
            "                 from /usr/local/lib/python3.7/dist-packages/torch/include/torch/extension.h:4,\n",
            "                 from /content/scene_graph_benchmark/maskrcnn_benchmark/csrc/cpu/vision.h:3,\n",
            "                 from /content/scene_graph_benchmark/maskrcnn_benchmark/csrc/cpu/nms_cpu.cpp:2:\n",
            "/usr/local/lib/python3.7/dist-packages/torch/include/ATen/core/TensorBody.h:277:30: note: declared here\n",
            "   DeprecatedTypeProperties & type() const {\n",
            "                              ^~~~\n",
            "In file included from /usr/local/lib/python3.7/dist-packages/torch/include/c10/core/Device.h:5:0,\n",
            "                 from /usr/local/lib/python3.7/dist-packages/torch/include/c10/core/Allocator.h:6,\n",
            "                 from /usr/local/lib/python3.7/dist-packages/torch/include/ATen/ATen.h:7,\n",
            "                 from /usr/local/lib/python3.7/dist-packages/torch/include/torch/csrc/api/include/torch/types.h:3,\n",
            "                 from /usr/local/lib/python3.7/dist-packages/torch/include/torch/csrc/api/include/torch/data/dataloader_options.h:4,\n",
            "                 from /usr/local/lib/python3.7/dist-packages/torch/include/torch/csrc/api/include/torch/data/dataloader/base.h:3,\n",
            "                 from /usr/local/lib/python3.7/dist-packages/torch/include/torch/csrc/api/include/torch/data/dataloader/stateful.h:3,\n",
            "                 from /usr/local/lib/python3.7/dist-packages/torch/include/torch/csrc/api/include/torch/data/dataloader.h:3,\n",
            "                 from /usr/local/lib/python3.7/dist-packages/torch/include/torch/csrc/api/include/torch/data.h:3,\n",
            "                 from /usr/local/lib/python3.7/dist-packages/torch/include/torch/csrc/api/include/torch/all.h:8,\n",
            "                 from /usr/local/lib/python3.7/dist-packages/torch/include/torch/extension.h:4,\n",
            "                 from /content/scene_graph_benchmark/maskrcnn_benchmark/csrc/cpu/vision.h:3,\n",
            "                 from /content/scene_graph_benchmark/maskrcnn_benchmark/csrc/cpu/nms_cpu.cpp:2:\n",
            "/content/scene_graph_benchmark/maskrcnn_benchmark/csrc/cpu/nms_cpu.cpp:11:40: warning: ‘at::DeprecatedTypeProperties& at::Tensor::type() const’ is deprecated: Tensor.type() is deprecated. Instead use Tensor.options(), which in many cases (e.g. in a constructor) is a drop-in replacement. If you were using data from type(), that is now available from Tensor itself, so instead of tensor.type().scalar_type(), use tensor.scalar_type() instead and instead of tensor.type().backend() use tensor.device(). [-Wdeprecated-declarations]\n",
            "   AT_ASSERTM(dets.type() == scores.type(), \"dets should have the same type as scores\");\n",
            "                             ~~~~~~~~~~~^~\n",
            "/usr/local/lib/python3.7/dist-packages/torch/include/c10/util/Exception.h:219:39: note: in definition of macro ‘C10_EXPAND_MSVC_WORKAROUND’\n",
            " #define C10_EXPAND_MSVC_WORKAROUND(x) x\n",
            "                                       ^\n",
            "/usr/local/lib/python3.7/dist-packages/torch/include/c10/util/Exception.h:238:34: note: in expansion of macro ‘C10_UNLIKELY’\n",
            " #define C10_UNLIKELY_OR_CONST(e) C10_UNLIKELY(e)\n",
            "                                  ^~~~~~~~~~~~\n",
            "/usr/local/lib/python3.7/dist-packages/torch/include/c10/util/Exception.h:285:7: note: in expansion of macro ‘C10_UNLIKELY_OR_CONST’\n",
            "   if (C10_UNLIKELY_OR_CONST(!(cond))) {       \\\n",
            "       ^~~~~~~~~~~~~~~~~~~~~\n",
            "/usr/local/lib/python3.7/dist-packages/torch/include/c10/util/Exception.h:447:32: note: in expansion of macro ‘TORCH_INTERNAL_ASSERT’\n",
            "     C10_EXPAND_MSVC_WORKAROUND(TORCH_INTERNAL_ASSERT(cond, __VA_ARGS__));     \\\n",
            "                                ^~~~~~~~~~~~~~~~~~~~~\n",
            "/content/scene_graph_benchmark/maskrcnn_benchmark/csrc/cpu/nms_cpu.cpp:11:3: note: in expansion of macro ‘AT_ASSERTM’\n",
            "   AT_ASSERTM(dets.type() == scores.type(), \"dets should have the same type as scores\");\n",
            "   ^~~~~~~~~~\n",
            "In file included from /usr/local/lib/python3.7/dist-packages/torch/include/ATen/Tensor.h:3:0,\n",
            "                 from /usr/local/lib/python3.7/dist-packages/torch/include/ATen/Context.h:4,\n",
            "                 from /usr/local/lib/python3.7/dist-packages/torch/include/ATen/ATen.h:9,\n",
            "                 from /usr/local/lib/python3.7/dist-packages/torch/include/torch/csrc/api/include/torch/types.h:3,\n",
            "                 from /usr/local/lib/python3.7/dist-packages/torch/include/torch/csrc/api/include/torch/data/dataloader_options.h:4,\n",
            "                 from /usr/local/lib/python3.7/dist-packages/torch/include/torch/csrc/api/include/torch/data/dataloader/base.h:3,\n",
            "                 from /usr/local/lib/python3.7/dist-packages/torch/include/torch/csrc/api/include/torch/data/dataloader/stateful.h:3,\n",
            "                 from /usr/local/lib/python3.7/dist-packages/torch/include/torch/csrc/api/include/torch/data/dataloader.h:3,\n",
            "                 from /usr/local/lib/python3.7/dist-packages/torch/include/torch/csrc/api/include/torch/data.h:3,\n",
            "                 from /usr/local/lib/python3.7/dist-packages/torch/include/torch/csrc/api/include/torch/all.h:8,\n",
            "                 from /usr/local/lib/python3.7/dist-packages/torch/include/torch/extension.h:4,\n",
            "                 from /content/scene_graph_benchmark/maskrcnn_benchmark/csrc/cpu/vision.h:3,\n",
            "                 from /content/scene_graph_benchmark/maskrcnn_benchmark/csrc/cpu/nms_cpu.cpp:2:\n",
            "/usr/local/lib/python3.7/dist-packages/torch/include/ATen/core/TensorBody.h:277:30: note: declared here\n",
            "   DeprecatedTypeProperties & type() const {\n",
            "                              ^~~~\n",
            "In file included from /usr/local/lib/python3.7/dist-packages/torch/include/c10/core/Device.h:5:0,\n",
            "                 from /usr/local/lib/python3.7/dist-packages/torch/include/c10/core/Allocator.h:6,\n",
            "                 from /usr/local/lib/python3.7/dist-packages/torch/include/ATen/ATen.h:7,\n",
            "                 from /usr/local/lib/python3.7/dist-packages/torch/include/torch/csrc/api/include/torch/types.h:3,\n",
            "                 from /usr/local/lib/python3.7/dist-packages/torch/include/torch/csrc/api/include/torch/data/dataloader_options.h:4,\n",
            "                 from /usr/local/lib/python3.7/dist-packages/torch/include/torch/csrc/api/include/torch/data/dataloader/base.h:3,\n",
            "                 from /usr/local/lib/python3.7/dist-packages/torch/include/torch/csrc/api/include/torch/data/dataloader/stateful.h:3,\n",
            "                 from /usr/local/lib/python3.7/dist-packages/torch/include/torch/csrc/api/include/torch/data/dataloader.h:3,\n",
            "                 from /usr/local/lib/python3.7/dist-packages/torch/include/torch/csrc/api/include/torch/data.h:3,\n",
            "                 from /usr/local/lib/python3.7/dist-packages/torch/include/torch/csrc/api/include/torch/all.h:8,\n",
            "                 from /usr/local/lib/python3.7/dist-packages/torch/include/torch/extension.h:4,\n",
            "                 from /content/scene_graph_benchmark/maskrcnn_benchmark/csrc/cpu/vision.h:3,\n",
            "                 from /content/scene_graph_benchmark/maskrcnn_benchmark/csrc/cpu/nms_cpu.cpp:2:\n",
            "/content/scene_graph_benchmark/maskrcnn_benchmark/csrc/cpu/nms_cpu.cpp:11:40: warning: ‘at::DeprecatedTypeProperties& at::Tensor::type() const’ is deprecated: Tensor.type() is deprecated. Instead use Tensor.options(), which in many cases (e.g. in a constructor) is a drop-in replacement. If you were using data from type(), that is now available from Tensor itself, so instead of tensor.type().scalar_type(), use tensor.scalar_type() instead and instead of tensor.type().backend() use tensor.device(). [-Wdeprecated-declarations]\n",
            "   AT_ASSERTM(dets.type() == scores.type(), \"dets should have the same type as scores\");\n",
            "                             ~~~~~~~~~~~^~\n",
            "/usr/local/lib/python3.7/dist-packages/torch/include/c10/util/Exception.h:219:39: note: in definition of macro ‘C10_EXPAND_MSVC_WORKAROUND’\n",
            " #define C10_EXPAND_MSVC_WORKAROUND(x) x\n",
            "                                       ^\n",
            "/usr/local/lib/python3.7/dist-packages/torch/include/c10/util/Exception.h:238:34: note: in expansion of macro ‘C10_UNLIKELY’\n",
            " #define C10_UNLIKELY_OR_CONST(e) C10_UNLIKELY(e)\n",
            "                                  ^~~~~~~~~~~~\n",
            "/usr/local/lib/python3.7/dist-packages/torch/include/c10/util/Exception.h:285:7: note: in expansion of macro ‘C10_UNLIKELY_OR_CONST’\n",
            "   if (C10_UNLIKELY_OR_CONST(!(cond))) {       \\\n",
            "       ^~~~~~~~~~~~~~~~~~~~~\n",
            "/usr/local/lib/python3.7/dist-packages/torch/include/c10/util/Exception.h:447:32: note: in expansion of macro ‘TORCH_INTERNAL_ASSERT’\n",
            "     C10_EXPAND_MSVC_WORKAROUND(TORCH_INTERNAL_ASSERT(cond, __VA_ARGS__));     \\\n",
            "                                ^~~~~~~~~~~~~~~~~~~~~\n",
            "/content/scene_graph_benchmark/maskrcnn_benchmark/csrc/cpu/nms_cpu.cpp:11:3: note: in expansion of macro ‘AT_ASSERTM’\n",
            "   AT_ASSERTM(dets.type() == scores.type(), \"dets should have the same type as scores\");\n",
            "   ^~~~~~~~~~\n",
            "In file included from /usr/local/lib/python3.7/dist-packages/torch/include/ATen/Tensor.h:3:0,\n",
            "                 from /usr/local/lib/python3.7/dist-packages/torch/include/ATen/Context.h:4,\n",
            "                 from /usr/local/lib/python3.7/dist-packages/torch/include/ATen/ATen.h:9,\n",
            "                 from /usr/local/lib/python3.7/dist-packages/torch/include/torch/csrc/api/include/torch/types.h:3,\n",
            "                 from /usr/local/lib/python3.7/dist-packages/torch/include/torch/csrc/api/include/torch/data/dataloader_options.h:4,\n",
            "                 from /usr/local/lib/python3.7/dist-packages/torch/include/torch/csrc/api/include/torch/data/dataloader/base.h:3,\n",
            "                 from /usr/local/lib/python3.7/dist-packages/torch/include/torch/csrc/api/include/torch/data/dataloader/stateful.h:3,\n",
            "                 from /usr/local/lib/python3.7/dist-packages/torch/include/torch/csrc/api/include/torch/data/dataloader.h:3,\n",
            "                 from /usr/local/lib/python3.7/dist-packages/torch/include/torch/csrc/api/include/torch/data.h:3,\n",
            "                 from /usr/local/lib/python3.7/dist-packages/torch/include/torch/csrc/api/include/torch/all.h:8,\n",
            "                 from /usr/local/lib/python3.7/dist-packages/torch/include/torch/extension.h:4,\n",
            "                 from /content/scene_graph_benchmark/maskrcnn_benchmark/csrc/cpu/vision.h:3,\n",
            "                 from /content/scene_graph_benchmark/maskrcnn_benchmark/csrc/cpu/nms_cpu.cpp:2:\n",
            "/usr/local/lib/python3.7/dist-packages/torch/include/ATen/core/TensorBody.h:277:30: note: declared here\n",
            "   DeprecatedTypeProperties & type() const {\n",
            "                              ^~~~\n",
            "In file included from /usr/local/lib/python3.7/dist-packages/torch/include/c10/core/Device.h:5:0,\n",
            "                 from /usr/local/lib/python3.7/dist-packages/torch/include/c10/core/Allocator.h:6,\n",
            "                 from /usr/local/lib/python3.7/dist-packages/torch/include/ATen/ATen.h:7,\n",
            "                 from /usr/local/lib/python3.7/dist-packages/torch/include/torch/csrc/api/include/torch/types.h:3,\n",
            "                 from /usr/local/lib/python3.7/dist-packages/torch/include/torch/csrc/api/include/torch/data/dataloader_options.h:4,\n",
            "                 from /usr/local/lib/python3.7/dist-packages/torch/include/torch/csrc/api/include/torch/data/dataloader/base.h:3,\n",
            "                 from /usr/local/lib/python3.7/dist-packages/torch/include/torch/csrc/api/include/torch/data/dataloader/stateful.h:3,\n",
            "                 from /usr/local/lib/python3.7/dist-packages/torch/include/torch/csrc/api/include/torch/data/dataloader.h:3,\n",
            "                 from /usr/local/lib/python3.7/dist-packages/torch/include/torch/csrc/api/include/torch/data.h:3,\n",
            "                 from /usr/local/lib/python3.7/dist-packages/torch/include/torch/csrc/api/include/torch/all.h:8,\n",
            "                 from /usr/local/lib/python3.7/dist-packages/torch/include/torch/extension.h:4,\n",
            "                 from /content/scene_graph_benchmark/maskrcnn_benchmark/csrc/cpu/vision.h:3,\n",
            "                 from /content/scene_graph_benchmark/maskrcnn_benchmark/csrc/cpu/nms_cpu.cpp:2:\n",
            "/content/scene_graph_benchmark/maskrcnn_benchmark/csrc/cpu/nms_cpu.cpp: In instantiation of ‘at::Tensor nms_cpu_kernel(const at::Tensor&, const at::Tensor&, float) [with scalar_t = float]’:\n",
            "/content/scene_graph_benchmark/maskrcnn_benchmark/csrc/cpu/nms_cpu.cpp:71:3:   required from here\n",
            "/content/scene_graph_benchmark/maskrcnn_benchmark/csrc/cpu/nms_cpu.cpp:11:23: warning: ‘at::DeprecatedTypeProperties& at::Tensor::type() const’ is deprecated: Tensor.type() is deprecated. Instead use Tensor.options(), which in many cases (e.g. in a constructor) is a drop-in replacement. If you were using data from type(), that is now available from Tensor itself, so instead of tensor.type().scalar_type(), use tensor.scalar_type() instead and instead of tensor.type().backend() use tensor.device(). [-Wdeprecated-declarations]\n",
            "   AT_ASSERTM(dets.type() == scores.type(), \"dets should have the same type as scores\");\n",
            "              ~~~~~~~~~^~\n",
            "/usr/local/lib/python3.7/dist-packages/torch/include/c10/util/Exception.h:219:39: note: in definition of macro ‘C10_EXPAND_MSVC_WORKAROUND’\n",
            " #define C10_EXPAND_MSVC_WORKAROUND(x) x\n",
            "                                       ^\n",
            "/usr/local/lib/python3.7/dist-packages/torch/include/c10/util/Exception.h:238:34: note: in expansion of macro ‘C10_UNLIKELY’\n",
            " #define C10_UNLIKELY_OR_CONST(e) C10_UNLIKELY(e)\n",
            "                                  ^~~~~~~~~~~~\n",
            "/usr/local/lib/python3.7/dist-packages/torch/include/c10/util/Exception.h:285:7: note: in expansion of macro ‘C10_UNLIKELY_OR_CONST’\n",
            "   if (C10_UNLIKELY_OR_CONST(!(cond))) {       \\\n",
            "       ^~~~~~~~~~~~~~~~~~~~~\n",
            "/usr/local/lib/python3.7/dist-packages/torch/include/c10/util/Exception.h:447:32: note: in expansion of macro ‘TORCH_INTERNAL_ASSERT’\n",
            "     C10_EXPAND_MSVC_WORKAROUND(TORCH_INTERNAL_ASSERT(cond, __VA_ARGS__));     \\\n",
            "                                ^~~~~~~~~~~~~~~~~~~~~\n",
            "/content/scene_graph_benchmark/maskrcnn_benchmark/csrc/cpu/nms_cpu.cpp:11:3: note: in expansion of macro ‘AT_ASSERTM’\n",
            "   AT_ASSERTM(dets.type() == scores.type(), \"dets should have the same type as scores\");\n",
            "   ^~~~~~~~~~\n",
            "In file included from /usr/local/lib/python3.7/dist-packages/torch/include/ATen/Tensor.h:3:0,\n",
            "                 from /usr/local/lib/python3.7/dist-packages/torch/include/ATen/Context.h:4,\n",
            "                 from /usr/local/lib/python3.7/dist-packages/torch/include/ATen/ATen.h:9,\n",
            "                 from /usr/local/lib/python3.7/dist-packages/torch/include/torch/csrc/api/include/torch/types.h:3,\n",
            "                 from /usr/local/lib/python3.7/dist-packages/torch/include/torch/csrc/api/include/torch/data/dataloader_options.h:4,\n",
            "                 from /usr/local/lib/python3.7/dist-packages/torch/include/torch/csrc/api/include/torch/data/dataloader/base.h:3,\n",
            "                 from /usr/local/lib/python3.7/dist-packages/torch/include/torch/csrc/api/include/torch/data/dataloader/stateful.h:3,\n",
            "                 from /usr/local/lib/python3.7/dist-packages/torch/include/torch/csrc/api/include/torch/data/dataloader.h:3,\n",
            "                 from /usr/local/lib/python3.7/dist-packages/torch/include/torch/csrc/api/include/torch/data.h:3,\n",
            "                 from /usr/local/lib/python3.7/dist-packages/torch/include/torch/csrc/api/include/torch/all.h:8,\n",
            "                 from /usr/local/lib/python3.7/dist-packages/torch/include/torch/extension.h:4,\n",
            "                 from /content/scene_graph_benchmark/maskrcnn_benchmark/csrc/cpu/vision.h:3,\n",
            "                 from /content/scene_graph_benchmark/maskrcnn_benchmark/csrc/cpu/nms_cpu.cpp:2:\n",
            "/usr/local/lib/python3.7/dist-packages/torch/include/ATen/core/TensorBody.h:277:30: note: declared here\n",
            "   DeprecatedTypeProperties & type() const {\n",
            "                              ^~~~\n",
            "In file included from /usr/local/lib/python3.7/dist-packages/torch/include/c10/core/Device.h:5:0,\n",
            "                 from /usr/local/lib/python3.7/dist-packages/torch/include/c10/core/Allocator.h:6,\n",
            "                 from /usr/local/lib/python3.7/dist-packages/torch/include/ATen/ATen.h:7,\n",
            "                 from /usr/local/lib/python3.7/dist-packages/torch/include/torch/csrc/api/include/torch/types.h:3,\n",
            "                 from /usr/local/lib/python3.7/dist-packages/torch/include/torch/csrc/api/include/torch/data/dataloader_options.h:4,\n",
            "                 from /usr/local/lib/python3.7/dist-packages/torch/include/torch/csrc/api/include/torch/data/dataloader/base.h:3,\n",
            "                 from /usr/local/lib/python3.7/dist-packages/torch/include/torch/csrc/api/include/torch/data/dataloader/stateful.h:3,\n",
            "                 from /usr/local/lib/python3.7/dist-packages/torch/include/torch/csrc/api/include/torch/data/dataloader.h:3,\n",
            "                 from /usr/local/lib/python3.7/dist-packages/torch/include/torch/csrc/api/include/torch/data.h:3,\n",
            "                 from /usr/local/lib/python3.7/dist-packages/torch/include/torch/csrc/api/include/torch/all.h:8,\n",
            "                 from /usr/local/lib/python3.7/dist-packages/torch/include/torch/extension.h:4,\n",
            "                 from /content/scene_graph_benchmark/maskrcnn_benchmark/csrc/cpu/vision.h:3,\n",
            "                 from /content/scene_graph_benchmark/maskrcnn_benchmark/csrc/cpu/nms_cpu.cpp:2:\n",
            "/content/scene_graph_benchmark/maskrcnn_benchmark/csrc/cpu/nms_cpu.cpp:11:23: warning: ‘at::DeprecatedTypeProperties& at::Tensor::type() const’ is deprecated: Tensor.type() is deprecated. Instead use Tensor.options(), which in many cases (e.g. in a constructor) is a drop-in replacement. If you were using data from type(), that is now available from Tensor itself, so instead of tensor.type().scalar_type(), use tensor.scalar_type() instead and instead of tensor.type().backend() use tensor.device(). [-Wdeprecated-declarations]\n",
            "   AT_ASSERTM(dets.type() == scores.type(), \"dets should have the same type as scores\");\n",
            "              ~~~~~~~~~^~\n",
            "/usr/local/lib/python3.7/dist-packages/torch/include/c10/util/Exception.h:219:39: note: in definition of macro ‘C10_EXPAND_MSVC_WORKAROUND’\n",
            " #define C10_EXPAND_MSVC_WORKAROUND(x) x\n",
            "                                       ^\n",
            "/usr/local/lib/python3.7/dist-packages/torch/include/c10/util/Exception.h:238:34: note: in expansion of macro ‘C10_UNLIKELY’\n",
            " #define C10_UNLIKELY_OR_CONST(e) C10_UNLIKELY(e)\n",
            "                                  ^~~~~~~~~~~~\n",
            "/usr/local/lib/python3.7/dist-packages/torch/include/c10/util/Exception.h:285:7: note: in expansion of macro ‘C10_UNLIKELY_OR_CONST’\n",
            "   if (C10_UNLIKELY_OR_CONST(!(cond))) {       \\\n",
            "       ^~~~~~~~~~~~~~~~~~~~~\n",
            "/usr/local/lib/python3.7/dist-packages/torch/include/c10/util/Exception.h:447:32: note: in expansion of macro ‘TORCH_INTERNAL_ASSERT’\n",
            "     C10_EXPAND_MSVC_WORKAROUND(TORCH_INTERNAL_ASSERT(cond, __VA_ARGS__));     \\\n",
            "                                ^~~~~~~~~~~~~~~~~~~~~\n",
            "/content/scene_graph_benchmark/maskrcnn_benchmark/csrc/cpu/nms_cpu.cpp:11:3: note: in expansion of macro ‘AT_ASSERTM’\n",
            "   AT_ASSERTM(dets.type() == scores.type(), \"dets should have the same type as scores\");\n",
            "   ^~~~~~~~~~\n",
            "In file included from /usr/local/lib/python3.7/dist-packages/torch/include/ATen/Tensor.h:3:0,\n",
            "                 from /usr/local/lib/python3.7/dist-packages/torch/include/ATen/Context.h:4,\n",
            "                 from /usr/local/lib/python3.7/dist-packages/torch/include/ATen/ATen.h:9,\n",
            "                 from /usr/local/lib/python3.7/dist-packages/torch/include/torch/csrc/api/include/torch/types.h:3,\n",
            "                 from /usr/local/lib/python3.7/dist-packages/torch/include/torch/csrc/api/include/torch/data/dataloader_options.h:4,\n",
            "                 from /usr/local/lib/python3.7/dist-packages/torch/include/torch/csrc/api/include/torch/data/dataloader/base.h:3,\n",
            "                 from /usr/local/lib/python3.7/dist-packages/torch/include/torch/csrc/api/include/torch/data/dataloader/stateful.h:3,\n",
            "                 from /usr/local/lib/python3.7/dist-packages/torch/include/torch/csrc/api/include/torch/data/dataloader.h:3,\n",
            "                 from /usr/local/lib/python3.7/dist-packages/torch/include/torch/csrc/api/include/torch/data.h:3,\n",
            "                 from /usr/local/lib/python3.7/dist-packages/torch/include/torch/csrc/api/include/torch/all.h:8,\n",
            "                 from /usr/local/lib/python3.7/dist-packages/torch/include/torch/extension.h:4,\n",
            "                 from /content/scene_graph_benchmark/maskrcnn_benchmark/csrc/cpu/vision.h:3,\n",
            "                 from /content/scene_graph_benchmark/maskrcnn_benchmark/csrc/cpu/nms_cpu.cpp:2:\n",
            "/usr/local/lib/python3.7/dist-packages/torch/include/ATen/core/TensorBody.h:277:30: note: declared here\n",
            "   DeprecatedTypeProperties & type() const {\n",
            "                              ^~~~\n",
            "In file included from /usr/local/lib/python3.7/dist-packages/torch/include/c10/core/Device.h:5:0,\n",
            "                 from /usr/local/lib/python3.7/dist-packages/torch/include/c10/core/Allocator.h:6,\n",
            "                 from /usr/local/lib/python3.7/dist-packages/torch/include/ATen/ATen.h:7,\n",
            "                 from /usr/local/lib/python3.7/dist-packages/torch/include/torch/csrc/api/include/torch/types.h:3,\n",
            "                 from /usr/local/lib/python3.7/dist-packages/torch/include/torch/csrc/api/include/torch/data/dataloader_options.h:4,\n",
            "                 from /usr/local/lib/python3.7/dist-packages/torch/include/torch/csrc/api/include/torch/data/dataloader/base.h:3,\n",
            "                 from /usr/local/lib/python3.7/dist-packages/torch/include/torch/csrc/api/include/torch/data/dataloader/stateful.h:3,\n",
            "                 from /usr/local/lib/python3.7/dist-packages/torch/include/torch/csrc/api/include/torch/data/dataloader.h:3,\n",
            "                 from /usr/local/lib/python3.7/dist-packages/torch/include/torch/csrc/api/include/torch/data.h:3,\n",
            "                 from /usr/local/lib/python3.7/dist-packages/torch/include/torch/csrc/api/include/torch/all.h:8,\n",
            "                 from /usr/local/lib/python3.7/dist-packages/torch/include/torch/extension.h:4,\n",
            "                 from /content/scene_graph_benchmark/maskrcnn_benchmark/csrc/cpu/vision.h:3,\n",
            "                 from /content/scene_graph_benchmark/maskrcnn_benchmark/csrc/cpu/nms_cpu.cpp:2:\n",
            "/content/scene_graph_benchmark/maskrcnn_benchmark/csrc/cpu/nms_cpu.cpp:11:40: warning: ‘at::DeprecatedTypeProperties& at::Tensor::type() const’ is deprecated: Tensor.type() is deprecated. Instead use Tensor.options(), which in many cases (e.g. in a constructor) is a drop-in replacement. If you were using data from type(), that is now available from Tensor itself, so instead of tensor.type().scalar_type(), use tensor.scalar_type() instead and instead of tensor.type().backend() use tensor.device(). [-Wdeprecated-declarations]\n",
            "   AT_ASSERTM(dets.type() == scores.type(), \"dets should have the same type as scores\");\n",
            "                             ~~~~~~~~~~~^~\n",
            "/usr/local/lib/python3.7/dist-packages/torch/include/c10/util/Exception.h:219:39: note: in definition of macro ‘C10_EXPAND_MSVC_WORKAROUND’\n",
            " #define C10_EXPAND_MSVC_WORKAROUND(x) x\n",
            "                                       ^\n",
            "/usr/local/lib/python3.7/dist-packages/torch/include/c10/util/Exception.h:238:34: note: in expansion of macro ‘C10_UNLIKELY’\n",
            " #define C10_UNLIKELY_OR_CONST(e) C10_UNLIKELY(e)\n",
            "                                  ^~~~~~~~~~~~\n",
            "/usr/local/lib/python3.7/dist-packages/torch/include/c10/util/Exception.h:285:7: note: in expansion of macro ‘C10_UNLIKELY_OR_CONST’\n",
            "   if (C10_UNLIKELY_OR_CONST(!(cond))) {       \\\n",
            "       ^~~~~~~~~~~~~~~~~~~~~\n",
            "/usr/local/lib/python3.7/dist-packages/torch/include/c10/util/Exception.h:447:32: note: in expansion of macro ‘TORCH_INTERNAL_ASSERT’\n",
            "     C10_EXPAND_MSVC_WORKAROUND(TORCH_INTERNAL_ASSERT(cond, __VA_ARGS__));     \\\n",
            "                                ^~~~~~~~~~~~~~~~~~~~~\n",
            "/content/scene_graph_benchmark/maskrcnn_benchmark/csrc/cpu/nms_cpu.cpp:11:3: note: in expansion of macro ‘AT_ASSERTM’\n",
            "   AT_ASSERTM(dets.type() == scores.type(), \"dets should have the same type as scores\");\n",
            "   ^~~~~~~~~~\n",
            "In file included from /usr/local/lib/python3.7/dist-packages/torch/include/ATen/Tensor.h:3:0,\n",
            "                 from /usr/local/lib/python3.7/dist-packages/torch/include/ATen/Context.h:4,\n",
            "                 from /usr/local/lib/python3.7/dist-packages/torch/include/ATen/ATen.h:9,\n",
            "                 from /usr/local/lib/python3.7/dist-packages/torch/include/torch/csrc/api/include/torch/types.h:3,\n",
            "                 from /usr/local/lib/python3.7/dist-packages/torch/include/torch/csrc/api/include/torch/data/dataloader_options.h:4,\n",
            "                 from /usr/local/lib/python3.7/dist-packages/torch/include/torch/csrc/api/include/torch/data/dataloader/base.h:3,\n",
            "                 from /usr/local/lib/python3.7/dist-packages/torch/include/torch/csrc/api/include/torch/data/dataloader/stateful.h:3,\n",
            "                 from /usr/local/lib/python3.7/dist-packages/torch/include/torch/csrc/api/include/torch/data/dataloader.h:3,\n",
            "                 from /usr/local/lib/python3.7/dist-packages/torch/include/torch/csrc/api/include/torch/data.h:3,\n",
            "                 from /usr/local/lib/python3.7/dist-packages/torch/include/torch/csrc/api/include/torch/all.h:8,\n",
            "                 from /usr/local/lib/python3.7/dist-packages/torch/include/torch/extension.h:4,\n",
            "                 from /content/scene_graph_benchmark/maskrcnn_benchmark/csrc/cpu/vision.h:3,\n",
            "                 from /content/scene_graph_benchmark/maskrcnn_benchmark/csrc/cpu/nms_cpu.cpp:2:\n",
            "/usr/local/lib/python3.7/dist-packages/torch/include/ATen/core/TensorBody.h:277:30: note: declared here\n",
            "   DeprecatedTypeProperties & type() const {\n",
            "                              ^~~~\n",
            "In file included from /usr/local/lib/python3.7/dist-packages/torch/include/c10/core/Device.h:5:0,\n",
            "                 from /usr/local/lib/python3.7/dist-packages/torch/include/c10/core/Allocator.h:6,\n",
            "                 from /usr/local/lib/python3.7/dist-packages/torch/include/ATen/ATen.h:7,\n",
            "                 from /usr/local/lib/python3.7/dist-packages/torch/include/torch/csrc/api/include/torch/types.h:3,\n",
            "                 from /usr/local/lib/python3.7/dist-packages/torch/include/torch/csrc/api/include/torch/data/dataloader_options.h:4,\n",
            "                 from /usr/local/lib/python3.7/dist-packages/torch/include/torch/csrc/api/include/torch/data/dataloader/base.h:3,\n",
            "                 from /usr/local/lib/python3.7/dist-packages/torch/include/torch/csrc/api/include/torch/data/dataloader/stateful.h:3,\n",
            "                 from /usr/local/lib/python3.7/dist-packages/torch/include/torch/csrc/api/include/torch/data/dataloader.h:3,\n",
            "                 from /usr/local/lib/python3.7/dist-packages/torch/include/torch/csrc/api/include/torch/data.h:3,\n",
            "                 from /usr/local/lib/python3.7/dist-packages/torch/include/torch/csrc/api/include/torch/all.h:8,\n",
            "                 from /usr/local/lib/python3.7/dist-packages/torch/include/torch/extension.h:4,\n",
            "                 from /content/scene_graph_benchmark/maskrcnn_benchmark/csrc/cpu/vision.h:3,\n",
            "                 from /content/scene_graph_benchmark/maskrcnn_benchmark/csrc/cpu/nms_cpu.cpp:2:\n",
            "/content/scene_graph_benchmark/maskrcnn_benchmark/csrc/cpu/nms_cpu.cpp:11:40: warning: ‘at::DeprecatedTypeProperties& at::Tensor::type() const’ is deprecated: Tensor.type() is deprecated. Instead use Tensor.options(), which in many cases (e.g. in a constructor) is a drop-in replacement. If you were using data from type(), that is now available from Tensor itself, so instead of tensor.type().scalar_type(), use tensor.scalar_type() instead and instead of tensor.type().backend() use tensor.device(). [-Wdeprecated-declarations]\n",
            "   AT_ASSERTM(dets.type() == scores.type(), \"dets should have the same type as scores\");\n",
            "                             ~~~~~~~~~~~^~\n",
            "/usr/local/lib/python3.7/dist-packages/torch/include/c10/util/Exception.h:219:39: note: in definition of macro ‘C10_EXPAND_MSVC_WORKAROUND’\n",
            " #define C10_EXPAND_MSVC_WORKAROUND(x) x\n",
            "                                       ^\n",
            "/usr/local/lib/python3.7/dist-packages/torch/include/c10/util/Exception.h:238:34: note: in expansion of macro ‘C10_UNLIKELY’\n",
            " #define C10_UNLIKELY_OR_CONST(e) C10_UNLIKELY(e)\n",
            "                                  ^~~~~~~~~~~~\n",
            "/usr/local/lib/python3.7/dist-packages/torch/include/c10/util/Exception.h:285:7: note: in expansion of macro ‘C10_UNLIKELY_OR_CONST’\n",
            "   if (C10_UNLIKELY_OR_CONST(!(cond))) {       \\\n",
            "       ^~~~~~~~~~~~~~~~~~~~~\n",
            "/usr/local/lib/python3.7/dist-packages/torch/include/c10/util/Exception.h:447:32: note: in expansion of macro ‘TORCH_INTERNAL_ASSERT’\n",
            "     C10_EXPAND_MSVC_WORKAROUND(TORCH_INTERNAL_ASSERT(cond, __VA_ARGS__));     \\\n",
            "                                ^~~~~~~~~~~~~~~~~~~~~\n",
            "/content/scene_graph_benchmark/maskrcnn_benchmark/csrc/cpu/nms_cpu.cpp:11:3: note: in expansion of macro ‘AT_ASSERTM’\n",
            "   AT_ASSERTM(dets.type() == scores.type(), \"dets should have the same type as scores\");\n",
            "   ^~~~~~~~~~\n",
            "In file included from /usr/local/lib/python3.7/dist-packages/torch/include/ATen/Tensor.h:3:0,\n",
            "                 from /usr/local/lib/python3.7/dist-packages/torch/include/ATen/Context.h:4,\n",
            "                 from /usr/local/lib/python3.7/dist-packages/torch/include/ATen/ATen.h:9,\n",
            "                 from /usr/local/lib/python3.7/dist-packages/torch/include/torch/csrc/api/include/torch/types.h:3,\n",
            "                 from /usr/local/lib/python3.7/dist-packages/torch/include/torch/csrc/api/include/torch/data/dataloader_options.h:4,\n",
            "                 from /usr/local/lib/python3.7/dist-packages/torch/include/torch/csrc/api/include/torch/data/dataloader/base.h:3,\n",
            "                 from /usr/local/lib/python3.7/dist-packages/torch/include/torch/csrc/api/include/torch/data/dataloader/stateful.h:3,\n",
            "                 from /usr/local/lib/python3.7/dist-packages/torch/include/torch/csrc/api/include/torch/data/dataloader.h:3,\n",
            "                 from /usr/local/lib/python3.7/dist-packages/torch/include/torch/csrc/api/include/torch/data.h:3,\n",
            "                 from /usr/local/lib/python3.7/dist-packages/torch/include/torch/csrc/api/include/torch/all.h:8,\n",
            "                 from /usr/local/lib/python3.7/dist-packages/torch/include/torch/extension.h:4,\n",
            "                 from /content/scene_graph_benchmark/maskrcnn_benchmark/csrc/cpu/vision.h:3,\n",
            "                 from /content/scene_graph_benchmark/maskrcnn_benchmark/csrc/cpu/nms_cpu.cpp:2:\n",
            "/usr/local/lib/python3.7/dist-packages/torch/include/ATen/core/TensorBody.h:277:30: note: declared here\n",
            "   DeprecatedTypeProperties & type() const {\n",
            "                              ^~~~\n",
            "[3/11] c++ -MMD -MF /content/scene_graph_benchmark/build/temp.linux-x86_64-3.7/content/scene_graph_benchmark/maskrcnn_benchmark/csrc/vision.o.d -pthread -Wno-unused-result -Wsign-compare -DNDEBUG -g -fwrapv -O2 -Wall -g -fdebug-prefix-map=/build/python3.7-dIfpci/python3.7-3.7.13=. -fstack-protector-strong -Wformat -Werror=format-security -g -fdebug-prefix-map=/build/python3.7-dIfpci/python3.7-3.7.13=. -fstack-protector-strong -Wformat -Werror=format-security -Wdate-time -D_FORTIFY_SOURCE=2 -fPIC -DWITH_CUDA -I/content/scene_graph_benchmark/maskrcnn_benchmark/csrc -I/usr/local/lib/python3.7/dist-packages/torch/include -I/usr/local/lib/python3.7/dist-packages/torch/include/torch/csrc/api/include -I/usr/local/lib/python3.7/dist-packages/torch/include/TH -I/usr/local/lib/python3.7/dist-packages/torch/include/THC -I/usr/local/cuda/include -I/usr/include/python3.7m -c -c /content/scene_graph_benchmark/maskrcnn_benchmark/csrc/vision.cpp -o /content/scene_graph_benchmark/build/temp.linux-x86_64-3.7/content/scene_graph_benchmark/maskrcnn_benchmark/csrc/vision.o -DTORCH_API_INCLUDE_EXTENSION_H '-DPYBIND11_COMPILER_TYPE=\"_gcc\"' '-DPYBIND11_STDLIB=\"_libstdcpp\"' '-DPYBIND11_BUILD_ABI=\"_cxxabi1011\"' -DTORCH_EXTENSION_NAME=_C -D_GLIBCXX_USE_CXX11_ABI=0 -std=c++14\n",
            "In file included from /usr/local/lib/python3.7/dist-packages/torch/include/ATen/Parallel.h:149:0,\n",
            "                 from /usr/local/lib/python3.7/dist-packages/torch/include/torch/csrc/api/include/torch/utils.h:3,\n",
            "                 from /usr/local/lib/python3.7/dist-packages/torch/include/torch/csrc/api/include/torch/nn/cloneable.h:5,\n",
            "                 from /usr/local/lib/python3.7/dist-packages/torch/include/torch/csrc/api/include/torch/nn.h:3,\n",
            "                 from /usr/local/lib/python3.7/dist-packages/torch/include/torch/csrc/api/include/torch/all.h:12,\n",
            "                 from /usr/local/lib/python3.7/dist-packages/torch/include/torch/extension.h:4,\n",
            "                 from /content/scene_graph_benchmark/maskrcnn_benchmark/csrc/cpu/vision.h:3,\n",
            "                 from /content/scene_graph_benchmark/maskrcnn_benchmark/csrc/nms.h:3,\n",
            "                 from /content/scene_graph_benchmark/maskrcnn_benchmark/csrc/vision.cpp:2:\n",
            "/usr/local/lib/python3.7/dist-packages/torch/include/ATen/ParallelOpenMP.h:84:0: warning: ignoring #pragma omp parallel [-Wunknown-pragmas]\n",
            " #pragma omp parallel for if ((end - begin) >= grain_size)\n",
            " \n",
            "[4/11] /usr/local/cuda/bin/nvcc -DWITH_CUDA -I/content/scene_graph_benchmark/maskrcnn_benchmark/csrc -I/usr/local/lib/python3.7/dist-packages/torch/include -I/usr/local/lib/python3.7/dist-packages/torch/include/torch/csrc/api/include -I/usr/local/lib/python3.7/dist-packages/torch/include/TH -I/usr/local/lib/python3.7/dist-packages/torch/include/THC -I/usr/local/cuda/include -I/usr/include/python3.7m -c -c /content/scene_graph_benchmark/maskrcnn_benchmark/csrc/cuda/SigmoidFocalLoss_cuda.cu -o /content/scene_graph_benchmark/build/temp.linux-x86_64-3.7/content/scene_graph_benchmark/maskrcnn_benchmark/csrc/cuda/SigmoidFocalLoss_cuda.o -D__CUDA_NO_HALF_OPERATORS__ -D__CUDA_NO_HALF_CONVERSIONS__ -D__CUDA_NO_HALF2_OPERATORS__ --expt-relaxed-constexpr --compiler-options ''\"'\"'-fPIC'\"'\"'' -DCUDA_HAS_FP16=1 -D__CUDA_NO_HALF_OPERATORS__ -D__CUDA_NO_HALF_CONVERSIONS__ -D__CUDA_NO_HALF2_OPERATORS__ -DTORCH_API_INCLUDE_EXTENSION_H '-DPYBIND11_COMPILER_TYPE=\"_gcc\"' '-DPYBIND11_STDLIB=\"_libstdcpp\"' '-DPYBIND11_BUILD_ABI=\"_cxxabi1011\"' -DTORCH_EXTENSION_NAME=_C -D_GLIBCXX_USE_CXX11_ABI=0 -gencode=arch=compute_37,code=sm_37 -std=c++14\n",
            "nvcc warning : The 'compute_35', 'compute_37', 'compute_50', 'sm_35', 'sm_37' and 'sm_50' architectures are deprecated, and may be removed in a future release (Use -Wno-deprecated-gpu-targets to suppress warning).\n",
            "[5/11] /usr/local/cuda/bin/nvcc -DWITH_CUDA -I/content/scene_graph_benchmark/maskrcnn_benchmark/csrc -I/usr/local/lib/python3.7/dist-packages/torch/include -I/usr/local/lib/python3.7/dist-packages/torch/include/torch/csrc/api/include -I/usr/local/lib/python3.7/dist-packages/torch/include/TH -I/usr/local/lib/python3.7/dist-packages/torch/include/THC -I/usr/local/cuda/include -I/usr/include/python3.7m -c -c /content/scene_graph_benchmark/maskrcnn_benchmark/csrc/cuda/nms.cu -o /content/scene_graph_benchmark/build/temp.linux-x86_64-3.7/content/scene_graph_benchmark/maskrcnn_benchmark/csrc/cuda/nms.o -D__CUDA_NO_HALF_OPERATORS__ -D__CUDA_NO_HALF_CONVERSIONS__ -D__CUDA_NO_HALF2_OPERATORS__ --expt-relaxed-constexpr --compiler-options ''\"'\"'-fPIC'\"'\"'' -DCUDA_HAS_FP16=1 -D__CUDA_NO_HALF_OPERATORS__ -D__CUDA_NO_HALF_CONVERSIONS__ -D__CUDA_NO_HALF2_OPERATORS__ -DTORCH_API_INCLUDE_EXTENSION_H '-DPYBIND11_COMPILER_TYPE=\"_gcc\"' '-DPYBIND11_STDLIB=\"_libstdcpp\"' '-DPYBIND11_BUILD_ABI=\"_cxxabi1011\"' -DTORCH_EXTENSION_NAME=_C -D_GLIBCXX_USE_CXX11_ABI=0 -gencode=arch=compute_37,code=sm_37 -std=c++14\n",
            "nvcc warning : The 'compute_35', 'compute_37', 'compute_50', 'sm_35', 'sm_37' and 'sm_50' architectures are deprecated, and may be removed in a future release (Use -Wno-deprecated-gpu-targets to suppress warning).\n",
            "[6/11] /usr/local/cuda/bin/nvcc -DWITH_CUDA -I/content/scene_graph_benchmark/maskrcnn_benchmark/csrc -I/usr/local/lib/python3.7/dist-packages/torch/include -I/usr/local/lib/python3.7/dist-packages/torch/include/torch/csrc/api/include -I/usr/local/lib/python3.7/dist-packages/torch/include/TH -I/usr/local/lib/python3.7/dist-packages/torch/include/THC -I/usr/local/cuda/include -I/usr/include/python3.7m -c -c /content/scene_graph_benchmark/maskrcnn_benchmark/csrc/cuda/deform_conv_kernel_cuda.cu -o /content/scene_graph_benchmark/build/temp.linux-x86_64-3.7/content/scene_graph_benchmark/maskrcnn_benchmark/csrc/cuda/deform_conv_kernel_cuda.o -D__CUDA_NO_HALF_OPERATORS__ -D__CUDA_NO_HALF_CONVERSIONS__ -D__CUDA_NO_HALF2_OPERATORS__ --expt-relaxed-constexpr --compiler-options ''\"'\"'-fPIC'\"'\"'' -DCUDA_HAS_FP16=1 -D__CUDA_NO_HALF_OPERATORS__ -D__CUDA_NO_HALF_CONVERSIONS__ -D__CUDA_NO_HALF2_OPERATORS__ -DTORCH_API_INCLUDE_EXTENSION_H '-DPYBIND11_COMPILER_TYPE=\"_gcc\"' '-DPYBIND11_STDLIB=\"_libstdcpp\"' '-DPYBIND11_BUILD_ABI=\"_cxxabi1011\"' -DTORCH_EXTENSION_NAME=_C -D_GLIBCXX_USE_CXX11_ABI=0 -gencode=arch=compute_37,code=sm_37 -std=c++14\n",
            "nvcc warning : The 'compute_35', 'compute_37', 'compute_50', 'sm_35', 'sm_37' and 'sm_50' architectures are deprecated, and may be removed in a future release (Use -Wno-deprecated-gpu-targets to suppress warning).\n",
            "[7/11] /usr/local/cuda/bin/nvcc -DWITH_CUDA -I/content/scene_graph_benchmark/maskrcnn_benchmark/csrc -I/usr/local/lib/python3.7/dist-packages/torch/include -I/usr/local/lib/python3.7/dist-packages/torch/include/torch/csrc/api/include -I/usr/local/lib/python3.7/dist-packages/torch/include/TH -I/usr/local/lib/python3.7/dist-packages/torch/include/THC -I/usr/local/cuda/include -I/usr/include/python3.7m -c -c /content/scene_graph_benchmark/maskrcnn_benchmark/csrc/cuda/ROIAlign_cuda.cu -o /content/scene_graph_benchmark/build/temp.linux-x86_64-3.7/content/scene_graph_benchmark/maskrcnn_benchmark/csrc/cuda/ROIAlign_cuda.o -D__CUDA_NO_HALF_OPERATORS__ -D__CUDA_NO_HALF_CONVERSIONS__ -D__CUDA_NO_HALF2_OPERATORS__ --expt-relaxed-constexpr --compiler-options ''\"'\"'-fPIC'\"'\"'' -DCUDA_HAS_FP16=1 -D__CUDA_NO_HALF_OPERATORS__ -D__CUDA_NO_HALF_CONVERSIONS__ -D__CUDA_NO_HALF2_OPERATORS__ -DTORCH_API_INCLUDE_EXTENSION_H '-DPYBIND11_COMPILER_TYPE=\"_gcc\"' '-DPYBIND11_STDLIB=\"_libstdcpp\"' '-DPYBIND11_BUILD_ABI=\"_cxxabi1011\"' -DTORCH_EXTENSION_NAME=_C -D_GLIBCXX_USE_CXX11_ABI=0 -gencode=arch=compute_37,code=sm_37 -std=c++14\n",
            "nvcc warning : The 'compute_35', 'compute_37', 'compute_50', 'sm_35', 'sm_37' and 'sm_50' architectures are deprecated, and may be removed in a future release (Use -Wno-deprecated-gpu-targets to suppress warning).\n",
            "[8/11] /usr/local/cuda/bin/nvcc -DWITH_CUDA -I/content/scene_graph_benchmark/maskrcnn_benchmark/csrc -I/usr/local/lib/python3.7/dist-packages/torch/include -I/usr/local/lib/python3.7/dist-packages/torch/include/torch/csrc/api/include -I/usr/local/lib/python3.7/dist-packages/torch/include/TH -I/usr/local/lib/python3.7/dist-packages/torch/include/THC -I/usr/local/cuda/include -I/usr/include/python3.7m -c -c /content/scene_graph_benchmark/maskrcnn_benchmark/csrc/cuda/deform_pool_kernel_cuda.cu -o /content/scene_graph_benchmark/build/temp.linux-x86_64-3.7/content/scene_graph_benchmark/maskrcnn_benchmark/csrc/cuda/deform_pool_kernel_cuda.o -D__CUDA_NO_HALF_OPERATORS__ -D__CUDA_NO_HALF_CONVERSIONS__ -D__CUDA_NO_HALF2_OPERATORS__ --expt-relaxed-constexpr --compiler-options ''\"'\"'-fPIC'\"'\"'' -DCUDA_HAS_FP16=1 -D__CUDA_NO_HALF_OPERATORS__ -D__CUDA_NO_HALF_CONVERSIONS__ -D__CUDA_NO_HALF2_OPERATORS__ -DTORCH_API_INCLUDE_EXTENSION_H '-DPYBIND11_COMPILER_TYPE=\"_gcc\"' '-DPYBIND11_STDLIB=\"_libstdcpp\"' '-DPYBIND11_BUILD_ABI=\"_cxxabi1011\"' -DTORCH_EXTENSION_NAME=_C -D_GLIBCXX_USE_CXX11_ABI=0 -gencode=arch=compute_37,code=sm_37 -std=c++14\n",
            "nvcc warning : The 'compute_35', 'compute_37', 'compute_50', 'sm_35', 'sm_37' and 'sm_50' architectures are deprecated, and may be removed in a future release (Use -Wno-deprecated-gpu-targets to suppress warning).\n",
            "[9/11] /usr/local/cuda/bin/nvcc -DWITH_CUDA -I/content/scene_graph_benchmark/maskrcnn_benchmark/csrc -I/usr/local/lib/python3.7/dist-packages/torch/include -I/usr/local/lib/python3.7/dist-packages/torch/include/torch/csrc/api/include -I/usr/local/lib/python3.7/dist-packages/torch/include/TH -I/usr/local/lib/python3.7/dist-packages/torch/include/THC -I/usr/local/cuda/include -I/usr/include/python3.7m -c -c /content/scene_graph_benchmark/maskrcnn_benchmark/csrc/cuda/ROIPool_cuda.cu -o /content/scene_graph_benchmark/build/temp.linux-x86_64-3.7/content/scene_graph_benchmark/maskrcnn_benchmark/csrc/cuda/ROIPool_cuda.o -D__CUDA_NO_HALF_OPERATORS__ -D__CUDA_NO_HALF_CONVERSIONS__ -D__CUDA_NO_HALF2_OPERATORS__ --expt-relaxed-constexpr --compiler-options ''\"'\"'-fPIC'\"'\"'' -DCUDA_HAS_FP16=1 -D__CUDA_NO_HALF_OPERATORS__ -D__CUDA_NO_HALF_CONVERSIONS__ -D__CUDA_NO_HALF2_OPERATORS__ -DTORCH_API_INCLUDE_EXTENSION_H '-DPYBIND11_COMPILER_TYPE=\"_gcc\"' '-DPYBIND11_STDLIB=\"_libstdcpp\"' '-DPYBIND11_BUILD_ABI=\"_cxxabi1011\"' -DTORCH_EXTENSION_NAME=_C -D_GLIBCXX_USE_CXX11_ABI=0 -gencode=arch=compute_37,code=sm_37 -std=c++14\n",
            "nvcc warning : The 'compute_35', 'compute_37', 'compute_50', 'sm_35', 'sm_37' and 'sm_50' architectures are deprecated, and may be removed in a future release (Use -Wno-deprecated-gpu-targets to suppress warning).\n",
            "[10/11] /usr/local/cuda/bin/nvcc -DWITH_CUDA -I/content/scene_graph_benchmark/maskrcnn_benchmark/csrc -I/usr/local/lib/python3.7/dist-packages/torch/include -I/usr/local/lib/python3.7/dist-packages/torch/include/torch/csrc/api/include -I/usr/local/lib/python3.7/dist-packages/torch/include/TH -I/usr/local/lib/python3.7/dist-packages/torch/include/THC -I/usr/local/cuda/include -I/usr/include/python3.7m -c -c /content/scene_graph_benchmark/maskrcnn_benchmark/csrc/cuda/deform_pool_cuda.cu -o /content/scene_graph_benchmark/build/temp.linux-x86_64-3.7/content/scene_graph_benchmark/maskrcnn_benchmark/csrc/cuda/deform_pool_cuda.o -D__CUDA_NO_HALF_OPERATORS__ -D__CUDA_NO_HALF_CONVERSIONS__ -D__CUDA_NO_HALF2_OPERATORS__ --expt-relaxed-constexpr --compiler-options ''\"'\"'-fPIC'\"'\"'' -DCUDA_HAS_FP16=1 -D__CUDA_NO_HALF_OPERATORS__ -D__CUDA_NO_HALF_CONVERSIONS__ -D__CUDA_NO_HALF2_OPERATORS__ -DTORCH_API_INCLUDE_EXTENSION_H '-DPYBIND11_COMPILER_TYPE=\"_gcc\"' '-DPYBIND11_STDLIB=\"_libstdcpp\"' '-DPYBIND11_BUILD_ABI=\"_cxxabi1011\"' -DTORCH_EXTENSION_NAME=_C -D_GLIBCXX_USE_CXX11_ABI=0 -gencode=arch=compute_37,code=sm_37 -std=c++14\n",
            "nvcc warning : The 'compute_35', 'compute_37', 'compute_50', 'sm_35', 'sm_37' and 'sm_50' architectures are deprecated, and may be removed in a future release (Use -Wno-deprecated-gpu-targets to suppress warning).\n",
            "[11/11] /usr/local/cuda/bin/nvcc -DWITH_CUDA -I/content/scene_graph_benchmark/maskrcnn_benchmark/csrc -I/usr/local/lib/python3.7/dist-packages/torch/include -I/usr/local/lib/python3.7/dist-packages/torch/include/torch/csrc/api/include -I/usr/local/lib/python3.7/dist-packages/torch/include/TH -I/usr/local/lib/python3.7/dist-packages/torch/include/THC -I/usr/local/cuda/include -I/usr/include/python3.7m -c -c /content/scene_graph_benchmark/maskrcnn_benchmark/csrc/cuda/deform_conv_cuda.cu -o /content/scene_graph_benchmark/build/temp.linux-x86_64-3.7/content/scene_graph_benchmark/maskrcnn_benchmark/csrc/cuda/deform_conv_cuda.o -D__CUDA_NO_HALF_OPERATORS__ -D__CUDA_NO_HALF_CONVERSIONS__ -D__CUDA_NO_HALF2_OPERATORS__ --expt-relaxed-constexpr --compiler-options ''\"'\"'-fPIC'\"'\"'' -DCUDA_HAS_FP16=1 -D__CUDA_NO_HALF_OPERATORS__ -D__CUDA_NO_HALF_CONVERSIONS__ -D__CUDA_NO_HALF2_OPERATORS__ -DTORCH_API_INCLUDE_EXTENSION_H '-DPYBIND11_COMPILER_TYPE=\"_gcc\"' '-DPYBIND11_STDLIB=\"_libstdcpp\"' '-DPYBIND11_BUILD_ABI=\"_cxxabi1011\"' -DTORCH_EXTENSION_NAME=_C -D_GLIBCXX_USE_CXX11_ABI=0 -gencode=arch=compute_37,code=sm_37 -std=c++14\n",
            "nvcc warning : The 'compute_35', 'compute_37', 'compute_50', 'sm_35', 'sm_37' and 'sm_50' architectures are deprecated, and may be removed in a future release (Use -Wno-deprecated-gpu-targets to suppress warning).\n",
            "x86_64-linux-gnu-g++ -pthread -shared -Wl,-O1 -Wl,-Bsymbolic-functions -Wl,-Bsymbolic-functions -Wl,-z,relro -Wl,-Bsymbolic-functions -Wl,-z,relro -g -fdebug-prefix-map=/build/python3.7-dIfpci/python3.7-3.7.13=. -fstack-protector-strong -Wformat -Werror=format-security -Wdate-time -D_FORTIFY_SOURCE=2 /content/scene_graph_benchmark/build/temp.linux-x86_64-3.7/content/scene_graph_benchmark/maskrcnn_benchmark/csrc/vision.o /content/scene_graph_benchmark/build/temp.linux-x86_64-3.7/content/scene_graph_benchmark/maskrcnn_benchmark/csrc/cpu/ROIAlign_cpu.o /content/scene_graph_benchmark/build/temp.linux-x86_64-3.7/content/scene_graph_benchmark/maskrcnn_benchmark/csrc/cpu/nms_cpu.o /content/scene_graph_benchmark/build/temp.linux-x86_64-3.7/content/scene_graph_benchmark/maskrcnn_benchmark/csrc/cuda/SigmoidFocalLoss_cuda.o /content/scene_graph_benchmark/build/temp.linux-x86_64-3.7/content/scene_graph_benchmark/maskrcnn_benchmark/csrc/cuda/deform_conv_kernel_cuda.o /content/scene_graph_benchmark/build/temp.linux-x86_64-3.7/content/scene_graph_benchmark/maskrcnn_benchmark/csrc/cuda/deform_pool_kernel_cuda.o /content/scene_graph_benchmark/build/temp.linux-x86_64-3.7/content/scene_graph_benchmark/maskrcnn_benchmark/csrc/cuda/ROIAlign_cuda.o /content/scene_graph_benchmark/build/temp.linux-x86_64-3.7/content/scene_graph_benchmark/maskrcnn_benchmark/csrc/cuda/ROIPool_cuda.o /content/scene_graph_benchmark/build/temp.linux-x86_64-3.7/content/scene_graph_benchmark/maskrcnn_benchmark/csrc/cuda/deform_pool_cuda.o /content/scene_graph_benchmark/build/temp.linux-x86_64-3.7/content/scene_graph_benchmark/maskrcnn_benchmark/csrc/cuda/nms.o /content/scene_graph_benchmark/build/temp.linux-x86_64-3.7/content/scene_graph_benchmark/maskrcnn_benchmark/csrc/cuda/deform_conv_cuda.o -L/usr/local/lib/python3.7/dist-packages/torch/lib -L/usr/local/cuda/lib64 -lc10 -ltorch -ltorch_cpu -ltorch_python -lcudart -lc10_cuda -ltorch_cuda -o build/lib.linux-x86_64-3.7/maskrcnn_benchmark/_C.cpython-37m-x86_64-linux-gnu.so\n",
            "running develop\n",
            "running egg_info\n",
            "creating maskrcnn_benchmark.egg-info\n",
            "writing maskrcnn_benchmark.egg-info/PKG-INFO\n",
            "writing dependency_links to maskrcnn_benchmark.egg-info/dependency_links.txt\n",
            "writing top-level names to maskrcnn_benchmark.egg-info/top_level.txt\n",
            "writing manifest file 'maskrcnn_benchmark.egg-info/SOURCES.txt'\n",
            "adding license file 'LICENSE'\n",
            "writing manifest file 'maskrcnn_benchmark.egg-info/SOURCES.txt'\n",
            "running build_ext\n",
            "building 'maskrcnn_benchmark._C' extension\n",
            "Emitting ninja build file /content/scene_graph_benchmark/build/temp.linux-x86_64-3.7/build.ninja...\n",
            "Compiling objects...\n",
            "Allowing ninja to set a default number of workers... (overridable by setting the environment variable MAX_JOBS=N)\n",
            "[1/11] c++ -MMD -MF /content/scene_graph_benchmark/build/temp.linux-x86_64-3.7/content/scene_graph_benchmark/maskrcnn_benchmark/csrc/cpu/nms_cpu.o.d -pthread -Wno-unused-result -Wsign-compare -DNDEBUG -g -fwrapv -O2 -Wall -g -fdebug-prefix-map=/build/python3.7-dIfpci/python3.7-3.7.13=. -fstack-protector-strong -Wformat -Werror=format-security -g -fdebug-prefix-map=/build/python3.7-dIfpci/python3.7-3.7.13=. -fstack-protector-strong -Wformat -Werror=format-security -Wdate-time -D_FORTIFY_SOURCE=2 -fPIC -DWITH_CUDA -I/content/scene_graph_benchmark/maskrcnn_benchmark/csrc -I/usr/local/lib/python3.7/dist-packages/torch/include -I/usr/local/lib/python3.7/dist-packages/torch/include/torch/csrc/api/include -I/usr/local/lib/python3.7/dist-packages/torch/include/TH -I/usr/local/lib/python3.7/dist-packages/torch/include/THC -I/usr/local/cuda/include -I/usr/include/python3.7m -c -c /content/scene_graph_benchmark/maskrcnn_benchmark/csrc/cpu/nms_cpu.cpp -o /content/scene_graph_benchmark/build/temp.linux-x86_64-3.7/content/scene_graph_benchmark/maskrcnn_benchmark/csrc/cpu/nms_cpu.o -DTORCH_API_INCLUDE_EXTENSION_H '-DPYBIND11_COMPILER_TYPE=\"_gcc\"' '-DPYBIND11_STDLIB=\"_libstdcpp\"' '-DPYBIND11_BUILD_ABI=\"_cxxabi1011\"' -DTORCH_EXTENSION_NAME=_C -D_GLIBCXX_USE_CXX11_ABI=0 -std=c++14 -DTORCH_API_INCLUDE_EXTENSION_H '-DPYBIND11_COMPILER_TYPE=\"_gcc\"' '-DPYBIND11_STDLIB=\"_libstdcpp\"' '-DPYBIND11_BUILD_ABI=\"_cxxabi1011\"' -DTORCH_EXTENSION_NAME=_C -D_GLIBCXX_USE_CXX11_ABI=0\n",
            "In file included from /usr/local/lib/python3.7/dist-packages/torch/include/ATen/Parallel.h:149:0,\n",
            "                 from /usr/local/lib/python3.7/dist-packages/torch/include/torch/csrc/api/include/torch/utils.h:3,\n",
            "                 from /usr/local/lib/python3.7/dist-packages/torch/include/torch/csrc/api/include/torch/nn/cloneable.h:5,\n",
            "                 from /usr/local/lib/python3.7/dist-packages/torch/include/torch/csrc/api/include/torch/nn.h:3,\n",
            "                 from /usr/local/lib/python3.7/dist-packages/torch/include/torch/csrc/api/include/torch/all.h:12,\n",
            "                 from /usr/local/lib/python3.7/dist-packages/torch/include/torch/extension.h:4,\n",
            "                 from /content/scene_graph_benchmark/maskrcnn_benchmark/csrc/cpu/vision.h:3,\n",
            "                 from /content/scene_graph_benchmark/maskrcnn_benchmark/csrc/cpu/nms_cpu.cpp:2:\n",
            "/usr/local/lib/python3.7/dist-packages/torch/include/ATen/ParallelOpenMP.h:84:0: warning: ignoring #pragma omp parallel [-Wunknown-pragmas]\n",
            " #pragma omp parallel for if ((end - begin) >= grain_size)\n",
            " \n",
            "In file included from /usr/local/lib/python3.7/dist-packages/torch/include/c10/core/Device.h:5:0,\n",
            "                 from /usr/local/lib/python3.7/dist-packages/torch/include/c10/core/Allocator.h:6,\n",
            "                 from /usr/local/lib/python3.7/dist-packages/torch/include/ATen/ATen.h:7,\n",
            "                 from /usr/local/lib/python3.7/dist-packages/torch/include/torch/csrc/api/include/torch/types.h:3,\n",
            "                 from /usr/local/lib/python3.7/dist-packages/torch/include/torch/csrc/api/include/torch/data/dataloader_options.h:4,\n",
            "                 from /usr/local/lib/python3.7/dist-packages/torch/include/torch/csrc/api/include/torch/data/dataloader/base.h:3,\n",
            "                 from /usr/local/lib/python3.7/dist-packages/torch/include/torch/csrc/api/include/torch/data/dataloader/stateful.h:3,\n",
            "                 from /usr/local/lib/python3.7/dist-packages/torch/include/torch/csrc/api/include/torch/data/dataloader.h:3,\n",
            "                 from /usr/local/lib/python3.7/dist-packages/torch/include/torch/csrc/api/include/torch/data.h:3,\n",
            "                 from /usr/local/lib/python3.7/dist-packages/torch/include/torch/csrc/api/include/torch/all.h:8,\n",
            "                 from /usr/local/lib/python3.7/dist-packages/torch/include/torch/extension.h:4,\n",
            "                 from /content/scene_graph_benchmark/maskrcnn_benchmark/csrc/cpu/vision.h:3,\n",
            "                 from /content/scene_graph_benchmark/maskrcnn_benchmark/csrc/cpu/nms_cpu.cpp:2:\n",
            "/content/scene_graph_benchmark/maskrcnn_benchmark/csrc/cpu/nms_cpu.cpp: In instantiation of ‘at::Tensor nms_cpu_kernel(const at::Tensor&, const at::Tensor&, float) [with scalar_t = double]’:\n",
            "/content/scene_graph_benchmark/maskrcnn_benchmark/csrc/cpu/nms_cpu.cpp:71:3:   required from here\n",
            "/content/scene_graph_benchmark/maskrcnn_benchmark/csrc/cpu/nms_cpu.cpp:11:23: warning: ‘at::DeprecatedTypeProperties& at::Tensor::type() const’ is deprecated: Tensor.type() is deprecated. Instead use Tensor.options(), which in many cases (e.g. in a constructor) is a drop-in replacement. If you were using data from type(), that is now available from Tensor itself, so instead of tensor.type().scalar_type(), use tensor.scalar_type() instead and instead of tensor.type().backend() use tensor.device(). [-Wdeprecated-declarations]\n",
            "   AT_ASSERTM(dets.type() == scores.type(), \"dets should have the same type as scores\");\n",
            "              ~~~~~~~~~^~\n",
            "/usr/local/lib/python3.7/dist-packages/torch/include/c10/util/Exception.h:219:39: note: in definition of macro ‘C10_EXPAND_MSVC_WORKAROUND’\n",
            " #define C10_EXPAND_MSVC_WORKAROUND(x) x\n",
            "                                       ^\n",
            "/usr/local/lib/python3.7/dist-packages/torch/include/c10/util/Exception.h:238:34: note: in expansion of macro ‘C10_UNLIKELY’\n",
            " #define C10_UNLIKELY_OR_CONST(e) C10_UNLIKELY(e)\n",
            "                                  ^~~~~~~~~~~~\n",
            "/usr/local/lib/python3.7/dist-packages/torch/include/c10/util/Exception.h:285:7: note: in expansion of macro ‘C10_UNLIKELY_OR_CONST’\n",
            "   if (C10_UNLIKELY_OR_CONST(!(cond))) {       \\\n",
            "       ^~~~~~~~~~~~~~~~~~~~~\n",
            "/usr/local/lib/python3.7/dist-packages/torch/include/c10/util/Exception.h:447:32: note: in expansion of macro ‘TORCH_INTERNAL_ASSERT’\n",
            "     C10_EXPAND_MSVC_WORKAROUND(TORCH_INTERNAL_ASSERT(cond, __VA_ARGS__));     \\\n",
            "                                ^~~~~~~~~~~~~~~~~~~~~\n",
            "/content/scene_graph_benchmark/maskrcnn_benchmark/csrc/cpu/nms_cpu.cpp:11:3: note: in expansion of macro ‘AT_ASSERTM’\n",
            "   AT_ASSERTM(dets.type() == scores.type(), \"dets should have the same type as scores\");\n",
            "   ^~~~~~~~~~\n",
            "In file included from /usr/local/lib/python3.7/dist-packages/torch/include/ATen/Tensor.h:3:0,\n",
            "                 from /usr/local/lib/python3.7/dist-packages/torch/include/ATen/Context.h:4,\n",
            "                 from /usr/local/lib/python3.7/dist-packages/torch/include/ATen/ATen.h:9,\n",
            "                 from /usr/local/lib/python3.7/dist-packages/torch/include/torch/csrc/api/include/torch/types.h:3,\n",
            "                 from /usr/local/lib/python3.7/dist-packages/torch/include/torch/csrc/api/include/torch/data/dataloader_options.h:4,\n",
            "                 from /usr/local/lib/python3.7/dist-packages/torch/include/torch/csrc/api/include/torch/data/dataloader/base.h:3,\n",
            "                 from /usr/local/lib/python3.7/dist-packages/torch/include/torch/csrc/api/include/torch/data/dataloader/stateful.h:3,\n",
            "                 from /usr/local/lib/python3.7/dist-packages/torch/include/torch/csrc/api/include/torch/data/dataloader.h:3,\n",
            "                 from /usr/local/lib/python3.7/dist-packages/torch/include/torch/csrc/api/include/torch/data.h:3,\n",
            "                 from /usr/local/lib/python3.7/dist-packages/torch/include/torch/csrc/api/include/torch/all.h:8,\n",
            "                 from /usr/local/lib/python3.7/dist-packages/torch/include/torch/extension.h:4,\n",
            "                 from /content/scene_graph_benchmark/maskrcnn_benchmark/csrc/cpu/vision.h:3,\n",
            "                 from /content/scene_graph_benchmark/maskrcnn_benchmark/csrc/cpu/nms_cpu.cpp:2:\n",
            "/usr/local/lib/python3.7/dist-packages/torch/include/ATen/core/TensorBody.h:277:30: note: declared here\n",
            "   DeprecatedTypeProperties & type() const {\n",
            "                              ^~~~\n",
            "In file included from /usr/local/lib/python3.7/dist-packages/torch/include/c10/core/Device.h:5:0,\n",
            "                 from /usr/local/lib/python3.7/dist-packages/torch/include/c10/core/Allocator.h:6,\n",
            "                 from /usr/local/lib/python3.7/dist-packages/torch/include/ATen/ATen.h:7,\n",
            "                 from /usr/local/lib/python3.7/dist-packages/torch/include/torch/csrc/api/include/torch/types.h:3,\n",
            "                 from /usr/local/lib/python3.7/dist-packages/torch/include/torch/csrc/api/include/torch/data/dataloader_options.h:4,\n",
            "                 from /usr/local/lib/python3.7/dist-packages/torch/include/torch/csrc/api/include/torch/data/dataloader/base.h:3,\n",
            "                 from /usr/local/lib/python3.7/dist-packages/torch/include/torch/csrc/api/include/torch/data/dataloader/stateful.h:3,\n",
            "                 from /usr/local/lib/python3.7/dist-packages/torch/include/torch/csrc/api/include/torch/data/dataloader.h:3,\n",
            "                 from /usr/local/lib/python3.7/dist-packages/torch/include/torch/csrc/api/include/torch/data.h:3,\n",
            "                 from /usr/local/lib/python3.7/dist-packages/torch/include/torch/csrc/api/include/torch/all.h:8,\n",
            "                 from /usr/local/lib/python3.7/dist-packages/torch/include/torch/extension.h:4,\n",
            "                 from /content/scene_graph_benchmark/maskrcnn_benchmark/csrc/cpu/vision.h:3,\n",
            "                 from /content/scene_graph_benchmark/maskrcnn_benchmark/csrc/cpu/nms_cpu.cpp:2:\n",
            "/content/scene_graph_benchmark/maskrcnn_benchmark/csrc/cpu/nms_cpu.cpp:11:23: warning: ‘at::DeprecatedTypeProperties& at::Tensor::type() const’ is deprecated: Tensor.type() is deprecated. Instead use Tensor.options(), which in many cases (e.g. in a constructor) is a drop-in replacement. If you were using data from type(), that is now available from Tensor itself, so instead of tensor.type().scalar_type(), use tensor.scalar_type() instead and instead of tensor.type().backend() use tensor.device(). [-Wdeprecated-declarations]\n",
            "   AT_ASSERTM(dets.type() == scores.type(), \"dets should have the same type as scores\");\n",
            "              ~~~~~~~~~^~\n",
            "/usr/local/lib/python3.7/dist-packages/torch/include/c10/util/Exception.h:219:39: note: in definition of macro ‘C10_EXPAND_MSVC_WORKAROUND’\n",
            " #define C10_EXPAND_MSVC_WORKAROUND(x) x\n",
            "                                       ^\n",
            "/usr/local/lib/python3.7/dist-packages/torch/include/c10/util/Exception.h:238:34: note: in expansion of macro ‘C10_UNLIKELY’\n",
            " #define C10_UNLIKELY_OR_CONST(e) C10_UNLIKELY(e)\n",
            "                                  ^~~~~~~~~~~~\n",
            "/usr/local/lib/python3.7/dist-packages/torch/include/c10/util/Exception.h:285:7: note: in expansion of macro ‘C10_UNLIKELY_OR_CONST’\n",
            "   if (C10_UNLIKELY_OR_CONST(!(cond))) {       \\\n",
            "       ^~~~~~~~~~~~~~~~~~~~~\n",
            "/usr/local/lib/python3.7/dist-packages/torch/include/c10/util/Exception.h:447:32: note: in expansion of macro ‘TORCH_INTERNAL_ASSERT’\n",
            "     C10_EXPAND_MSVC_WORKAROUND(TORCH_INTERNAL_ASSERT(cond, __VA_ARGS__));     \\\n",
            "                                ^~~~~~~~~~~~~~~~~~~~~\n",
            "/content/scene_graph_benchmark/maskrcnn_benchmark/csrc/cpu/nms_cpu.cpp:11:3: note: in expansion of macro ‘AT_ASSERTM’\n",
            "   AT_ASSERTM(dets.type() == scores.type(), \"dets should have the same type as scores\");\n",
            "   ^~~~~~~~~~\n",
            "In file included from /usr/local/lib/python3.7/dist-packages/torch/include/ATen/Tensor.h:3:0,\n",
            "                 from /usr/local/lib/python3.7/dist-packages/torch/include/ATen/Context.h:4,\n",
            "                 from /usr/local/lib/python3.7/dist-packages/torch/include/ATen/ATen.h:9,\n",
            "                 from /usr/local/lib/python3.7/dist-packages/torch/include/torch/csrc/api/include/torch/types.h:3,\n",
            "                 from /usr/local/lib/python3.7/dist-packages/torch/include/torch/csrc/api/include/torch/data/dataloader_options.h:4,\n",
            "                 from /usr/local/lib/python3.7/dist-packages/torch/include/torch/csrc/api/include/torch/data/dataloader/base.h:3,\n",
            "                 from /usr/local/lib/python3.7/dist-packages/torch/include/torch/csrc/api/include/torch/data/dataloader/stateful.h:3,\n",
            "                 from /usr/local/lib/python3.7/dist-packages/torch/include/torch/csrc/api/include/torch/data/dataloader.h:3,\n",
            "                 from /usr/local/lib/python3.7/dist-packages/torch/include/torch/csrc/api/include/torch/data.h:3,\n",
            "                 from /usr/local/lib/python3.7/dist-packages/torch/include/torch/csrc/api/include/torch/all.h:8,\n",
            "                 from /usr/local/lib/python3.7/dist-packages/torch/include/torch/extension.h:4,\n",
            "                 from /content/scene_graph_benchmark/maskrcnn_benchmark/csrc/cpu/vision.h:3,\n",
            "                 from /content/scene_graph_benchmark/maskrcnn_benchmark/csrc/cpu/nms_cpu.cpp:2:\n",
            "/usr/local/lib/python3.7/dist-packages/torch/include/ATen/core/TensorBody.h:277:30: note: declared here\n",
            "   DeprecatedTypeProperties & type() const {\n",
            "                              ^~~~\n",
            "In file included from /usr/local/lib/python3.7/dist-packages/torch/include/c10/core/Device.h:5:0,\n",
            "                 from /usr/local/lib/python3.7/dist-packages/torch/include/c10/core/Allocator.h:6,\n",
            "                 from /usr/local/lib/python3.7/dist-packages/torch/include/ATen/ATen.h:7,\n",
            "                 from /usr/local/lib/python3.7/dist-packages/torch/include/torch/csrc/api/include/torch/types.h:3,\n",
            "                 from /usr/local/lib/python3.7/dist-packages/torch/include/torch/csrc/api/include/torch/data/dataloader_options.h:4,\n",
            "                 from /usr/local/lib/python3.7/dist-packages/torch/include/torch/csrc/api/include/torch/data/dataloader/base.h:3,\n",
            "                 from /usr/local/lib/python3.7/dist-packages/torch/include/torch/csrc/api/include/torch/data/dataloader/stateful.h:3,\n",
            "                 from /usr/local/lib/python3.7/dist-packages/torch/include/torch/csrc/api/include/torch/data/dataloader.h:3,\n",
            "                 from /usr/local/lib/python3.7/dist-packages/torch/include/torch/csrc/api/include/torch/data.h:3,\n",
            "                 from /usr/local/lib/python3.7/dist-packages/torch/include/torch/csrc/api/include/torch/all.h:8,\n",
            "                 from /usr/local/lib/python3.7/dist-packages/torch/include/torch/extension.h:4,\n",
            "                 from /content/scene_graph_benchmark/maskrcnn_benchmark/csrc/cpu/vision.h:3,\n",
            "                 from /content/scene_graph_benchmark/maskrcnn_benchmark/csrc/cpu/nms_cpu.cpp:2:\n",
            "/content/scene_graph_benchmark/maskrcnn_benchmark/csrc/cpu/nms_cpu.cpp:11:40: warning: ‘at::DeprecatedTypeProperties& at::Tensor::type() const’ is deprecated: Tensor.type() is deprecated. Instead use Tensor.options(), which in many cases (e.g. in a constructor) is a drop-in replacement. If you were using data from type(), that is now available from Tensor itself, so instead of tensor.type().scalar_type(), use tensor.scalar_type() instead and instead of tensor.type().backend() use tensor.device(). [-Wdeprecated-declarations]\n",
            "   AT_ASSERTM(dets.type() == scores.type(), \"dets should have the same type as scores\");\n",
            "                             ~~~~~~~~~~~^~\n",
            "/usr/local/lib/python3.7/dist-packages/torch/include/c10/util/Exception.h:219:39: note: in definition of macro ‘C10_EXPAND_MSVC_WORKAROUND’\n",
            " #define C10_EXPAND_MSVC_WORKAROUND(x) x\n",
            "                                       ^\n",
            "/usr/local/lib/python3.7/dist-packages/torch/include/c10/util/Exception.h:238:34: note: in expansion of macro ‘C10_UNLIKELY’\n",
            " #define C10_UNLIKELY_OR_CONST(e) C10_UNLIKELY(e)\n",
            "                                  ^~~~~~~~~~~~\n",
            "/usr/local/lib/python3.7/dist-packages/torch/include/c10/util/Exception.h:285:7: note: in expansion of macro ‘C10_UNLIKELY_OR_CONST’\n",
            "   if (C10_UNLIKELY_OR_CONST(!(cond))) {       \\\n",
            "       ^~~~~~~~~~~~~~~~~~~~~\n",
            "/usr/local/lib/python3.7/dist-packages/torch/include/c10/util/Exception.h:447:32: note: in expansion of macro ‘TORCH_INTERNAL_ASSERT’\n",
            "     C10_EXPAND_MSVC_WORKAROUND(TORCH_INTERNAL_ASSERT(cond, __VA_ARGS__));     \\\n",
            "                                ^~~~~~~~~~~~~~~~~~~~~\n",
            "/content/scene_graph_benchmark/maskrcnn_benchmark/csrc/cpu/nms_cpu.cpp:11:3: note: in expansion of macro ‘AT_ASSERTM’\n",
            "   AT_ASSERTM(dets.type() == scores.type(), \"dets should have the same type as scores\");\n",
            "   ^~~~~~~~~~\n",
            "In file included from /usr/local/lib/python3.7/dist-packages/torch/include/ATen/Tensor.h:3:0,\n",
            "                 from /usr/local/lib/python3.7/dist-packages/torch/include/ATen/Context.h:4,\n",
            "                 from /usr/local/lib/python3.7/dist-packages/torch/include/ATen/ATen.h:9,\n",
            "                 from /usr/local/lib/python3.7/dist-packages/torch/include/torch/csrc/api/include/torch/types.h:3,\n",
            "                 from /usr/local/lib/python3.7/dist-packages/torch/include/torch/csrc/api/include/torch/data/dataloader_options.h:4,\n",
            "                 from /usr/local/lib/python3.7/dist-packages/torch/include/torch/csrc/api/include/torch/data/dataloader/base.h:3,\n",
            "                 from /usr/local/lib/python3.7/dist-packages/torch/include/torch/csrc/api/include/torch/data/dataloader/stateful.h:3,\n",
            "                 from /usr/local/lib/python3.7/dist-packages/torch/include/torch/csrc/api/include/torch/data/dataloader.h:3,\n",
            "                 from /usr/local/lib/python3.7/dist-packages/torch/include/torch/csrc/api/include/torch/data.h:3,\n",
            "                 from /usr/local/lib/python3.7/dist-packages/torch/include/torch/csrc/api/include/torch/all.h:8,\n",
            "                 from /usr/local/lib/python3.7/dist-packages/torch/include/torch/extension.h:4,\n",
            "                 from /content/scene_graph_benchmark/maskrcnn_benchmark/csrc/cpu/vision.h:3,\n",
            "                 from /content/scene_graph_benchmark/maskrcnn_benchmark/csrc/cpu/nms_cpu.cpp:2:\n",
            "/usr/local/lib/python3.7/dist-packages/torch/include/ATen/core/TensorBody.h:277:30: note: declared here\n",
            "   DeprecatedTypeProperties & type() const {\n",
            "                              ^~~~\n",
            "In file included from /usr/local/lib/python3.7/dist-packages/torch/include/c10/core/Device.h:5:0,\n",
            "                 from /usr/local/lib/python3.7/dist-packages/torch/include/c10/core/Allocator.h:6,\n",
            "                 from /usr/local/lib/python3.7/dist-packages/torch/include/ATen/ATen.h:7,\n",
            "                 from /usr/local/lib/python3.7/dist-packages/torch/include/torch/csrc/api/include/torch/types.h:3,\n",
            "                 from /usr/local/lib/python3.7/dist-packages/torch/include/torch/csrc/api/include/torch/data/dataloader_options.h:4,\n",
            "                 from /usr/local/lib/python3.7/dist-packages/torch/include/torch/csrc/api/include/torch/data/dataloader/base.h:3,\n",
            "                 from /usr/local/lib/python3.7/dist-packages/torch/include/torch/csrc/api/include/torch/data/dataloader/stateful.h:3,\n",
            "                 from /usr/local/lib/python3.7/dist-packages/torch/include/torch/csrc/api/include/torch/data/dataloader.h:3,\n",
            "                 from /usr/local/lib/python3.7/dist-packages/torch/include/torch/csrc/api/include/torch/data.h:3,\n",
            "                 from /usr/local/lib/python3.7/dist-packages/torch/include/torch/csrc/api/include/torch/all.h:8,\n",
            "                 from /usr/local/lib/python3.7/dist-packages/torch/include/torch/extension.h:4,\n",
            "                 from /content/scene_graph_benchmark/maskrcnn_benchmark/csrc/cpu/vision.h:3,\n",
            "                 from /content/scene_graph_benchmark/maskrcnn_benchmark/csrc/cpu/nms_cpu.cpp:2:\n",
            "/content/scene_graph_benchmark/maskrcnn_benchmark/csrc/cpu/nms_cpu.cpp:11:40: warning: ‘at::DeprecatedTypeProperties& at::Tensor::type() const’ is deprecated: Tensor.type() is deprecated. Instead use Tensor.options(), which in many cases (e.g. in a constructor) is a drop-in replacement. If you were using data from type(), that is now available from Tensor itself, so instead of tensor.type().scalar_type(), use tensor.scalar_type() instead and instead of tensor.type().backend() use tensor.device(). [-Wdeprecated-declarations]\n",
            "   AT_ASSERTM(dets.type() == scores.type(), \"dets should have the same type as scores\");\n",
            "                             ~~~~~~~~~~~^~\n",
            "/usr/local/lib/python3.7/dist-packages/torch/include/c10/util/Exception.h:219:39: note: in definition of macro ‘C10_EXPAND_MSVC_WORKAROUND’\n",
            " #define C10_EXPAND_MSVC_WORKAROUND(x) x\n",
            "                                       ^\n",
            "/usr/local/lib/python3.7/dist-packages/torch/include/c10/util/Exception.h:238:34: note: in expansion of macro ‘C10_UNLIKELY’\n",
            " #define C10_UNLIKELY_OR_CONST(e) C10_UNLIKELY(e)\n",
            "                                  ^~~~~~~~~~~~\n",
            "/usr/local/lib/python3.7/dist-packages/torch/include/c10/util/Exception.h:285:7: note: in expansion of macro ‘C10_UNLIKELY_OR_CONST’\n",
            "   if (C10_UNLIKELY_OR_CONST(!(cond))) {       \\\n",
            "       ^~~~~~~~~~~~~~~~~~~~~\n",
            "/usr/local/lib/python3.7/dist-packages/torch/include/c10/util/Exception.h:447:32: note: in expansion of macro ‘TORCH_INTERNAL_ASSERT’\n",
            "     C10_EXPAND_MSVC_WORKAROUND(TORCH_INTERNAL_ASSERT(cond, __VA_ARGS__));     \\\n",
            "                                ^~~~~~~~~~~~~~~~~~~~~\n",
            "/content/scene_graph_benchmark/maskrcnn_benchmark/csrc/cpu/nms_cpu.cpp:11:3: note: in expansion of macro ‘AT_ASSERTM’\n",
            "   AT_ASSERTM(dets.type() == scores.type(), \"dets should have the same type as scores\");\n",
            "   ^~~~~~~~~~\n",
            "In file included from /usr/local/lib/python3.7/dist-packages/torch/include/ATen/Tensor.h:3:0,\n",
            "                 from /usr/local/lib/python3.7/dist-packages/torch/include/ATen/Context.h:4,\n",
            "                 from /usr/local/lib/python3.7/dist-packages/torch/include/ATen/ATen.h:9,\n",
            "                 from /usr/local/lib/python3.7/dist-packages/torch/include/torch/csrc/api/include/torch/types.h:3,\n",
            "                 from /usr/local/lib/python3.7/dist-packages/torch/include/torch/csrc/api/include/torch/data/dataloader_options.h:4,\n",
            "                 from /usr/local/lib/python3.7/dist-packages/torch/include/torch/csrc/api/include/torch/data/dataloader/base.h:3,\n",
            "                 from /usr/local/lib/python3.7/dist-packages/torch/include/torch/csrc/api/include/torch/data/dataloader/stateful.h:3,\n",
            "                 from /usr/local/lib/python3.7/dist-packages/torch/include/torch/csrc/api/include/torch/data/dataloader.h:3,\n",
            "                 from /usr/local/lib/python3.7/dist-packages/torch/include/torch/csrc/api/include/torch/data.h:3,\n",
            "                 from /usr/local/lib/python3.7/dist-packages/torch/include/torch/csrc/api/include/torch/all.h:8,\n",
            "                 from /usr/local/lib/python3.7/dist-packages/torch/include/torch/extension.h:4,\n",
            "                 from /content/scene_graph_benchmark/maskrcnn_benchmark/csrc/cpu/vision.h:3,\n",
            "                 from /content/scene_graph_benchmark/maskrcnn_benchmark/csrc/cpu/nms_cpu.cpp:2:\n",
            "/usr/local/lib/python3.7/dist-packages/torch/include/ATen/core/TensorBody.h:277:30: note: declared here\n",
            "   DeprecatedTypeProperties & type() const {\n",
            "                              ^~~~\n",
            "In file included from /usr/local/lib/python3.7/dist-packages/torch/include/c10/core/Device.h:5:0,\n",
            "                 from /usr/local/lib/python3.7/dist-packages/torch/include/c10/core/Allocator.h:6,\n",
            "                 from /usr/local/lib/python3.7/dist-packages/torch/include/ATen/ATen.h:7,\n",
            "                 from /usr/local/lib/python3.7/dist-packages/torch/include/torch/csrc/api/include/torch/types.h:3,\n",
            "                 from /usr/local/lib/python3.7/dist-packages/torch/include/torch/csrc/api/include/torch/data/dataloader_options.h:4,\n",
            "                 from /usr/local/lib/python3.7/dist-packages/torch/include/torch/csrc/api/include/torch/data/dataloader/base.h:3,\n",
            "                 from /usr/local/lib/python3.7/dist-packages/torch/include/torch/csrc/api/include/torch/data/dataloader/stateful.h:3,\n",
            "                 from /usr/local/lib/python3.7/dist-packages/torch/include/torch/csrc/api/include/torch/data/dataloader.h:3,\n",
            "                 from /usr/local/lib/python3.7/dist-packages/torch/include/torch/csrc/api/include/torch/data.h:3,\n",
            "                 from /usr/local/lib/python3.7/dist-packages/torch/include/torch/csrc/api/include/torch/all.h:8,\n",
            "                 from /usr/local/lib/python3.7/dist-packages/torch/include/torch/extension.h:4,\n",
            "                 from /content/scene_graph_benchmark/maskrcnn_benchmark/csrc/cpu/vision.h:3,\n",
            "                 from /content/scene_graph_benchmark/maskrcnn_benchmark/csrc/cpu/nms_cpu.cpp:2:\n",
            "/content/scene_graph_benchmark/maskrcnn_benchmark/csrc/cpu/nms_cpu.cpp: In instantiation of ‘at::Tensor nms_cpu_kernel(const at::Tensor&, const at::Tensor&, float) [with scalar_t = float]’:\n",
            "/content/scene_graph_benchmark/maskrcnn_benchmark/csrc/cpu/nms_cpu.cpp:71:3:   required from here\n",
            "/content/scene_graph_benchmark/maskrcnn_benchmark/csrc/cpu/nms_cpu.cpp:11:23: warning: ‘at::DeprecatedTypeProperties& at::Tensor::type() const’ is deprecated: Tensor.type() is deprecated. Instead use Tensor.options(), which in many cases (e.g. in a constructor) is a drop-in replacement. If you were using data from type(), that is now available from Tensor itself, so instead of tensor.type().scalar_type(), use tensor.scalar_type() instead and instead of tensor.type().backend() use tensor.device(). [-Wdeprecated-declarations]\n",
            "   AT_ASSERTM(dets.type() == scores.type(), \"dets should have the same type as scores\");\n",
            "              ~~~~~~~~~^~\n",
            "/usr/local/lib/python3.7/dist-packages/torch/include/c10/util/Exception.h:219:39: note: in definition of macro ‘C10_EXPAND_MSVC_WORKAROUND’\n",
            " #define C10_EXPAND_MSVC_WORKAROUND(x) x\n",
            "                                       ^\n",
            "/usr/local/lib/python3.7/dist-packages/torch/include/c10/util/Exception.h:238:34: note: in expansion of macro ‘C10_UNLIKELY’\n",
            " #define C10_UNLIKELY_OR_CONST(e) C10_UNLIKELY(e)\n",
            "                                  ^~~~~~~~~~~~\n",
            "/usr/local/lib/python3.7/dist-packages/torch/include/c10/util/Exception.h:285:7: note: in expansion of macro ‘C10_UNLIKELY_OR_CONST’\n",
            "   if (C10_UNLIKELY_OR_CONST(!(cond))) {       \\\n",
            "       ^~~~~~~~~~~~~~~~~~~~~\n",
            "/usr/local/lib/python3.7/dist-packages/torch/include/c10/util/Exception.h:447:32: note: in expansion of macro ‘TORCH_INTERNAL_ASSERT’\n",
            "     C10_EXPAND_MSVC_WORKAROUND(TORCH_INTERNAL_ASSERT(cond, __VA_ARGS__));     \\\n",
            "                                ^~~~~~~~~~~~~~~~~~~~~\n",
            "/content/scene_graph_benchmark/maskrcnn_benchmark/csrc/cpu/nms_cpu.cpp:11:3: note: in expansion of macro ‘AT_ASSERTM’\n",
            "   AT_ASSERTM(dets.type() == scores.type(), \"dets should have the same type as scores\");\n",
            "   ^~~~~~~~~~\n",
            "In file included from /usr/local/lib/python3.7/dist-packages/torch/include/ATen/Tensor.h:3:0,\n",
            "                 from /usr/local/lib/python3.7/dist-packages/torch/include/ATen/Context.h:4,\n",
            "                 from /usr/local/lib/python3.7/dist-packages/torch/include/ATen/ATen.h:9,\n",
            "                 from /usr/local/lib/python3.7/dist-packages/torch/include/torch/csrc/api/include/torch/types.h:3,\n",
            "                 from /usr/local/lib/python3.7/dist-packages/torch/include/torch/csrc/api/include/torch/data/dataloader_options.h:4,\n",
            "                 from /usr/local/lib/python3.7/dist-packages/torch/include/torch/csrc/api/include/torch/data/dataloader/base.h:3,\n",
            "                 from /usr/local/lib/python3.7/dist-packages/torch/include/torch/csrc/api/include/torch/data/dataloader/stateful.h:3,\n",
            "                 from /usr/local/lib/python3.7/dist-packages/torch/include/torch/csrc/api/include/torch/data/dataloader.h:3,\n",
            "                 from /usr/local/lib/python3.7/dist-packages/torch/include/torch/csrc/api/include/torch/data.h:3,\n",
            "                 from /usr/local/lib/python3.7/dist-packages/torch/include/torch/csrc/api/include/torch/all.h:8,\n",
            "                 from /usr/local/lib/python3.7/dist-packages/torch/include/torch/extension.h:4,\n",
            "                 from /content/scene_graph_benchmark/maskrcnn_benchmark/csrc/cpu/vision.h:3,\n",
            "                 from /content/scene_graph_benchmark/maskrcnn_benchmark/csrc/cpu/nms_cpu.cpp:2:\n",
            "/usr/local/lib/python3.7/dist-packages/torch/include/ATen/core/TensorBody.h:277:30: note: declared here\n",
            "   DeprecatedTypeProperties & type() const {\n",
            "                              ^~~~\n",
            "In file included from /usr/local/lib/python3.7/dist-packages/torch/include/c10/core/Device.h:5:0,\n",
            "                 from /usr/local/lib/python3.7/dist-packages/torch/include/c10/core/Allocator.h:6,\n",
            "                 from /usr/local/lib/python3.7/dist-packages/torch/include/ATen/ATen.h:7,\n",
            "                 from /usr/local/lib/python3.7/dist-packages/torch/include/torch/csrc/api/include/torch/types.h:3,\n",
            "                 from /usr/local/lib/python3.7/dist-packages/torch/include/torch/csrc/api/include/torch/data/dataloader_options.h:4,\n",
            "                 from /usr/local/lib/python3.7/dist-packages/torch/include/torch/csrc/api/include/torch/data/dataloader/base.h:3,\n",
            "                 from /usr/local/lib/python3.7/dist-packages/torch/include/torch/csrc/api/include/torch/data/dataloader/stateful.h:3,\n",
            "                 from /usr/local/lib/python3.7/dist-packages/torch/include/torch/csrc/api/include/torch/data/dataloader.h:3,\n",
            "                 from /usr/local/lib/python3.7/dist-packages/torch/include/torch/csrc/api/include/torch/data.h:3,\n",
            "                 from /usr/local/lib/python3.7/dist-packages/torch/include/torch/csrc/api/include/torch/all.h:8,\n",
            "                 from /usr/local/lib/python3.7/dist-packages/torch/include/torch/extension.h:4,\n",
            "                 from /content/scene_graph_benchmark/maskrcnn_benchmark/csrc/cpu/vision.h:3,\n",
            "                 from /content/scene_graph_benchmark/maskrcnn_benchmark/csrc/cpu/nms_cpu.cpp:2:\n",
            "/content/scene_graph_benchmark/maskrcnn_benchmark/csrc/cpu/nms_cpu.cpp:11:23: warning: ‘at::DeprecatedTypeProperties& at::Tensor::type() const’ is deprecated: Tensor.type() is deprecated. Instead use Tensor.options(), which in many cases (e.g. in a constructor) is a drop-in replacement. If you were using data from type(), that is now available from Tensor itself, so instead of tensor.type().scalar_type(), use tensor.scalar_type() instead and instead of tensor.type().backend() use tensor.device(). [-Wdeprecated-declarations]\n",
            "   AT_ASSERTM(dets.type() == scores.type(), \"dets should have the same type as scores\");\n",
            "              ~~~~~~~~~^~\n",
            "/usr/local/lib/python3.7/dist-packages/torch/include/c10/util/Exception.h:219:39: note: in definition of macro ‘C10_EXPAND_MSVC_WORKAROUND’\n",
            " #define C10_EXPAND_MSVC_WORKAROUND(x) x\n",
            "                                       ^\n",
            "/usr/local/lib/python3.7/dist-packages/torch/include/c10/util/Exception.h:238:34: note: in expansion of macro ‘C10_UNLIKELY’\n",
            " #define C10_UNLIKELY_OR_CONST(e) C10_UNLIKELY(e)\n",
            "                                  ^~~~~~~~~~~~\n",
            "/usr/local/lib/python3.7/dist-packages/torch/include/c10/util/Exception.h:285:7: note: in expansion of macro ‘C10_UNLIKELY_OR_CONST’\n",
            "   if (C10_UNLIKELY_OR_CONST(!(cond))) {       \\\n",
            "       ^~~~~~~~~~~~~~~~~~~~~\n",
            "/usr/local/lib/python3.7/dist-packages/torch/include/c10/util/Exception.h:447:32: note: in expansion of macro ‘TORCH_INTERNAL_ASSERT’\n",
            "     C10_EXPAND_MSVC_WORKAROUND(TORCH_INTERNAL_ASSERT(cond, __VA_ARGS__));     \\\n",
            "                                ^~~~~~~~~~~~~~~~~~~~~\n",
            "/content/scene_graph_benchmark/maskrcnn_benchmark/csrc/cpu/nms_cpu.cpp:11:3: note: in expansion of macro ‘AT_ASSERTM’\n",
            "   AT_ASSERTM(dets.type() == scores.type(), \"dets should have the same type as scores\");\n",
            "   ^~~~~~~~~~\n",
            "In file included from /usr/local/lib/python3.7/dist-packages/torch/include/ATen/Tensor.h:3:0,\n",
            "                 from /usr/local/lib/python3.7/dist-packages/torch/include/ATen/Context.h:4,\n",
            "                 from /usr/local/lib/python3.7/dist-packages/torch/include/ATen/ATen.h:9,\n",
            "                 from /usr/local/lib/python3.7/dist-packages/torch/include/torch/csrc/api/include/torch/types.h:3,\n",
            "                 from /usr/local/lib/python3.7/dist-packages/torch/include/torch/csrc/api/include/torch/data/dataloader_options.h:4,\n",
            "                 from /usr/local/lib/python3.7/dist-packages/torch/include/torch/csrc/api/include/torch/data/dataloader/base.h:3,\n",
            "                 from /usr/local/lib/python3.7/dist-packages/torch/include/torch/csrc/api/include/torch/data/dataloader/stateful.h:3,\n",
            "                 from /usr/local/lib/python3.7/dist-packages/torch/include/torch/csrc/api/include/torch/data/dataloader.h:3,\n",
            "                 from /usr/local/lib/python3.7/dist-packages/torch/include/torch/csrc/api/include/torch/data.h:3,\n",
            "                 from /usr/local/lib/python3.7/dist-packages/torch/include/torch/csrc/api/include/torch/all.h:8,\n",
            "                 from /usr/local/lib/python3.7/dist-packages/torch/include/torch/extension.h:4,\n",
            "                 from /content/scene_graph_benchmark/maskrcnn_benchmark/csrc/cpu/vision.h:3,\n",
            "                 from /content/scene_graph_benchmark/maskrcnn_benchmark/csrc/cpu/nms_cpu.cpp:2:\n",
            "/usr/local/lib/python3.7/dist-packages/torch/include/ATen/core/TensorBody.h:277:30: note: declared here\n",
            "   DeprecatedTypeProperties & type() const {\n",
            "                              ^~~~\n",
            "In file included from /usr/local/lib/python3.7/dist-packages/torch/include/c10/core/Device.h:5:0,\n",
            "                 from /usr/local/lib/python3.7/dist-packages/torch/include/c10/core/Allocator.h:6,\n",
            "                 from /usr/local/lib/python3.7/dist-packages/torch/include/ATen/ATen.h:7,\n",
            "                 from /usr/local/lib/python3.7/dist-packages/torch/include/torch/csrc/api/include/torch/types.h:3,\n",
            "                 from /usr/local/lib/python3.7/dist-packages/torch/include/torch/csrc/api/include/torch/data/dataloader_options.h:4,\n",
            "                 from /usr/local/lib/python3.7/dist-packages/torch/include/torch/csrc/api/include/torch/data/dataloader/base.h:3,\n",
            "                 from /usr/local/lib/python3.7/dist-packages/torch/include/torch/csrc/api/include/torch/data/dataloader/stateful.h:3,\n",
            "                 from /usr/local/lib/python3.7/dist-packages/torch/include/torch/csrc/api/include/torch/data/dataloader.h:3,\n",
            "                 from /usr/local/lib/python3.7/dist-packages/torch/include/torch/csrc/api/include/torch/data.h:3,\n",
            "                 from /usr/local/lib/python3.7/dist-packages/torch/include/torch/csrc/api/include/torch/all.h:8,\n",
            "                 from /usr/local/lib/python3.7/dist-packages/torch/include/torch/extension.h:4,\n",
            "                 from /content/scene_graph_benchmark/maskrcnn_benchmark/csrc/cpu/vision.h:3,\n",
            "                 from /content/scene_graph_benchmark/maskrcnn_benchmark/csrc/cpu/nms_cpu.cpp:2:\n",
            "/content/scene_graph_benchmark/maskrcnn_benchmark/csrc/cpu/nms_cpu.cpp:11:40: warning: ‘at::DeprecatedTypeProperties& at::Tensor::type() const’ is deprecated: Tensor.type() is deprecated. Instead use Tensor.options(), which in many cases (e.g. in a constructor) is a drop-in replacement. If you were using data from type(), that is now available from Tensor itself, so instead of tensor.type().scalar_type(), use tensor.scalar_type() instead and instead of tensor.type().backend() use tensor.device(). [-Wdeprecated-declarations]\n",
            "   AT_ASSERTM(dets.type() == scores.type(), \"dets should have the same type as scores\");\n",
            "                             ~~~~~~~~~~~^~\n",
            "/usr/local/lib/python3.7/dist-packages/torch/include/c10/util/Exception.h:219:39: note: in definition of macro ‘C10_EXPAND_MSVC_WORKAROUND’\n",
            " #define C10_EXPAND_MSVC_WORKAROUND(x) x\n",
            "                                       ^\n",
            "/usr/local/lib/python3.7/dist-packages/torch/include/c10/util/Exception.h:238:34: note: in expansion of macro ‘C10_UNLIKELY’\n",
            " #define C10_UNLIKELY_OR_CONST(e) C10_UNLIKELY(e)\n",
            "                                  ^~~~~~~~~~~~\n",
            "/usr/local/lib/python3.7/dist-packages/torch/include/c10/util/Exception.h:285:7: note: in expansion of macro ‘C10_UNLIKELY_OR_CONST’\n",
            "   if (C10_UNLIKELY_OR_CONST(!(cond))) {       \\\n",
            "       ^~~~~~~~~~~~~~~~~~~~~\n",
            "/usr/local/lib/python3.7/dist-packages/torch/include/c10/util/Exception.h:447:32: note: in expansion of macro ‘TORCH_INTERNAL_ASSERT’\n",
            "     C10_EXPAND_MSVC_WORKAROUND(TORCH_INTERNAL_ASSERT(cond, __VA_ARGS__));     \\\n",
            "                                ^~~~~~~~~~~~~~~~~~~~~\n",
            "/content/scene_graph_benchmark/maskrcnn_benchmark/csrc/cpu/nms_cpu.cpp:11:3: note: in expansion of macro ‘AT_ASSERTM’\n",
            "   AT_ASSERTM(dets.type() == scores.type(), \"dets should have the same type as scores\");\n",
            "   ^~~~~~~~~~\n",
            "In file included from /usr/local/lib/python3.7/dist-packages/torch/include/ATen/Tensor.h:3:0,\n",
            "                 from /usr/local/lib/python3.7/dist-packages/torch/include/ATen/Context.h:4,\n",
            "                 from /usr/local/lib/python3.7/dist-packages/torch/include/ATen/ATen.h:9,\n",
            "                 from /usr/local/lib/python3.7/dist-packages/torch/include/torch/csrc/api/include/torch/types.h:3,\n",
            "                 from /usr/local/lib/python3.7/dist-packages/torch/include/torch/csrc/api/include/torch/data/dataloader_options.h:4,\n",
            "                 from /usr/local/lib/python3.7/dist-packages/torch/include/torch/csrc/api/include/torch/data/dataloader/base.h:3,\n",
            "                 from /usr/local/lib/python3.7/dist-packages/torch/include/torch/csrc/api/include/torch/data/dataloader/stateful.h:3,\n",
            "                 from /usr/local/lib/python3.7/dist-packages/torch/include/torch/csrc/api/include/torch/data/dataloader.h:3,\n",
            "                 from /usr/local/lib/python3.7/dist-packages/torch/include/torch/csrc/api/include/torch/data.h:3,\n",
            "                 from /usr/local/lib/python3.7/dist-packages/torch/include/torch/csrc/api/include/torch/all.h:8,\n",
            "                 from /usr/local/lib/python3.7/dist-packages/torch/include/torch/extension.h:4,\n",
            "                 from /content/scene_graph_benchmark/maskrcnn_benchmark/csrc/cpu/vision.h:3,\n",
            "                 from /content/scene_graph_benchmark/maskrcnn_benchmark/csrc/cpu/nms_cpu.cpp:2:\n",
            "/usr/local/lib/python3.7/dist-packages/torch/include/ATen/core/TensorBody.h:277:30: note: declared here\n",
            "   DeprecatedTypeProperties & type() const {\n",
            "                              ^~~~\n",
            "In file included from /usr/local/lib/python3.7/dist-packages/torch/include/c10/core/Device.h:5:0,\n",
            "                 from /usr/local/lib/python3.7/dist-packages/torch/include/c10/core/Allocator.h:6,\n",
            "                 from /usr/local/lib/python3.7/dist-packages/torch/include/ATen/ATen.h:7,\n",
            "                 from /usr/local/lib/python3.7/dist-packages/torch/include/torch/csrc/api/include/torch/types.h:3,\n",
            "                 from /usr/local/lib/python3.7/dist-packages/torch/include/torch/csrc/api/include/torch/data/dataloader_options.h:4,\n",
            "                 from /usr/local/lib/python3.7/dist-packages/torch/include/torch/csrc/api/include/torch/data/dataloader/base.h:3,\n",
            "                 from /usr/local/lib/python3.7/dist-packages/torch/include/torch/csrc/api/include/torch/data/dataloader/stateful.h:3,\n",
            "                 from /usr/local/lib/python3.7/dist-packages/torch/include/torch/csrc/api/include/torch/data/dataloader.h:3,\n",
            "                 from /usr/local/lib/python3.7/dist-packages/torch/include/torch/csrc/api/include/torch/data.h:3,\n",
            "                 from /usr/local/lib/python3.7/dist-packages/torch/include/torch/csrc/api/include/torch/all.h:8,\n",
            "                 from /usr/local/lib/python3.7/dist-packages/torch/include/torch/extension.h:4,\n",
            "                 from /content/scene_graph_benchmark/maskrcnn_benchmark/csrc/cpu/vision.h:3,\n",
            "                 from /content/scene_graph_benchmark/maskrcnn_benchmark/csrc/cpu/nms_cpu.cpp:2:\n",
            "/content/scene_graph_benchmark/maskrcnn_benchmark/csrc/cpu/nms_cpu.cpp:11:40: warning: ‘at::DeprecatedTypeProperties& at::Tensor::type() const’ is deprecated: Tensor.type() is deprecated. Instead use Tensor.options(), which in many cases (e.g. in a constructor) is a drop-in replacement. If you were using data from type(), that is now available from Tensor itself, so instead of tensor.type().scalar_type(), use tensor.scalar_type() instead and instead of tensor.type().backend() use tensor.device(). [-Wdeprecated-declarations]\n",
            "   AT_ASSERTM(dets.type() == scores.type(), \"dets should have the same type as scores\");\n",
            "                             ~~~~~~~~~~~^~\n",
            "/usr/local/lib/python3.7/dist-packages/torch/include/c10/util/Exception.h:219:39: note: in definition of macro ‘C10_EXPAND_MSVC_WORKAROUND’\n",
            " #define C10_EXPAND_MSVC_WORKAROUND(x) x\n",
            "                                       ^\n",
            "/usr/local/lib/python3.7/dist-packages/torch/include/c10/util/Exception.h:238:34: note: in expansion of macro ‘C10_UNLIKELY’\n",
            " #define C10_UNLIKELY_OR_CONST(e) C10_UNLIKELY(e)\n",
            "                                  ^~~~~~~~~~~~\n",
            "/usr/local/lib/python3.7/dist-packages/torch/include/c10/util/Exception.h:285:7: note: in expansion of macro ‘C10_UNLIKELY_OR_CONST’\n",
            "   if (C10_UNLIKELY_OR_CONST(!(cond))) {       \\\n",
            "       ^~~~~~~~~~~~~~~~~~~~~\n",
            "/usr/local/lib/python3.7/dist-packages/torch/include/c10/util/Exception.h:447:32: note: in expansion of macro ‘TORCH_INTERNAL_ASSERT’\n",
            "     C10_EXPAND_MSVC_WORKAROUND(TORCH_INTERNAL_ASSERT(cond, __VA_ARGS__));     \\\n",
            "                                ^~~~~~~~~~~~~~~~~~~~~\n",
            "/content/scene_graph_benchmark/maskrcnn_benchmark/csrc/cpu/nms_cpu.cpp:11:3: note: in expansion of macro ‘AT_ASSERTM’\n",
            "   AT_ASSERTM(dets.type() == scores.type(), \"dets should have the same type as scores\");\n",
            "   ^~~~~~~~~~\n",
            "In file included from /usr/local/lib/python3.7/dist-packages/torch/include/ATen/Tensor.h:3:0,\n",
            "                 from /usr/local/lib/python3.7/dist-packages/torch/include/ATen/Context.h:4,\n",
            "                 from /usr/local/lib/python3.7/dist-packages/torch/include/ATen/ATen.h:9,\n",
            "                 from /usr/local/lib/python3.7/dist-packages/torch/include/torch/csrc/api/include/torch/types.h:3,\n",
            "                 from /usr/local/lib/python3.7/dist-packages/torch/include/torch/csrc/api/include/torch/data/dataloader_options.h:4,\n",
            "                 from /usr/local/lib/python3.7/dist-packages/torch/include/torch/csrc/api/include/torch/data/dataloader/base.h:3,\n",
            "                 from /usr/local/lib/python3.7/dist-packages/torch/include/torch/csrc/api/include/torch/data/dataloader/stateful.h:3,\n",
            "                 from /usr/local/lib/python3.7/dist-packages/torch/include/torch/csrc/api/include/torch/data/dataloader.h:3,\n",
            "                 from /usr/local/lib/python3.7/dist-packages/torch/include/torch/csrc/api/include/torch/data.h:3,\n",
            "                 from /usr/local/lib/python3.7/dist-packages/torch/include/torch/csrc/api/include/torch/all.h:8,\n",
            "                 from /usr/local/lib/python3.7/dist-packages/torch/include/torch/extension.h:4,\n",
            "                 from /content/scene_graph_benchmark/maskrcnn_benchmark/csrc/cpu/vision.h:3,\n",
            "                 from /content/scene_graph_benchmark/maskrcnn_benchmark/csrc/cpu/nms_cpu.cpp:2:\n",
            "/usr/local/lib/python3.7/dist-packages/torch/include/ATen/core/TensorBody.h:277:30: note: declared here\n",
            "   DeprecatedTypeProperties & type() const {\n",
            "                              ^~~~\n",
            "[2/11] c++ -MMD -MF /content/scene_graph_benchmark/build/temp.linux-x86_64-3.7/content/scene_graph_benchmark/maskrcnn_benchmark/csrc/cpu/ROIAlign_cpu.o.d -pthread -Wno-unused-result -Wsign-compare -DNDEBUG -g -fwrapv -O2 -Wall -g -fdebug-prefix-map=/build/python3.7-dIfpci/python3.7-3.7.13=. -fstack-protector-strong -Wformat -Werror=format-security -g -fdebug-prefix-map=/build/python3.7-dIfpci/python3.7-3.7.13=. -fstack-protector-strong -Wformat -Werror=format-security -Wdate-time -D_FORTIFY_SOURCE=2 -fPIC -DWITH_CUDA -I/content/scene_graph_benchmark/maskrcnn_benchmark/csrc -I/usr/local/lib/python3.7/dist-packages/torch/include -I/usr/local/lib/python3.7/dist-packages/torch/include/torch/csrc/api/include -I/usr/local/lib/python3.7/dist-packages/torch/include/TH -I/usr/local/lib/python3.7/dist-packages/torch/include/THC -I/usr/local/cuda/include -I/usr/include/python3.7m -c -c /content/scene_graph_benchmark/maskrcnn_benchmark/csrc/cpu/ROIAlign_cpu.cpp -o /content/scene_graph_benchmark/build/temp.linux-x86_64-3.7/content/scene_graph_benchmark/maskrcnn_benchmark/csrc/cpu/ROIAlign_cpu.o -DTORCH_API_INCLUDE_EXTENSION_H '-DPYBIND11_COMPILER_TYPE=\"_gcc\"' '-DPYBIND11_STDLIB=\"_libstdcpp\"' '-DPYBIND11_BUILD_ABI=\"_cxxabi1011\"' -DTORCH_EXTENSION_NAME=_C -D_GLIBCXX_USE_CXX11_ABI=0 -std=c++14 -DTORCH_API_INCLUDE_EXTENSION_H '-DPYBIND11_COMPILER_TYPE=\"_gcc\"' '-DPYBIND11_STDLIB=\"_libstdcpp\"' '-DPYBIND11_BUILD_ABI=\"_cxxabi1011\"' -DTORCH_EXTENSION_NAME=_C -D_GLIBCXX_USE_CXX11_ABI=0\n",
            "In file included from /usr/local/lib/python3.7/dist-packages/torch/include/ATen/Parallel.h:149:0,\n",
            "                 from /usr/local/lib/python3.7/dist-packages/torch/include/torch/csrc/api/include/torch/utils.h:3,\n",
            "                 from /usr/local/lib/python3.7/dist-packages/torch/include/torch/csrc/api/include/torch/nn/cloneable.h:5,\n",
            "                 from /usr/local/lib/python3.7/dist-packages/torch/include/torch/csrc/api/include/torch/nn.h:3,\n",
            "                 from /usr/local/lib/python3.7/dist-packages/torch/include/torch/csrc/api/include/torch/all.h:12,\n",
            "                 from /usr/local/lib/python3.7/dist-packages/torch/include/torch/extension.h:4,\n",
            "                 from /content/scene_graph_benchmark/maskrcnn_benchmark/csrc/cpu/vision.h:3,\n",
            "                 from /content/scene_graph_benchmark/maskrcnn_benchmark/csrc/cpu/ROIAlign_cpu.cpp:2:\n",
            "/usr/local/lib/python3.7/dist-packages/torch/include/ATen/ParallelOpenMP.h:84:0: warning: ignoring #pragma omp parallel [-Wunknown-pragmas]\n",
            " #pragma omp parallel for if ((end - begin) >= grain_size)\n",
            " \n",
            "[3/11] c++ -MMD -MF /content/scene_graph_benchmark/build/temp.linux-x86_64-3.7/content/scene_graph_benchmark/maskrcnn_benchmark/csrc/vision.o.d -pthread -Wno-unused-result -Wsign-compare -DNDEBUG -g -fwrapv -O2 -Wall -g -fdebug-prefix-map=/build/python3.7-dIfpci/python3.7-3.7.13=. -fstack-protector-strong -Wformat -Werror=format-security -g -fdebug-prefix-map=/build/python3.7-dIfpci/python3.7-3.7.13=. -fstack-protector-strong -Wformat -Werror=format-security -Wdate-time -D_FORTIFY_SOURCE=2 -fPIC -DWITH_CUDA -I/content/scene_graph_benchmark/maskrcnn_benchmark/csrc -I/usr/local/lib/python3.7/dist-packages/torch/include -I/usr/local/lib/python3.7/dist-packages/torch/include/torch/csrc/api/include -I/usr/local/lib/python3.7/dist-packages/torch/include/TH -I/usr/local/lib/python3.7/dist-packages/torch/include/THC -I/usr/local/cuda/include -I/usr/include/python3.7m -c -c /content/scene_graph_benchmark/maskrcnn_benchmark/csrc/vision.cpp -o /content/scene_graph_benchmark/build/temp.linux-x86_64-3.7/content/scene_graph_benchmark/maskrcnn_benchmark/csrc/vision.o -DTORCH_API_INCLUDE_EXTENSION_H '-DPYBIND11_COMPILER_TYPE=\"_gcc\"' '-DPYBIND11_STDLIB=\"_libstdcpp\"' '-DPYBIND11_BUILD_ABI=\"_cxxabi1011\"' -DTORCH_EXTENSION_NAME=_C -D_GLIBCXX_USE_CXX11_ABI=0 -std=c++14 -DTORCH_API_INCLUDE_EXTENSION_H '-DPYBIND11_COMPILER_TYPE=\"_gcc\"' '-DPYBIND11_STDLIB=\"_libstdcpp\"' '-DPYBIND11_BUILD_ABI=\"_cxxabi1011\"' -DTORCH_EXTENSION_NAME=_C -D_GLIBCXX_USE_CXX11_ABI=0\n",
            "In file included from /usr/local/lib/python3.7/dist-packages/torch/include/ATen/Parallel.h:149:0,\n",
            "                 from /usr/local/lib/python3.7/dist-packages/torch/include/torch/csrc/api/include/torch/utils.h:3,\n",
            "                 from /usr/local/lib/python3.7/dist-packages/torch/include/torch/csrc/api/include/torch/nn/cloneable.h:5,\n",
            "                 from /usr/local/lib/python3.7/dist-packages/torch/include/torch/csrc/api/include/torch/nn.h:3,\n",
            "                 from /usr/local/lib/python3.7/dist-packages/torch/include/torch/csrc/api/include/torch/all.h:12,\n",
            "                 from /usr/local/lib/python3.7/dist-packages/torch/include/torch/extension.h:4,\n",
            "                 from /content/scene_graph_benchmark/maskrcnn_benchmark/csrc/cpu/vision.h:3,\n",
            "                 from /content/scene_graph_benchmark/maskrcnn_benchmark/csrc/nms.h:3,\n",
            "                 from /content/scene_graph_benchmark/maskrcnn_benchmark/csrc/vision.cpp:2:\n",
            "/usr/local/lib/python3.7/dist-packages/torch/include/ATen/ParallelOpenMP.h:84:0: warning: ignoring #pragma omp parallel [-Wunknown-pragmas]\n",
            " #pragma omp parallel for if ((end - begin) >= grain_size)\n",
            " \n",
            "[4/11] /usr/local/cuda/bin/nvcc -DWITH_CUDA -I/content/scene_graph_benchmark/maskrcnn_benchmark/csrc -I/usr/local/lib/python3.7/dist-packages/torch/include -I/usr/local/lib/python3.7/dist-packages/torch/include/torch/csrc/api/include -I/usr/local/lib/python3.7/dist-packages/torch/include/TH -I/usr/local/lib/python3.7/dist-packages/torch/include/THC -I/usr/local/cuda/include -I/usr/include/python3.7m -c -c /content/scene_graph_benchmark/maskrcnn_benchmark/csrc/cuda/nms.cu -o /content/scene_graph_benchmark/build/temp.linux-x86_64-3.7/content/scene_graph_benchmark/maskrcnn_benchmark/csrc/cuda/nms.o -D__CUDA_NO_HALF_OPERATORS__ -D__CUDA_NO_HALF_CONVERSIONS__ -D__CUDA_NO_HALF2_OPERATORS__ --expt-relaxed-constexpr --compiler-options ''\"'\"'-fPIC'\"'\"'' -DCUDA_HAS_FP16=1 -D__CUDA_NO_HALF_OPERATORS__ -D__CUDA_NO_HALF_CONVERSIONS__ -D__CUDA_NO_HALF2_OPERATORS__ -DTORCH_API_INCLUDE_EXTENSION_H '-DPYBIND11_COMPILER_TYPE=\"_gcc\"' '-DPYBIND11_STDLIB=\"_libstdcpp\"' '-DPYBIND11_BUILD_ABI=\"_cxxabi1011\"' -DTORCH_EXTENSION_NAME=_C -D_GLIBCXX_USE_CXX11_ABI=0 -DTORCH_API_INCLUDE_EXTENSION_H '-DPYBIND11_COMPILER_TYPE=\"_gcc\"' '-DPYBIND11_STDLIB=\"_libstdcpp\"' '-DPYBIND11_BUILD_ABI=\"_cxxabi1011\"' -DTORCH_EXTENSION_NAME=_C -D_GLIBCXX_USE_CXX11_ABI=0 -gencode=arch=compute_37,code=sm_37 -std=c++14\n",
            "nvcc warning : The 'compute_35', 'compute_37', 'compute_50', 'sm_35', 'sm_37' and 'sm_50' architectures are deprecated, and may be removed in a future release (Use -Wno-deprecated-gpu-targets to suppress warning).\n",
            "[5/11] /usr/local/cuda/bin/nvcc -DWITH_CUDA -I/content/scene_graph_benchmark/maskrcnn_benchmark/csrc -I/usr/local/lib/python3.7/dist-packages/torch/include -I/usr/local/lib/python3.7/dist-packages/torch/include/torch/csrc/api/include -I/usr/local/lib/python3.7/dist-packages/torch/include/TH -I/usr/local/lib/python3.7/dist-packages/torch/include/THC -I/usr/local/cuda/include -I/usr/include/python3.7m -c -c /content/scene_graph_benchmark/maskrcnn_benchmark/csrc/cuda/SigmoidFocalLoss_cuda.cu -o /content/scene_graph_benchmark/build/temp.linux-x86_64-3.7/content/scene_graph_benchmark/maskrcnn_benchmark/csrc/cuda/SigmoidFocalLoss_cuda.o -D__CUDA_NO_HALF_OPERATORS__ -D__CUDA_NO_HALF_CONVERSIONS__ -D__CUDA_NO_HALF2_OPERATORS__ --expt-relaxed-constexpr --compiler-options ''\"'\"'-fPIC'\"'\"'' -DCUDA_HAS_FP16=1 -D__CUDA_NO_HALF_OPERATORS__ -D__CUDA_NO_HALF_CONVERSIONS__ -D__CUDA_NO_HALF2_OPERATORS__ -DTORCH_API_INCLUDE_EXTENSION_H '-DPYBIND11_COMPILER_TYPE=\"_gcc\"' '-DPYBIND11_STDLIB=\"_libstdcpp\"' '-DPYBIND11_BUILD_ABI=\"_cxxabi1011\"' -DTORCH_EXTENSION_NAME=_C -D_GLIBCXX_USE_CXX11_ABI=0 -DTORCH_API_INCLUDE_EXTENSION_H '-DPYBIND11_COMPILER_TYPE=\"_gcc\"' '-DPYBIND11_STDLIB=\"_libstdcpp\"' '-DPYBIND11_BUILD_ABI=\"_cxxabi1011\"' -DTORCH_EXTENSION_NAME=_C -D_GLIBCXX_USE_CXX11_ABI=0 -gencode=arch=compute_37,code=sm_37 -std=c++14\n",
            "nvcc warning : The 'compute_35', 'compute_37', 'compute_50', 'sm_35', 'sm_37' and 'sm_50' architectures are deprecated, and may be removed in a future release (Use -Wno-deprecated-gpu-targets to suppress warning).\n",
            "[6/11] /usr/local/cuda/bin/nvcc -DWITH_CUDA -I/content/scene_graph_benchmark/maskrcnn_benchmark/csrc -I/usr/local/lib/python3.7/dist-packages/torch/include -I/usr/local/lib/python3.7/dist-packages/torch/include/torch/csrc/api/include -I/usr/local/lib/python3.7/dist-packages/torch/include/TH -I/usr/local/lib/python3.7/dist-packages/torch/include/THC -I/usr/local/cuda/include -I/usr/include/python3.7m -c -c /content/scene_graph_benchmark/maskrcnn_benchmark/csrc/cuda/deform_conv_kernel_cuda.cu -o /content/scene_graph_benchmark/build/temp.linux-x86_64-3.7/content/scene_graph_benchmark/maskrcnn_benchmark/csrc/cuda/deform_conv_kernel_cuda.o -D__CUDA_NO_HALF_OPERATORS__ -D__CUDA_NO_HALF_CONVERSIONS__ -D__CUDA_NO_HALF2_OPERATORS__ --expt-relaxed-constexpr --compiler-options ''\"'\"'-fPIC'\"'\"'' -DCUDA_HAS_FP16=1 -D__CUDA_NO_HALF_OPERATORS__ -D__CUDA_NO_HALF_CONVERSIONS__ -D__CUDA_NO_HALF2_OPERATORS__ -DTORCH_API_INCLUDE_EXTENSION_H '-DPYBIND11_COMPILER_TYPE=\"_gcc\"' '-DPYBIND11_STDLIB=\"_libstdcpp\"' '-DPYBIND11_BUILD_ABI=\"_cxxabi1011\"' -DTORCH_EXTENSION_NAME=_C -D_GLIBCXX_USE_CXX11_ABI=0 -DTORCH_API_INCLUDE_EXTENSION_H '-DPYBIND11_COMPILER_TYPE=\"_gcc\"' '-DPYBIND11_STDLIB=\"_libstdcpp\"' '-DPYBIND11_BUILD_ABI=\"_cxxabi1011\"' -DTORCH_EXTENSION_NAME=_C -D_GLIBCXX_USE_CXX11_ABI=0 -gencode=arch=compute_37,code=sm_37 -std=c++14\n",
            "nvcc warning : The 'compute_35', 'compute_37', 'compute_50', 'sm_35', 'sm_37' and 'sm_50' architectures are deprecated, and may be removed in a future release (Use -Wno-deprecated-gpu-targets to suppress warning).\n",
            "[7/11] /usr/local/cuda/bin/nvcc -DWITH_CUDA -I/content/scene_graph_benchmark/maskrcnn_benchmark/csrc -I/usr/local/lib/python3.7/dist-packages/torch/include -I/usr/local/lib/python3.7/dist-packages/torch/include/torch/csrc/api/include -I/usr/local/lib/python3.7/dist-packages/torch/include/TH -I/usr/local/lib/python3.7/dist-packages/torch/include/THC -I/usr/local/cuda/include -I/usr/include/python3.7m -c -c /content/scene_graph_benchmark/maskrcnn_benchmark/csrc/cuda/deform_pool_kernel_cuda.cu -o /content/scene_graph_benchmark/build/temp.linux-x86_64-3.7/content/scene_graph_benchmark/maskrcnn_benchmark/csrc/cuda/deform_pool_kernel_cuda.o -D__CUDA_NO_HALF_OPERATORS__ -D__CUDA_NO_HALF_CONVERSIONS__ -D__CUDA_NO_HALF2_OPERATORS__ --expt-relaxed-constexpr --compiler-options ''\"'\"'-fPIC'\"'\"'' -DCUDA_HAS_FP16=1 -D__CUDA_NO_HALF_OPERATORS__ -D__CUDA_NO_HALF_CONVERSIONS__ -D__CUDA_NO_HALF2_OPERATORS__ -DTORCH_API_INCLUDE_EXTENSION_H '-DPYBIND11_COMPILER_TYPE=\"_gcc\"' '-DPYBIND11_STDLIB=\"_libstdcpp\"' '-DPYBIND11_BUILD_ABI=\"_cxxabi1011\"' -DTORCH_EXTENSION_NAME=_C -D_GLIBCXX_USE_CXX11_ABI=0 -DTORCH_API_INCLUDE_EXTENSION_H '-DPYBIND11_COMPILER_TYPE=\"_gcc\"' '-DPYBIND11_STDLIB=\"_libstdcpp\"' '-DPYBIND11_BUILD_ABI=\"_cxxabi1011\"' -DTORCH_EXTENSION_NAME=_C -D_GLIBCXX_USE_CXX11_ABI=0 -gencode=arch=compute_37,code=sm_37 -std=c++14\n",
            "nvcc warning : The 'compute_35', 'compute_37', 'compute_50', 'sm_35', 'sm_37' and 'sm_50' architectures are deprecated, and may be removed in a future release (Use -Wno-deprecated-gpu-targets to suppress warning).\n",
            "[8/11] /usr/local/cuda/bin/nvcc -DWITH_CUDA -I/content/scene_graph_benchmark/maskrcnn_benchmark/csrc -I/usr/local/lib/python3.7/dist-packages/torch/include -I/usr/local/lib/python3.7/dist-packages/torch/include/torch/csrc/api/include -I/usr/local/lib/python3.7/dist-packages/torch/include/TH -I/usr/local/lib/python3.7/dist-packages/torch/include/THC -I/usr/local/cuda/include -I/usr/include/python3.7m -c -c /content/scene_graph_benchmark/maskrcnn_benchmark/csrc/cuda/ROIAlign_cuda.cu -o /content/scene_graph_benchmark/build/temp.linux-x86_64-3.7/content/scene_graph_benchmark/maskrcnn_benchmark/csrc/cuda/ROIAlign_cuda.o -D__CUDA_NO_HALF_OPERATORS__ -D__CUDA_NO_HALF_CONVERSIONS__ -D__CUDA_NO_HALF2_OPERATORS__ --expt-relaxed-constexpr --compiler-options ''\"'\"'-fPIC'\"'\"'' -DCUDA_HAS_FP16=1 -D__CUDA_NO_HALF_OPERATORS__ -D__CUDA_NO_HALF_CONVERSIONS__ -D__CUDA_NO_HALF2_OPERATORS__ -DTORCH_API_INCLUDE_EXTENSION_H '-DPYBIND11_COMPILER_TYPE=\"_gcc\"' '-DPYBIND11_STDLIB=\"_libstdcpp\"' '-DPYBIND11_BUILD_ABI=\"_cxxabi1011\"' -DTORCH_EXTENSION_NAME=_C -D_GLIBCXX_USE_CXX11_ABI=0 -DTORCH_API_INCLUDE_EXTENSION_H '-DPYBIND11_COMPILER_TYPE=\"_gcc\"' '-DPYBIND11_STDLIB=\"_libstdcpp\"' '-DPYBIND11_BUILD_ABI=\"_cxxabi1011\"' -DTORCH_EXTENSION_NAME=_C -D_GLIBCXX_USE_CXX11_ABI=0 -gencode=arch=compute_37,code=sm_37 -std=c++14\n",
            "nvcc warning : The 'compute_35', 'compute_37', 'compute_50', 'sm_35', 'sm_37' and 'sm_50' architectures are deprecated, and may be removed in a future release (Use -Wno-deprecated-gpu-targets to suppress warning).\n",
            "[9/11] /usr/local/cuda/bin/nvcc -DWITH_CUDA -I/content/scene_graph_benchmark/maskrcnn_benchmark/csrc -I/usr/local/lib/python3.7/dist-packages/torch/include -I/usr/local/lib/python3.7/dist-packages/torch/include/torch/csrc/api/include -I/usr/local/lib/python3.7/dist-packages/torch/include/TH -I/usr/local/lib/python3.7/dist-packages/torch/include/THC -I/usr/local/cuda/include -I/usr/include/python3.7m -c -c /content/scene_graph_benchmark/maskrcnn_benchmark/csrc/cuda/ROIPool_cuda.cu -o /content/scene_graph_benchmark/build/temp.linux-x86_64-3.7/content/scene_graph_benchmark/maskrcnn_benchmark/csrc/cuda/ROIPool_cuda.o -D__CUDA_NO_HALF_OPERATORS__ -D__CUDA_NO_HALF_CONVERSIONS__ -D__CUDA_NO_HALF2_OPERATORS__ --expt-relaxed-constexpr --compiler-options ''\"'\"'-fPIC'\"'\"'' -DCUDA_HAS_FP16=1 -D__CUDA_NO_HALF_OPERATORS__ -D__CUDA_NO_HALF_CONVERSIONS__ -D__CUDA_NO_HALF2_OPERATORS__ -DTORCH_API_INCLUDE_EXTENSION_H '-DPYBIND11_COMPILER_TYPE=\"_gcc\"' '-DPYBIND11_STDLIB=\"_libstdcpp\"' '-DPYBIND11_BUILD_ABI=\"_cxxabi1011\"' -DTORCH_EXTENSION_NAME=_C -D_GLIBCXX_USE_CXX11_ABI=0 -DTORCH_API_INCLUDE_EXTENSION_H '-DPYBIND11_COMPILER_TYPE=\"_gcc\"' '-DPYBIND11_STDLIB=\"_libstdcpp\"' '-DPYBIND11_BUILD_ABI=\"_cxxabi1011\"' -DTORCH_EXTENSION_NAME=_C -D_GLIBCXX_USE_CXX11_ABI=0 -gencode=arch=compute_37,code=sm_37 -std=c++14\n",
            "nvcc warning : The 'compute_35', 'compute_37', 'compute_50', 'sm_35', 'sm_37' and 'sm_50' architectures are deprecated, and may be removed in a future release (Use -Wno-deprecated-gpu-targets to suppress warning).\n",
            "[10/11] /usr/local/cuda/bin/nvcc -DWITH_CUDA -I/content/scene_graph_benchmark/maskrcnn_benchmark/csrc -I/usr/local/lib/python3.7/dist-packages/torch/include -I/usr/local/lib/python3.7/dist-packages/torch/include/torch/csrc/api/include -I/usr/local/lib/python3.7/dist-packages/torch/include/TH -I/usr/local/lib/python3.7/dist-packages/torch/include/THC -I/usr/local/cuda/include -I/usr/include/python3.7m -c -c /content/scene_graph_benchmark/maskrcnn_benchmark/csrc/cuda/deform_pool_cuda.cu -o /content/scene_graph_benchmark/build/temp.linux-x86_64-3.7/content/scene_graph_benchmark/maskrcnn_benchmark/csrc/cuda/deform_pool_cuda.o -D__CUDA_NO_HALF_OPERATORS__ -D__CUDA_NO_HALF_CONVERSIONS__ -D__CUDA_NO_HALF2_OPERATORS__ --expt-relaxed-constexpr --compiler-options ''\"'\"'-fPIC'\"'\"'' -DCUDA_HAS_FP16=1 -D__CUDA_NO_HALF_OPERATORS__ -D__CUDA_NO_HALF_CONVERSIONS__ -D__CUDA_NO_HALF2_OPERATORS__ -DTORCH_API_INCLUDE_EXTENSION_H '-DPYBIND11_COMPILER_TYPE=\"_gcc\"' '-DPYBIND11_STDLIB=\"_libstdcpp\"' '-DPYBIND11_BUILD_ABI=\"_cxxabi1011\"' -DTORCH_EXTENSION_NAME=_C -D_GLIBCXX_USE_CXX11_ABI=0 -DTORCH_API_INCLUDE_EXTENSION_H '-DPYBIND11_COMPILER_TYPE=\"_gcc\"' '-DPYBIND11_STDLIB=\"_libstdcpp\"' '-DPYBIND11_BUILD_ABI=\"_cxxabi1011\"' -DTORCH_EXTENSION_NAME=_C -D_GLIBCXX_USE_CXX11_ABI=0 -gencode=arch=compute_37,code=sm_37 -std=c++14\n",
            "nvcc warning : The 'compute_35', 'compute_37', 'compute_50', 'sm_35', 'sm_37' and 'sm_50' architectures are deprecated, and may be removed in a future release (Use -Wno-deprecated-gpu-targets to suppress warning).\n",
            "[11/11] /usr/local/cuda/bin/nvcc -DWITH_CUDA -I/content/scene_graph_benchmark/maskrcnn_benchmark/csrc -I/usr/local/lib/python3.7/dist-packages/torch/include -I/usr/local/lib/python3.7/dist-packages/torch/include/torch/csrc/api/include -I/usr/local/lib/python3.7/dist-packages/torch/include/TH -I/usr/local/lib/python3.7/dist-packages/torch/include/THC -I/usr/local/cuda/include -I/usr/include/python3.7m -c -c /content/scene_graph_benchmark/maskrcnn_benchmark/csrc/cuda/deform_conv_cuda.cu -o /content/scene_graph_benchmark/build/temp.linux-x86_64-3.7/content/scene_graph_benchmark/maskrcnn_benchmark/csrc/cuda/deform_conv_cuda.o -D__CUDA_NO_HALF_OPERATORS__ -D__CUDA_NO_HALF_CONVERSIONS__ -D__CUDA_NO_HALF2_OPERATORS__ --expt-relaxed-constexpr --compiler-options ''\"'\"'-fPIC'\"'\"'' -DCUDA_HAS_FP16=1 -D__CUDA_NO_HALF_OPERATORS__ -D__CUDA_NO_HALF_CONVERSIONS__ -D__CUDA_NO_HALF2_OPERATORS__ -DTORCH_API_INCLUDE_EXTENSION_H '-DPYBIND11_COMPILER_TYPE=\"_gcc\"' '-DPYBIND11_STDLIB=\"_libstdcpp\"' '-DPYBIND11_BUILD_ABI=\"_cxxabi1011\"' -DTORCH_EXTENSION_NAME=_C -D_GLIBCXX_USE_CXX11_ABI=0 -DTORCH_API_INCLUDE_EXTENSION_H '-DPYBIND11_COMPILER_TYPE=\"_gcc\"' '-DPYBIND11_STDLIB=\"_libstdcpp\"' '-DPYBIND11_BUILD_ABI=\"_cxxabi1011\"' -DTORCH_EXTENSION_NAME=_C -D_GLIBCXX_USE_CXX11_ABI=0 -gencode=arch=compute_37,code=sm_37 -std=c++14\n",
            "nvcc warning : The 'compute_35', 'compute_37', 'compute_50', 'sm_35', 'sm_37' and 'sm_50' architectures are deprecated, and may be removed in a future release (Use -Wno-deprecated-gpu-targets to suppress warning).\n",
            "x86_64-linux-gnu-g++ -pthread -shared -Wl,-O1 -Wl,-Bsymbolic-functions -Wl,-Bsymbolic-functions -Wl,-z,relro -Wl,-Bsymbolic-functions -Wl,-z,relro -g -fdebug-prefix-map=/build/python3.7-dIfpci/python3.7-3.7.13=. -fstack-protector-strong -Wformat -Werror=format-security -Wdate-time -D_FORTIFY_SOURCE=2 /content/scene_graph_benchmark/build/temp.linux-x86_64-3.7/content/scene_graph_benchmark/maskrcnn_benchmark/csrc/vision.o /content/scene_graph_benchmark/build/temp.linux-x86_64-3.7/content/scene_graph_benchmark/maskrcnn_benchmark/csrc/cpu/ROIAlign_cpu.o /content/scene_graph_benchmark/build/temp.linux-x86_64-3.7/content/scene_graph_benchmark/maskrcnn_benchmark/csrc/cpu/nms_cpu.o /content/scene_graph_benchmark/build/temp.linux-x86_64-3.7/content/scene_graph_benchmark/maskrcnn_benchmark/csrc/cuda/SigmoidFocalLoss_cuda.o /content/scene_graph_benchmark/build/temp.linux-x86_64-3.7/content/scene_graph_benchmark/maskrcnn_benchmark/csrc/cuda/deform_conv_kernel_cuda.o /content/scene_graph_benchmark/build/temp.linux-x86_64-3.7/content/scene_graph_benchmark/maskrcnn_benchmark/csrc/cuda/deform_pool_kernel_cuda.o /content/scene_graph_benchmark/build/temp.linux-x86_64-3.7/content/scene_graph_benchmark/maskrcnn_benchmark/csrc/cuda/ROIAlign_cuda.o /content/scene_graph_benchmark/build/temp.linux-x86_64-3.7/content/scene_graph_benchmark/maskrcnn_benchmark/csrc/cuda/ROIPool_cuda.o /content/scene_graph_benchmark/build/temp.linux-x86_64-3.7/content/scene_graph_benchmark/maskrcnn_benchmark/csrc/cuda/deform_pool_cuda.o /content/scene_graph_benchmark/build/temp.linux-x86_64-3.7/content/scene_graph_benchmark/maskrcnn_benchmark/csrc/cuda/nms.o /content/scene_graph_benchmark/build/temp.linux-x86_64-3.7/content/scene_graph_benchmark/maskrcnn_benchmark/csrc/cuda/deform_conv_cuda.o -L/usr/local/lib/python3.7/dist-packages/torch/lib -L/usr/local/cuda/lib64 -lc10 -ltorch -ltorch_cpu -ltorch_python -lcudart -lc10_cuda -ltorch_cuda -o build/lib.linux-x86_64-3.7/maskrcnn_benchmark/_C.cpython-37m-x86_64-linux-gnu.so\n",
            "copying build/lib.linux-x86_64-3.7/maskrcnn_benchmark/_C.cpython-37m-x86_64-linux-gnu.so -> maskrcnn_benchmark\n",
            "Creating /usr/local/lib/python3.7/dist-packages/maskrcnn-benchmark.egg-link (link to .)\n",
            "Adding maskrcnn-benchmark 0.1 to easy-install.pth file\n",
            "\n",
            "Installed /content/scene_graph_benchmark\n",
            "Processing dependencies for maskrcnn-benchmark==0.1\n",
            "Finished processing dependencies for maskrcnn-benchmark==0.1\n"
          ]
        }
      ]
    },
    {
      "cell_type": "code",
      "source": [
        "%cd /content/scene_graph_benchmark\n",
        "! python tools/demo/demo_image.py --config_file sgg_configs/vgattr/vinvl_x152c4.yaml --img_file demo/woman_fish.jpg --save_file output/woman_fish_1.jpg MODEL.WEIGHT pretrained_model/vinvl_vg_x152c4.pth MODEL.ROI_HEADS.NMS_FILTER 1 MODEL.ROI_HEADS.SCORE_THRESH 0.2 TEST.IGNORE_BOX_REGRESSION False\n"
      ],
      "metadata": {
        "colab": {
          "base_uri": "https://localhost:8080/"
        },
        "id": "PqvcHsUUQ876",
        "outputId": "71118f5d-ca6a-4944-85ee-8ea230efb510"
      },
      "execution_count": null,
      "outputs": [
        {
          "output_type": "stream",
          "name": "stdout",
          "text": [
            "save results to: output/woman_fish_1.jpg\n"
          ]
        }
      ]
    },
    {
      "cell_type": "code",
      "source": [
        "%cd /content/scene_graph_benchmark\n",
        "! python tools/demo/demo_image.py --config_file sgg_configs/vgattr/vinvl_x152c4.yaml --img_file demo/woman_fish.jpg --save_file output/woman_fish_2.jpg --visualize_attr MODEL.WEIGHT pretrained_model/vinvl_vg_x152c4.pth MODEL.ROI_HEADS.NMS_FILTER 1 MODEL.ROI_HEADS.SCORE_THRESH 0.2 TEST.IGNORE_BOX_REGRESSION False\n"
      ],
      "metadata": {
        "colab": {
          "base_uri": "https://localhost:8080/"
        },
        "id": "zI_kDjF9UzYW",
        "outputId": "6eb59b9e-8c09-4245-c507-eb0c69c707f5"
      },
      "execution_count": 26,
      "outputs": [
        {
          "output_type": "stream",
          "name": "stdout",
          "text": [
            "/content/scene_graph_benchmark\n",
            "Traceback (most recent call last):\n",
            "  File \"tools/demo/demo_image.py\", line 176, in <module>\n",
            "    main()\n",
            "  File \"tools/demo/demo_image.py\", line 92, in main\n",
            "    cfg.DATASETS.LABELMAP_FILE)\n",
            "  File \"/content/scene_graph_benchmark/maskrcnn_benchmark/data/datasets/utils/load_files.py\", line 37, in config_dataset_file\n",
            "    raise ValueError(\"cannot find file: {}\".format(dataset_file))\n",
            "ValueError: cannot find file: visualgenome/VG-SGG-dicts-vgoi6-clipped.json\n"
          ]
        }
      ]
    },
    {
      "cell_type": "code",
      "source": [
        "%cd /content/scene_graph_benchmark\n",
        "%mkdir /content/scene_graph_benchmark/output\n",
        "# ! python tools/demo/demo_image.py --config_file sgg_configs/vrd/R152FPN_vrd_reldn.yaml --img_file demo/trump.jpg --save_file output/woman_fish_3.jpg --visualize_relation MODEL.ROI_RELATION_HEAD.DETECTOR_PRE_CALCULATED False\n",
        "! python tools/demo/demo_image.py --config_file sgg_configs/vg_vrd/rel_danfeiX_FPN50_imp.yaml --img_file demo/prime.jpg --save_file output/woman_fish_3.jpg --visualize_relation MODEL.ROI_RELATION_HEAD.DETECTOR_PRE_CALCULATED False\n"
      ],
      "metadata": {
        "colab": {
          "base_uri": "https://localhost:8080/"
        },
        "id": "LZ71JeriN9Bf",
        "outputId": "dfac7fb8-6f19-4418-cfa3-a0e7f92d75f1"
      },
      "execution_count": 25,
      "outputs": [
        {
          "output_type": "stream",
          "name": "stdout",
          "text": [
            "/content/scene_graph_benchmark\n",
            "mkdir: cannot create directory ‘/content/scene_graph_benchmark/output’: File exists\n",
            "Using frequency bias:  /content/output/visualgenome/label_danfeiX_clipped.freq_prior.npy\n",
            "{'objects': [{'rect': [432.9056091308594, 170.58583068847656, 571.4830932617188, 210.69818115234375], 'class': 54, 'conf': 0.9617440104484558, 'attr': [46, 357, 149, 176, 208], 'attr_conf': [0.0034565050154924393, 0.0033985148184001446, 0.0033951622899621725, 0.0033718314953148365, 0.003352667670696974]}, {'rect': [658.1575927734375, 133.76202392578125, 779.93017578125, 166.5752410888672], 'class': 54, 'conf': 0.9567733407020569, 'attr': [46, 149, 176, 357], 'attr_conf': [0.003537872340530157, 0.0033545540645718575, 0.0033188769593834877, 0.0033083027228713036]}, {'rect': [922.8056030273438, 174.88031005859375, 1036.897705078125, 209.37966918945312], 'class': 54, 'conf': 0.9439215064048767, 'attr': [46, 149, 176], 'attr_conf': [0.003536773845553398, 0.0033700407948344946, 0.003331599058583379]}, {'rect': [128.384765625, 326.4512634277344, 242.3817138671875, 460.84619140625], 'class': 58, 'conf': 0.853492021560669, 'attr': [], 'attr_conf': []}, {'rect': [22.72481346130371, 41.278648376464844, 447.7938232421875, 798.6666870117188], 'class': 78, 'conf': 0.9238975048065186, 'attr': [], 'attr_conf': []}, {'rect': [551.1696166992188, 66.108154296875, 833.9791870117188, 796.1876831054688], 'class': 78, 'conf': 0.9001609683036804, 'attr': [], 'attr_conf': []}, {'rect': [374.67303466796875, 93.07991790771484, 691.7337646484375, 798.6666870117188], 'class': 78, 'conf': 0.8977100849151611, 'attr': [], 'attr_conf': []}, {'rect': [790.0218505859375, 97.85494232177734, 1136.3807373046875, 794.87890625], 'class': 78, 'conf': 0.8952562212944031, 'attr': [], 'attr_conf': []}, {'rect': [493.00567626953125, 302.521728515625, 563.7154541015625, 501.455322265625], 'class': 128, 'conf': 0.9913780689239502, 'attr': [176], 'attr_conf': [0.0033912695944309235]}, {'rect': [704.304443359375, 245.29977416992188, 756.2694702148438, 421.86126708984375], 'class': 128, 'conf': 0.9784474968910217, 'attr': [176, 149], 'attr_conf': [0.003495831973850727, 0.003346851095557213]}, {'rect': [270.9914855957031, 279.2259216308594, 345.6285400390625, 498.263671875], 'class': 128, 'conf': 0.9608058929443359, 'attr': [], 'attr_conf': []}, {'rect': [962.8768310546875, 279.8567810058594, 1025.386962890625, 433.7920837402344], 'class': 128, 'conf': 0.9280891418457031, 'attr': [176], 'attr_conf': [0.003330845385789871]}], 'relations': [{'subj_id': 6, 'obj_id': 8, 'class': 48, 'conf': 0.8470412492752075}, {'subj_id': 4, 'obj_id': 10, 'class': 48, 'conf': 0.8460993766784668}, {'subj_id': 5, 'obj_id': 9, 'class': 48, 'conf': 0.8390421271324158}, {'subj_id': 5, 'obj_id': 8, 'class': 48, 'conf': 0.8325877785682678}, {'subj_id': 6, 'obj_id': 0, 'class': 48, 'conf': 0.8098523616790771}, {'subj_id': 5, 'obj_id': 1, 'class': 48, 'conf': 0.8094692826271057}, {'subj_id': 7, 'obj_id': 2, 'class': 48, 'conf': 0.7991317510604858}, {'subj_id': 7, 'obj_id': 11, 'class': 48, 'conf': 0.797173798084259}, {'subj_id': 4, 'obj_id': 3, 'class': 20, 'conf': 0.7471389174461365}, {'subj_id': 2, 'obj_id': 7, 'class': 31, 'conf': 0.637488067150116}, {'subj_id': 1, 'obj_id': 5, 'class': 31, 'conf': 0.5824743509292603}, {'subj_id': 8, 'obj_id': 6, 'class': 31, 'conf': 0.5795391201972961}, {'subj_id': 9, 'obj_id': 5, 'class': 31, 'conf': 0.5393016934394836}, {'subj_id': 0, 'obj_id': 6, 'class': 31, 'conf': 0.5140378475189209}, {'subj_id': 5, 'obj_id': 0, 'class': 48, 'conf': 0.5116439461708069}, {'subj_id': 11, 'obj_id': 7, 'class': 31, 'conf': 0.4928811490535736}, {'subj_id': 6, 'obj_id': 1, 'class': 48, 'conf': 0.4569402039051056}, {'subj_id': 10, 'obj_id': 4, 'class': 31, 'conf': 0.4437825679779053}, {'subj_id': 8, 'obj_id': 5, 'class': 31, 'conf': 0.4183266758918762}, {'subj_id': 3, 'obj_id': 4, 'class': 30, 'conf': 0.301462322473526}, {'subj_id': 4, 'obj_id': 0, 'class': 48, 'conf': 0.16875192523002625}, {'subj_id': 1, 'obj_id': 6, 'class': 31, 'conf': 0.0739516168832779}, {'subj_id': 0, 'obj_id': 5, 'class': 31, 'conf': 0.04080842435359955}, {'subj_id': 0, 'obj_id': 4, 'class': 31, 'conf': 0.01553128007799387}, {'subj_id': 5, 'obj_id': 6, 'class': 29, 'conf': 0.0010683754226192832}, {'subj_id': 6, 'obj_id': 5, 'class': 29, 'conf': 0.0007773495744913816}, {'subj_id': 6, 'obj_id': 4, 'class': 29, 'conf': 0.0002479670220054686}, {'subj_id': 7, 'obj_id': 5, 'class': 29, 'conf': 0.0001401024783262983}, {'subj_id': 4, 'obj_id': 6, 'class': 29, 'conf': 0.00011131827341159806}, {'subj_id': 5, 'obj_id': 7, 'class': 29, 'conf': 7.012797868810594e-05}]}\n",
            "save results to: output/woman_fish_3.jpg\n"
          ]
        }
      ]
    },
    {
      "cell_type": "code",
      "source": [
        "%mkdir pretrained_model\n",
        "! wget https://penzhanwu2.blob.core.windows.net/sgg/sgg_benchmark/vinvl_model_zoo/vinvl_vg_x152c4.pth\n",
        "! mv /content/scene_graph_benchmark/vinvl_vg_x152c4.pth /content/scene_graph_benchmark/pretrained_model"
      ],
      "metadata": {
        "colab": {
          "base_uri": "https://localhost:8080/"
        },
        "id": "vKe05hBjPdS1",
        "outputId": "601dad9a-5cc8-4284-aa93-7a46fb782811"
      },
      "execution_count": 3,
      "outputs": [
        {
          "output_type": "stream",
          "name": "stdout",
          "text": [
            "--2022-03-30 08:43:50--  https://penzhanwu2.blob.core.windows.net/sgg/sgg_benchmark/vinvl_model_zoo/vinvl_vg_x152c4.pth\n",
            "Resolving penzhanwu2.blob.core.windows.net (penzhanwu2.blob.core.windows.net)... 52.239.236.68\n",
            "Connecting to penzhanwu2.blob.core.windows.net (penzhanwu2.blob.core.windows.net)|52.239.236.68|:443... connected.\n",
            "HTTP request sent, awaiting response... 200 OK\n",
            "Length: 593474486 (566M) [application/octet-stream]\n",
            "Saving to: ‘vinvl_vg_x152c4.pth’\n",
            "\n",
            "vinvl_vg_x152c4.pth 100%[===================>] 565.98M  17.0MB/s    in 41s     \n",
            "\n",
            "2022-03-30 08:44:31 (14.0 MB/s) - ‘vinvl_vg_x152c4.pth’ saved [593474486/593474486]\n",
            "\n"
          ]
        }
      ]
    },
    {
      "cell_type": "code",
      "source": [
        "# ! wget https://penzhanwu2.blob.core.windows.net/sgg/sgg_benchmark/vinvl_model_zoo/vinvl_vg_x152c4.pth\n",
        "# ! mv /content/scene_graph_benchmark/vinvl_vg_x152c4.pth /content/scene_graph_benchmark/pretrained_model\n",
        "! wget https://penzhanwu2.blob.core.windows.net/sgg/sgg_benchmark/vinvl_model_zoo/VG-SGG-dicts-vgoi6-clipped.json\n",
        "! mv /content/scene_graph_benchmark/VG-SGG-dicts-vgoi6-clipped.json /content/scene_graph_benchmark/pretrained_model"
      ],
      "metadata": {
        "colab": {
          "base_uri": "https://localhost:8080/"
        },
        "id": "xY9kmqjUPgyz",
        "outputId": "c2e024ca-35c7-4644-c32e-616e437695d7"
      },
      "execution_count": 4,
      "outputs": [
        {
          "output_type": "stream",
          "name": "stdout",
          "text": [
            "--2022-03-30 08:44:31--  https://penzhanwu2.blob.core.windows.net/sgg/sgg_benchmark/vinvl_model_zoo/VG-SGG-dicts-vgoi6-clipped.json\n",
            "Resolving penzhanwu2.blob.core.windows.net (penzhanwu2.blob.core.windows.net)... 52.239.236.68\n",
            "Connecting to penzhanwu2.blob.core.windows.net (penzhanwu2.blob.core.windows.net)|52.239.236.68|:443... connected.\n",
            "HTTP request sent, awaiting response... 200 OK\n",
            "Length: 108739 (106K) [application/octet-stream]\n",
            "Saving to: ‘VG-SGG-dicts-vgoi6-clipped.json’\n",
            "\n",
            "VG-SGG-dicts-vgoi6- 100%[===================>] 106.19K   649KB/s    in 0.2s    \n",
            "\n",
            "2022-03-30 08:44:32 (649 KB/s) - ‘VG-SGG-dicts-vgoi6-clipped.json’ saved [108739/108739]\n",
            "\n"
          ]
        }
      ]
    },
    {
      "cell_type": "code",
      "source": [
        "! wget https://penzhanwu2.blob.core.windows.net/sgg/sgg_benchmark/sgg_model_zoo/sgg_oi_vrd_model_zoo/RX152FPN_reldn_oi_best.pth\n",
        "! mv /content/scene_graph_benchmark/RX152FPN_reldn_oi_best.pth /content/scene_graph_benchmark/pretrained_model"
      ],
      "metadata": {
        "id": "rHvl1u7pUvIw",
        "colab": {
          "base_uri": "https://localhost:8080/"
        },
        "outputId": "9874211a-22c7-4faa-b4c0-41636634317c"
      },
      "execution_count": 5,
      "outputs": [
        {
          "output_type": "stream",
          "name": "stdout",
          "text": [
            "--2022-03-30 08:44:32--  https://penzhanwu2.blob.core.windows.net/sgg/sgg_benchmark/sgg_model_zoo/sgg_oi_vrd_model_zoo/RX152FPN_reldn_oi_best.pth\n",
            "Resolving penzhanwu2.blob.core.windows.net (penzhanwu2.blob.core.windows.net)... 52.239.236.68\n",
            "Connecting to penzhanwu2.blob.core.windows.net (penzhanwu2.blob.core.windows.net)|52.239.236.68|:443... connected.\n",
            "HTTP request sent, awaiting response... 200 OK\n",
            "Length: 1927471441 (1.8G) [application/octet-stream]\n",
            "Saving to: ‘RX152FPN_reldn_oi_best.pth’\n",
            "\n",
            "RX152FPN_reldn_oi_b 100%[===================>]   1.79G  23.9MB/s    in 94s     \n",
            "\n",
            "2022-03-30 08:46:06 (19.6 MB/s) - ‘RX152FPN_reldn_oi_best.pth’ saved [1927471441/1927471441]\n",
            "\n"
          ]
        }
      ]
    },
    {
      "cell_type": "code",
      "source": [
        "! wget https://aka.ms/downloadazcopy-v10-linux\n",
        "! tar -xvf downloadazcopy-v10-linux\n",
        "! sudo cp ./azcopy_linux_amd64_*/azcopy /usr/bin/"
      ],
      "metadata": {
        "colab": {
          "base_uri": "https://localhost:8080/"
        },
        "id": "0y8mUTJ9otZv",
        "outputId": "835863bd-c1e5-403d-df64-4bf29082c422"
      },
      "execution_count": 6,
      "outputs": [
        {
          "output_type": "stream",
          "name": "stdout",
          "text": [
            "--2022-03-30 08:46:06--  https://aka.ms/downloadazcopy-v10-linux\n",
            "Resolving aka.ms (aka.ms)... 96.7.86.32\n",
            "Connecting to aka.ms (aka.ms)|96.7.86.32|:443... connected.\n",
            "HTTP request sent, awaiting response... 301 Moved Permanently\n",
            "Location: https://azcopyvnext.azureedge.net/release20220315/azcopy_linux_amd64_10.14.1.tar.gz [following]\n",
            "--2022-03-30 08:46:07--  https://azcopyvnext.azureedge.net/release20220315/azcopy_linux_amd64_10.14.1.tar.gz\n",
            "Resolving azcopyvnext.azureedge.net (azcopyvnext.azureedge.net)... 23.35.68.193, 23.35.68.224, 2600:1407:b800::687b:988a, ...\n",
            "Connecting to azcopyvnext.azureedge.net (azcopyvnext.azureedge.net)|23.35.68.193|:443... connected.\n",
            "HTTP request sent, awaiting response... 200 OK\n",
            "Length: 12456648 (12M) [application/gzip]\n",
            "Saving to: ‘downloadazcopy-v10-linux’\n",
            "\n",
            "downloadazcopy-v10- 100%[===================>]  11.88M  --.-KB/s    in 0.1s    \n",
            "\n",
            "2022-03-30 08:46:07 (108 MB/s) - ‘downloadazcopy-v10-linux’ saved [12456648/12456648]\n",
            "\n",
            "azcopy_linux_amd64_10.14.1/\n",
            "azcopy_linux_amd64_10.14.1/NOTICE.txt\n",
            "azcopy_linux_amd64_10.14.1/azcopy\n"
          ]
        }
      ]
    },
    {
      "cell_type": "code",
      "source": [
        "! /usr/bin/azcopy copy 'https://penzhanwu2.blob.core.windows.net/sgg/sgg_benchmark/datasets/visualgenome' /content/output --recursive"
      ],
      "metadata": {
        "colab": {
          "base_uri": "https://localhost:8080/"
        },
        "id": "ze0mgKSQo36F",
        "outputId": "92ab6e7d-88f7-4585-da5a-18d8f072df9a"
      },
      "execution_count": 7,
      "outputs": [
        {
          "output_type": "stream",
          "name": "stdout",
          "text": [
            "INFO: Scanning...\n",
            "INFO: Any empty folders will not be processed, because source and/or destination doesn't have full folder support\n",
            "\n",
            "Job 8522c40f-cd2c-3048-5650-f97a74157e9b has started\n",
            "Log file is located at: /root/.azcopy/8522c40f-cd2c-3048-5650-f97a74157e9b.log\n",
            "\n",
            "100.0 %, 16 Done, 0 Failed, 1 Pending, 0 Skipped, 17 Total, 2-sec Throughput (Mb/s): 757.8046 (Disk may be limiting speed)\n",
            "\n",
            "\n",
            "Job 8522c40f-cd2c-3048-5650-f97a74157e9b summary\n",
            "Elapsed Time (Minutes): 1.6466\n",
            "Number of File Transfers: 17\n",
            "Number of Folder Property Transfers: 0\n",
            "Total Number of Transfers: 17\n",
            "Number of Transfers Completed: 17\n",
            "Number of Transfers Failed: 0\n",
            "Number of Transfers Skipped: 0\n",
            "TotalBytesTransferred: 20750785732\n",
            "Final Job Status: Completed\n",
            "\n"
          ]
        }
      ]
    },
    {
      "cell_type": "code",
      "source": [
        "%mkdir datasets"
      ],
      "metadata": {
        "id": "hzVC2EDiuDeq"
      },
      "execution_count": 8,
      "outputs": []
    },
    {
      "cell_type": "code",
      "source": [
        "! mv /content/output/openimages_v5c /content/scene_graph_benchmark/datasets"
      ],
      "metadata": {
        "id": "GZk52OpluKOZ",
        "outputId": "9223efbe-4747-4b31-d26b-558c371f9446",
        "colab": {
          "base_uri": "https://localhost:8080/"
        }
      },
      "execution_count": 9,
      "outputs": [
        {
          "output_type": "stream",
          "name": "stdout",
          "text": [
            "mv: cannot stat '/content/output/openimages_v5c': No such file or directory\n"
          ]
        }
      ]
    },
    {
      "cell_type": "code",
      "source": [
        "%cd /content/scene_graph_benchmark/pretrained_model\n",
        "! wget https://penzhanwu2.blob.core.windows.net/sgg/sgg_benchmark/sgg_model_zoo/visualgenome/imp_usefpFalse_lr0.005_bsz4_featstep2/model_final.pth "
      ],
      "metadata": {
        "colab": {
          "base_uri": "https://localhost:8080/"
        },
        "id": "CleT0BHYhBMW",
        "outputId": "8a0db0ee-c419-4082-acd0-09c54693f430"
      },
      "execution_count": 10,
      "outputs": [
        {
          "output_type": "stream",
          "name": "stdout",
          "text": [
            "/content/scene_graph_benchmark/pretrained_model\n",
            "--2022-03-30 08:47:49--  https://penzhanwu2.blob.core.windows.net/sgg/sgg_benchmark/sgg_model_zoo/visualgenome/imp_usefpFalse_lr0.005_bsz4_featstep2/model_final.pth\n",
            "Resolving penzhanwu2.blob.core.windows.net (penzhanwu2.blob.core.windows.net)... 52.239.236.68\n",
            "Connecting to penzhanwu2.blob.core.windows.net (penzhanwu2.blob.core.windows.net)|52.239.236.68|:443... connected.\n",
            "HTTP request sent, awaiting response... 200 OK\n",
            "Length: 643777878 (614M) [application/octet-stream]\n",
            "Saving to: ‘model_final.pth’\n",
            "\n",
            "model_final.pth     100%[===================>] 613.95M  18.0MB/s    in 41s     \n",
            "\n",
            "2022-03-30 08:48:30 (14.9 MB/s) - ‘model_final.pth’ saved [643777878/643777878]\n",
            "\n"
          ]
        }
      ]
    },
    {
      "cell_type": "markdown",
      "source": [
        "# Convert JSON to graph"
      ],
      "metadata": {
        "id": "-58rGjNX7XfD"
      }
    },
    {
      "cell_type": "code",
      "source": [
        "import json"
      ],
      "metadata": {
        "id": "2cpW757nHSbl"
      },
      "execution_count": 29,
      "outputs": []
    },
    {
      "cell_type": "code",
      "source": [
        "%cd /content/scene_graph_benchmark/tools/demo/graphviz\n",
        "a = {'objects': [{'rect': [432.9056091308594, 170.58583068847656, 571.4830932617188, 210.69818115234375], 'class': 54, 'conf': 0.9617440104484558, 'attr': [46, 357, 149, 176, 208], 'attr_conf': [0.0034565050154924393, 0.0033985148184001446, 0.0033951622899621725, 0.0033718314953148365, 0.003352667670696974]}, {'rect': [658.1575927734375, 133.76202392578125, 779.93017578125, 166.5752410888672], 'class': 54, 'conf': 0.9567733407020569, 'attr': [46, 149, 176, 357], 'attr_conf': [0.003537872340530157, 0.0033545540645718575, 0.0033188769593834877, 0.0033083027228713036]}, {'rect': [922.8056030273438, 174.88031005859375, 1036.897705078125, 209.37966918945312], 'class': 54, 'conf': 0.9439215064048767, 'attr': [46, 149, 176], 'attr_conf': [0.003536773845553398, 0.0033700407948344946, 0.003331599058583379]}, {'rect': [128.384765625, 326.4512634277344, 242.3817138671875, 460.84619140625], 'class': 58, 'conf': 0.853492021560669, 'attr': [], 'attr_conf': []}, {'rect': [22.72481346130371, 41.278648376464844, 447.7938232421875, 798.6666870117188], 'class': 78, 'conf': 0.9238975048065186, 'attr': [], 'attr_conf': []}, {'rect': [551.1696166992188, 66.108154296875, 833.9791870117188, 796.1876831054688], 'class': 78, 'conf': 0.9001609683036804, 'attr': [], 'attr_conf': []}, {'rect': [374.67303466796875, 93.07991790771484, 691.7337646484375, 798.6666870117188], 'class': 78, 'conf': 0.8977100849151611, 'attr': [], 'attr_conf': []}, {'rect': [790.0218505859375, 97.85494232177734, 1136.3807373046875, 794.87890625], 'class': 78, 'conf': 0.8952562212944031, 'attr': [], 'attr_conf': []}, {'rect': [493.00567626953125, 302.521728515625, 563.7154541015625, 501.455322265625], 'class': 128, 'conf': 0.9913780689239502, 'attr': [176], 'attr_conf': [0.0033912695944309235]}, {'rect': [704.304443359375, 245.29977416992188, 756.2694702148438, 421.86126708984375], 'class': 128, 'conf': 0.9784474968910217, 'attr': [176, 149], 'attr_conf': [0.003495831973850727, 0.003346851095557213]}, {'rect': [270.9914855957031, 279.2259216308594, 345.6285400390625, 498.263671875], 'class': 128, 'conf': 0.9608058929443359, 'attr': [], 'attr_conf': []}, {'rect': [962.8768310546875, 279.8567810058594, 1025.386962890625, 433.7920837402344], 'class': 128, 'conf': 0.9280891418457031, 'attr': [176], 'attr_conf': [0.003330845385789871]}], 'relations': [{'subj_id': 6, 'obj_id': 8, 'class': 48, 'conf': 0.8470412492752075}, {'subj_id': 4, 'obj_id': 10, 'class': 48, 'conf': 0.8460993766784668}, {'subj_id': 5, 'obj_id': 9, 'class': 48, 'conf': 0.8390421271324158}, {'subj_id': 5, 'obj_id': 8, 'class': 48, 'conf': 0.8325877785682678}, {'subj_id': 6, 'obj_id': 0, 'class': 48, 'conf': 0.8098523616790771}, {'subj_id': 5, 'obj_id': 1, 'class': 48, 'conf': 0.8094692826271057}, {'subj_id': 7, 'obj_id': 2, 'class': 48, 'conf': 0.7991317510604858}, {'subj_id': 7, 'obj_id': 11, 'class': 48, 'conf': 0.797173798084259}, {'subj_id': 4, 'obj_id': 3, 'class': 20, 'conf': 0.7471389174461365}, {'subj_id': 2, 'obj_id': 7, 'class': 31, 'conf': 0.637488067150116}, {'subj_id': 1, 'obj_id': 5, 'class': 31, 'conf': 0.5824743509292603}, {'subj_id': 8, 'obj_id': 6, 'class': 31, 'conf': 0.5795391201972961}, {'subj_id': 9, 'obj_id': 5, 'class': 31, 'conf': 0.5393016934394836}, {'subj_id': 0, 'obj_id': 6, 'class': 31, 'conf': 0.5140378475189209}, {'subj_id': 5, 'obj_id': 0, 'class': 48, 'conf': 0.5116439461708069}, {'subj_id': 11, 'obj_id': 7, 'class': 31, 'conf': 0.4928811490535736}, {'subj_id': 6, 'obj_id': 1, 'class': 48, 'conf': 0.4569402039051056}, {'subj_id': 10, 'obj_id': 4, 'class': 31, 'conf': 0.4437825679779053}, {'subj_id': 8, 'obj_id': 5, 'class': 31, 'conf': 0.4183266758918762}, {'subj_id': 3, 'obj_id': 4, 'class': 30, 'conf': 0.301462322473526}, {'subj_id': 4, 'obj_id': 0, 'class': 48, 'conf': 0.16875192523002625}, {'subj_id': 1, 'obj_id': 6, 'class': 31, 'conf': 0.0739516168832779}, {'subj_id': 0, 'obj_id': 5, 'class': 31, 'conf': 0.04080842435359955}, {'subj_id': 0, 'obj_id': 4, 'class': 31, 'conf': 0.01553128007799387}, {'subj_id': 5, 'obj_id': 6, 'class': 29, 'conf': 0.0010683754226192832}, {'subj_id': 6, 'obj_id': 5, 'class': 29, 'conf': 0.0007773495744913816}, {'subj_id': 6, 'obj_id': 4, 'class': 29, 'conf': 0.0002479670220054686}, {'subj_id': 7, 'obj_id': 5, 'class': 29, 'conf': 0.0001401024783262983}, {'subj_id': 4, 'obj_id': 6, 'class': 29, 'conf': 0.00011131827341159806}, {'subj_id': 5, 'obj_id': 7, 'class': 29, 'conf': 7.012797868810594e-05}]}\n",
        "with open('data.json', 'w') as f:\n",
        "    json.dump(a, f)"
      ],
      "metadata": {
        "id": "JP-x840vHB48",
        "outputId": "ca8fecff-559b-476b-dc4e-d8120f27cbfd",
        "colab": {
          "base_uri": "https://localhost:8080/"
        }
      },
      "execution_count": 38,
      "outputs": [
        {
          "output_type": "stream",
          "name": "stdout",
          "text": [
            "/content/scene_graph_benchmark/tools/demo/graphviz\n"
          ]
        }
      ]
    },
    {
      "cell_type": "code",
      "source": [
        "%cd /content/scene_graph_benchmark/tools/demo/graphviz\n",
        "! python visualize_scene_graph.py --graph data.json"
      ],
      "metadata": {
        "id": "Pw28b-6u7ZRn",
        "outputId": "7df5b0db-6392-4343-d092-9adf956cb632",
        "colab": {
          "base_uri": "https://localhost:8080/"
        }
      },
      "execution_count": 39,
      "outputs": [
        {
          "output_type": "stream",
          "name": "stdout",
          "text": [
            "/content/scene_graph_benchmark/tools/demo/graphviz\n"
          ]
        }
      ]
    },
    {
      "cell_type": "code",
      "source": [
        ""
      ],
      "metadata": {
        "id": "6TL_DG1AKLlK"
      },
      "execution_count": null,
      "outputs": []
    }
  ]
}