{
  "nbformat": 4,
  "nbformat_minor": 0,
  "metadata": {
    "colab": {
      "name": "catr-demo.ipynb",
      "provenance": [],
      "include_colab_link": true
    },
    "kernelspec": {
      "name": "python3",
      "display_name": "Python 3"
    },
    "accelerator": "GPU"
  },
  "cells": [
    {
      "cell_type": "markdown",
      "metadata": {
        "id": "view-in-github",
        "colab_type": "text"
      },
      "source": [
        "<a href=\"https://colab.research.google.com/github/intel-user/ERX/blob/main/catr_demo.ipynb\" target=\"_parent\"><img src=\"https://colab.research.google.com/assets/colab-badge.svg\" alt=\"Open In Colab\"/></a>"
      ]
    },
    {
      "cell_type": "markdown",
      "source": [
        "# vrd-dsr\n",
        "https://github.com/GriffinLiang/vrd-dsr"
      ],
      "metadata": {
        "id": "SoHgAvcUb2LP"
      }
    },
    {
      "cell_type": "code",
      "metadata": {
        "id": "N8xyiUNoWmL3",
        "colab": {
          "base_uri": "https://localhost:8080/"
        },
        "outputId": "8758f84a-2015-4a4b-8a30-997731ac7f39"
      },
      "source": [
        "! git clone https://github.com/GriffinLiang/vrd-dsr.git"
      ],
      "execution_count": null,
      "outputs": [
        {
          "output_type": "stream",
          "name": "stdout",
          "text": [
            "Cloning into 'vrd-dsr'...\n",
            "remote: Enumerating objects: 174, done.\u001b[K\n",
            "remote: Total 174 (delta 0), reused 0 (delta 0), pack-reused 174\u001b[K\n",
            "Receiving objects: 100% (174/174), 2.74 MiB | 26.24 MiB/s, done.\n",
            "Resolving deltas: 100% (70/70), done.\n"
          ]
        }
      ]
    },
    {
      "cell_type": "code",
      "metadata": {
        "id": "JMzOLu6Tjhqz"
      },
      "source": [
        "%cd /content/vrd-dsr\n",
        "! git submodule update --recursive "
      ],
      "execution_count": null,
      "outputs": []
    },
    {
      "cell_type": "code",
      "metadata": {
        "id": "ojT0Ln7GjayV",
        "colab": {
          "base_uri": "https://localhost:8080/"
        },
        "outputId": "d500b10d-e7b8-426e-a35e-7cad4a50b8d7"
      },
      "source": [
        "%cd /content/vrd-dsr/data\n",
        "! unzip vg.zip"
      ],
      "execution_count": null,
      "outputs": [
        {
          "output_type": "stream",
          "name": "stdout",
          "text": [
            "/content/vrd-dsr/data\n",
            "Archive:  vg.zip\n",
            "   creating: vg/\n",
            "  inflating: vg/gt.pkl               \n",
            "  inflating: vg/obj.txt              \n",
            "  inflating: vg/rel.txt              \n",
            "  inflating: vg/so_prior.pkl         \n",
            "  inflating: vg/test.pkl             \n",
            "  inflating: vg/train.pkl            \n",
            "  inflating: vg/zs_gt.pkl            \n"
          ]
        }
      ]
    },
    {
      "cell_type": "code",
      "source": [
        "! pip install torch==1.0.0 torchvision==0.2.1"
      ],
      "metadata": {
        "id": "wRMIOPefUjaj",
        "outputId": "128d2d5e-257b-45a0-fff2-c525741ec656",
        "colab": {
          "base_uri": "https://localhost:8080/"
        }
      },
      "execution_count": null,
      "outputs": [
        {
          "output_type": "stream",
          "name": "stdout",
          "text": [
            "Requirement already satisfied: torch==1.0.0 in /usr/local/lib/python3.7/dist-packages (1.0.0)\n",
            "Collecting torchvision==0.2.1\n",
            "  Downloading torchvision-0.2.1-py2.py3-none-any.whl (54 kB)\n",
            "\u001b[K     |████████████████████████████████| 54 kB 2.6 MB/s \n",
            "\u001b[?25hRequirement already satisfied: pillow>=4.1.1 in /usr/local/lib/python3.7/dist-packages (from torchvision==0.2.1) (7.1.2)\n",
            "Requirement already satisfied: numpy in /usr/local/lib/python3.7/dist-packages (from torchvision==0.2.1) (1.21.5)\n",
            "Requirement already satisfied: six in /usr/local/lib/python3.7/dist-packages (from torchvision==0.2.1) (1.15.0)\n",
            "Installing collected packages: torchvision\n",
            "  Attempting uninstall: torchvision\n",
            "    Found existing installation: torchvision 0.11.1+cu111\n",
            "    Uninstalling torchvision-0.11.1+cu111:\n",
            "      Successfully uninstalled torchvision-0.11.1+cu111\n",
            "Successfully installed torchvision-0.2.1\n"
          ]
        }
      ]
    },
    {
      "cell_type": "code",
      "metadata": {
        "id": "KesOqe40jdak",
        "colab": {
          "base_uri": "https://localhost:8080/"
        },
        "outputId": "ac4df839-e038-4d61-d5b9-3c05acd54c8f"
      },
      "source": [
        "%cd /content/vrd-dsr/lib\n",
        "!chmod o+x make.sh\n",
        "! ./make.sh"
      ],
      "execution_count": null,
      "outputs": [
        {
          "output_type": "stream",
          "name": "stdout",
          "text": [
            "/content/vrd-dsr/lib\n",
            "Compiling roi pooling kernels by nvcc...\n",
            "Traceback (most recent call last):\n",
            "  File \"build.py\", line 3, in <module>\n",
            "    from torch.utils.ffi import create_extension\n",
            "  File \"/usr/local/lib/python3.7/dist-packages/torch/utils/ffi/__init__.py\", line 1, in <module>\n",
            "    raise ImportError(\"torch.utils.ffi is deprecated. Please use cpp extensions instead.\")\n",
            "ImportError: torch.utils.ffi is deprecated. Please use cpp extensions instead.\n"
          ]
        }
      ]
    },
    {
      "cell_type": "code",
      "metadata": {
        "id": "x8YuZRMokBqT"
      },
      "source": [
        ""
      ],
      "execution_count": null,
      "outputs": []
    },
    {
      "cell_type": "markdown",
      "source": [
        "# pix2graph\n",
        "https://github.com/princeton-vl/px2graph"
      ],
      "metadata": {
        "id": "j9xlvFSgbxV_"
      }
    },
    {
      "cell_type": "code",
      "source": [
        "! git clone https://github.com/princeton-vl/px2graph.git"
      ],
      "metadata": {
        "id": "-0MSZJhOb1UO",
        "outputId": "dd8ed7df-bb07-4b2f-ad15-5aac9f1e9254",
        "colab": {
          "base_uri": "https://localhost:8080/"
        }
      },
      "execution_count": 1,
      "outputs": [
        {
          "output_type": "stream",
          "name": "stdout",
          "text": [
            "Cloning into 'px2graph'...\n",
            "remote: Enumerating objects: 57, done.\u001b[K\n",
            "remote: Total 57 (delta 0), reused 0 (delta 0), pack-reused 57\u001b[K\n",
            "Unpacking objects: 100% (57/57), done.\n"
          ]
        }
      ]
    },
    {
      "cell_type": "code",
      "source": [
        "! git clone https://github.com/mbaradad/munkres-tensorflow.git"
      ],
      "metadata": {
        "id": "bAFCFrptc9Jd",
        "outputId": "014ce72b-dd1e-4173-d345-1e7c0e78fdf3",
        "colab": {
          "base_uri": "https://localhost:8080/"
        }
      },
      "execution_count": 2,
      "outputs": [
        {
          "output_type": "stream",
          "name": "stdout",
          "text": [
            "Cloning into 'munkres-tensorflow'...\n",
            "remote: Enumerating objects: 76, done.\u001b[K\n",
            "Unpacking objects:   1% (1/76)   \rUnpacking objects:   2% (2/76)   \rUnpacking objects:   3% (3/76)   \rUnpacking objects:   5% (4/76)   \rUnpacking objects:   6% (5/76)   \rUnpacking objects:   7% (6/76)   \rUnpacking objects:   9% (7/76)   \rUnpacking objects:  10% (8/76)   \rUnpacking objects:  11% (9/76)   \rUnpacking objects:  13% (10/76)   \rUnpacking objects:  14% (11/76)   \rUnpacking objects:  15% (12/76)   \rUnpacking objects:  17% (13/76)   \rUnpacking objects:  18% (14/76)   \rUnpacking objects:  19% (15/76)   \rUnpacking objects:  21% (16/76)   \rUnpacking objects:  22% (17/76)   \rUnpacking objects:  23% (18/76)   \rUnpacking objects:  25% (19/76)   \rUnpacking objects:  26% (20/76)   \rUnpacking objects:  27% (21/76)   \rUnpacking objects:  28% (22/76)   \rUnpacking objects:  30% (23/76)   \rUnpacking objects:  31% (24/76)   \rUnpacking objects:  32% (25/76)   \rUnpacking objects:  34% (26/76)   \rUnpacking objects:  35% (27/76)   \rUnpacking objects:  36% (28/76)   \rUnpacking objects:  38% (29/76)   \rremote: Total 76 (delta 0), reused 0 (delta 0), pack-reused 76\u001b[K\n",
            "Unpacking objects:  39% (30/76)   \rUnpacking objects:  40% (31/76)   \rUnpacking objects:  42% (32/76)   \rUnpacking objects:  43% (33/76)   \rUnpacking objects:  44% (34/76)   \rUnpacking objects:  46% (35/76)   \rUnpacking objects:  47% (36/76)   \rUnpacking objects:  48% (37/76)   \rUnpacking objects:  50% (38/76)   \rUnpacking objects:  51% (39/76)   \rUnpacking objects:  52% (40/76)   \rUnpacking objects:  53% (41/76)   \rUnpacking objects:  55% (42/76)   \rUnpacking objects:  56% (43/76)   \rUnpacking objects:  57% (44/76)   \rUnpacking objects:  59% (45/76)   \rUnpacking objects:  60% (46/76)   \rUnpacking objects:  61% (47/76)   \rUnpacking objects:  63% (48/76)   \rUnpacking objects:  64% (49/76)   \rUnpacking objects:  65% (50/76)   \rUnpacking objects:  67% (51/76)   \rUnpacking objects:  68% (52/76)   \rUnpacking objects:  69% (53/76)   \rUnpacking objects:  71% (54/76)   \rUnpacking objects:  72% (55/76)   \rUnpacking objects:  73% (56/76)   \rUnpacking objects:  75% (57/76)   \rUnpacking objects:  76% (58/76)   \rUnpacking objects:  77% (59/76)   \rUnpacking objects:  78% (60/76)   \rUnpacking objects:  80% (61/76)   \rUnpacking objects:  81% (62/76)   \rUnpacking objects:  82% (63/76)   \rUnpacking objects:  84% (64/76)   \rUnpacking objects:  85% (65/76)   \rUnpacking objects:  86% (66/76)   \rUnpacking objects:  88% (67/76)   \rUnpacking objects:  89% (68/76)   \rUnpacking objects:  90% (69/76)   \rUnpacking objects:  92% (70/76)   \rUnpacking objects:  93% (71/76)   \rUnpacking objects:  94% (72/76)   \rUnpacking objects:  96% (73/76)   \rUnpacking objects:  97% (74/76)   \rUnpacking objects:  98% (75/76)   \rUnpacking objects: 100% (76/76)   \rUnpacking objects: 100% (76/76), done.\n"
          ]
        }
      ]
    },
    {
      "cell_type": "code",
      "source": [
        "%cd /content/px2graph/munkres-tensorflow\n",
        "! TF_INC=$(python -c 'import tensorflow as tf; print(tf.sysconfig.get_include())')\n",
        "! g++ -std=c++11 -shared hungarian.cc -o hungarian.so -fPIC -I TF_INC"
      ],
      "metadata": {
        "id": "tL7NxT1ZdS7F",
        "outputId": "e80ffea3-8cf7-48a5-8e9f-a10cccd73543",
        "colab": {
          "base_uri": "https://localhost:8080/"
        }
      },
      "execution_count": 23,
      "outputs": [
        {
          "output_type": "stream",
          "name": "stdout",
          "text": [
            "/content/munkres-tensorflow\n",
            "\u001b[01m\u001b[Khungarian.cc:2:10:\u001b[m\u001b[K \u001b[01;31m\u001b[Kfatal error: \u001b[m\u001b[Ktensorflow/core/framework/op.h: No such file or directory\n",
            " #include \u001b[01;31m\u001b[K\"tensorflow/core/framework/op.h\"\u001b[m\u001b[K\n",
            "          \u001b[01;31m\u001b[K^~~~~~~~~~~~~~~~~~~~~~~~~~~~~~~~\u001b[m\u001b[K\n",
            "compilation terminated.\n"
          ]
        }
      ]
    },
    {
      "cell_type": "code",
      "source": [
        "! TF_LIB=$(python -c 'import tensorflow as tf; print(tf.sysconfig.get_lib())')"
      ],
      "metadata": {
        "id": "NGAl93ysdsnO"
      },
      "execution_count": 17,
      "outputs": []
    },
    {
      "cell_type": "code",
      "source": [
        "! g++ -std=c++11 -shared hungarian.cc -o hungarian.so -fPIC -I$TF_INC -I$TF_INC/external/nsync/public -L$TF_LIB -ltensorflow_framework -O2 -D_GLIBCXX_USE_CXX11_ABI=0"
      ],
      "metadata": {
        "id": "QeInZbl2duzF",
        "outputId": "92d92083-d03e-40b9-e369-6112d8554068",
        "colab": {
          "base_uri": "https://localhost:8080/"
        }
      },
      "execution_count": 20,
      "outputs": [
        {
          "output_type": "stream",
          "name": "stdout",
          "text": [
            "\u001b[01m\u001b[Khungarian.cc:2:10:\u001b[m\u001b[K \u001b[01;31m\u001b[Kfatal error: \u001b[m\u001b[Ktensorflow/core/framework/op.h: No such file or directory\n",
            " #include \u001b[01;31m\u001b[K\"tensorflow/core/framework/op.h\"\u001b[m\u001b[K\n",
            "          \u001b[01;31m\u001b[K^~~~~~~~~~~~~~~~~~~~~~~~~~~~~~~~\u001b[m\u001b[K\n",
            "compilation terminated.\n"
          ]
        }
      ]
    },
    {
      "cell_type": "code",
      "source": [
        "import tensorflow as tf\n",
        "hungarian_module = tf.load_op_library('./hungarian.so')\n",
        "with tf.Session(''):\n",
        "  print(hungarian_module.hungarian([[[1, 2], [3, 4]]]).eval())"
      ],
      "metadata": {
        "id": "GwLYAfITeTm2",
        "outputId": "806572bf-e111-45cc-dda2-dae521f66be9",
        "colab": {
          "base_uri": "https://localhost:8080/",
          "height": 339
        }
      },
      "execution_count": 28,
      "outputs": [
        {
          "output_type": "error",
          "ename": "NotFoundError",
          "evalue": "ignored",
          "traceback": [
            "\u001b[0;31m---------------------------------------------------------------------------\u001b[0m",
            "\u001b[0;31mNotFoundError\u001b[0m                             Traceback (most recent call last)",
            "\u001b[0;32m<ipython-input-28-a0e3f5e17acd>\u001b[0m in \u001b[0;36m<module>\u001b[0;34m()\u001b[0m\n\u001b[1;32m      1\u001b[0m \u001b[0;32mimport\u001b[0m \u001b[0mtensorflow\u001b[0m \u001b[0;32mas\u001b[0m \u001b[0mtf\u001b[0m\u001b[0;34m\u001b[0m\u001b[0;34m\u001b[0m\u001b[0m\n\u001b[0;32m----> 2\u001b[0;31m \u001b[0mhungarian_module\u001b[0m \u001b[0;34m=\u001b[0m \u001b[0mtf\u001b[0m\u001b[0;34m.\u001b[0m\u001b[0mload_op_library\u001b[0m\u001b[0;34m(\u001b[0m\u001b[0;34m'./hungarian.so'\u001b[0m\u001b[0;34m)\u001b[0m\u001b[0;34m\u001b[0m\u001b[0;34m\u001b[0m\u001b[0m\n\u001b[0m\u001b[1;32m      3\u001b[0m \u001b[0;32mwith\u001b[0m \u001b[0mtf\u001b[0m\u001b[0;34m.\u001b[0m\u001b[0mSession\u001b[0m\u001b[0;34m(\u001b[0m\u001b[0;34m''\u001b[0m\u001b[0;34m)\u001b[0m\u001b[0;34m:\u001b[0m\u001b[0;34m\u001b[0m\u001b[0;34m\u001b[0m\u001b[0m\n\u001b[1;32m      4\u001b[0m   \u001b[0mprint\u001b[0m\u001b[0;34m(\u001b[0m\u001b[0mhungarian_module\u001b[0m\u001b[0;34m.\u001b[0m\u001b[0mhungarian\u001b[0m\u001b[0;34m(\u001b[0m\u001b[0;34m[\u001b[0m\u001b[0;34m[\u001b[0m\u001b[0;34m[\u001b[0m\u001b[0;36m1\u001b[0m\u001b[0;34m,\u001b[0m \u001b[0;36m2\u001b[0m\u001b[0;34m]\u001b[0m\u001b[0;34m,\u001b[0m \u001b[0;34m[\u001b[0m\u001b[0;36m3\u001b[0m\u001b[0;34m,\u001b[0m \u001b[0;36m4\u001b[0m\u001b[0;34m]\u001b[0m\u001b[0;34m]\u001b[0m\u001b[0;34m]\u001b[0m\u001b[0;34m)\u001b[0m\u001b[0;34m.\u001b[0m\u001b[0meval\u001b[0m\u001b[0;34m(\u001b[0m\u001b[0;34m)\u001b[0m\u001b[0;34m)\u001b[0m\u001b[0;34m\u001b[0m\u001b[0;34m\u001b[0m\u001b[0m\n",
            "\u001b[0;32m/usr/local/lib/python3.7/dist-packages/tensorflow/python/framework/load_library.py\u001b[0m in \u001b[0;36mload_op_library\u001b[0;34m(library_filename)\u001b[0m\n\u001b[1;32m     52\u001b[0m     \u001b[0mRuntimeError\u001b[0m\u001b[0;34m:\u001b[0m \u001b[0mwhen\u001b[0m \u001b[0munable\u001b[0m \u001b[0mto\u001b[0m \u001b[0mload\u001b[0m \u001b[0mthe\u001b[0m \u001b[0mlibrary\u001b[0m \u001b[0;32mor\u001b[0m \u001b[0mget\u001b[0m \u001b[0mthe\u001b[0m \u001b[0mpython\u001b[0m \u001b[0mwrappers\u001b[0m\u001b[0;34m.\u001b[0m\u001b[0;34m\u001b[0m\u001b[0;34m\u001b[0m\u001b[0m\n\u001b[1;32m     53\u001b[0m   \"\"\"\n\u001b[0;32m---> 54\u001b[0;31m   \u001b[0mlib_handle\u001b[0m \u001b[0;34m=\u001b[0m \u001b[0mpy_tf\u001b[0m\u001b[0;34m.\u001b[0m\u001b[0mTF_LoadLibrary\u001b[0m\u001b[0;34m(\u001b[0m\u001b[0mlibrary_filename\u001b[0m\u001b[0;34m)\u001b[0m\u001b[0;34m\u001b[0m\u001b[0;34m\u001b[0m\u001b[0m\n\u001b[0m\u001b[1;32m     55\u001b[0m   \u001b[0;32mtry\u001b[0m\u001b[0;34m:\u001b[0m\u001b[0;34m\u001b[0m\u001b[0;34m\u001b[0m\u001b[0m\n\u001b[1;32m     56\u001b[0m     wrappers = _pywrap_python_op_gen.GetPythonWrappers(\n",
            "\u001b[0;31mNotFoundError\u001b[0m: ./hungarian.so: cannot open shared object file: No such file or directory"
          ]
        }
      ]
    },
    {
      "cell_type": "code",
      "source": [
        "%cd /content/px2graph\n",
        "! python main.py -e [experiment name] --sg_task [PR|CL|SG]"
      ],
      "metadata": {
        "id": "_AN1dA5TlGor",
        "outputId": "3a957c41-dc32-4c06-feff-5a7d265de9d6",
        "colab": {
          "base_uri": "https://localhost:8080/"
        }
      },
      "execution_count": 27,
      "outputs": [
        {
          "output_type": "stream",
          "name": "stdout",
          "text": [
            "Name: tensorflow\n",
            "Version: 2.8.0\n",
            "Summary: TensorFlow is an open source machine learning framework for everyone.\n",
            "Home-page: https://www.tensorflow.org/\n",
            "Author: Google Inc.\n",
            "Author-email: packages@tensorflow.org\n",
            "License: Apache 2.0\n",
            "Location: /usr/local/lib/python3.7/dist-packages\n",
            "Requires: gast, google-pasta, flatbuffers, tensorflow-io-gcs-filesystem, six, numpy, opt-einsum, libclang, keras, absl-py, setuptools, tensorboard, keras-preprocessing, protobuf, astunparse, typing-extensions, termcolor, grpcio, h5py, wrapt, tf-estimator-nightly\n",
            "Required-by: kapre\n"
          ]
        }
      ]
    }
  ]
}