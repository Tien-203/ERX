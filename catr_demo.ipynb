{
  "nbformat": 4,
  "nbformat_minor": 0,
  "metadata": {
    "colab": {
      "name": "catr-demo.ipynb",
      "provenance": [],
      "include_colab_link": true
    },
    "kernelspec": {
      "name": "python3",
      "display_name": "Python 3"
    },
    "accelerator": "GPU"
  },
  "cells": [
    {
      "cell_type": "markdown",
      "metadata": {
        "id": "view-in-github",
        "colab_type": "text"
      },
      "source": [
        "<a href=\"https://colab.research.google.com/github/intel-user/ERX/blob/main/catr_demo.ipynb\" target=\"_parent\"><img src=\"https://colab.research.google.com/assets/colab-badge.svg\" alt=\"Open In Colab\"/></a>"
      ]
    },
    {
      "cell_type": "markdown",
      "source": [
        "# vrd-dsr\n",
        "https://github.com/GriffinLiang/vrd-dsr"
      ],
      "metadata": {
        "id": "SoHgAvcUb2LP"
      }
    },
    {
      "cell_type": "code",
      "metadata": {
        "id": "N8xyiUNoWmL3",
        "colab": {
          "base_uri": "https://localhost:8080/"
        },
        "outputId": "8758f84a-2015-4a4b-8a30-997731ac7f39"
      },
      "source": [
        "! git clone https://github.com/GriffinLiang/vrd-dsr.git"
      ],
      "execution_count": null,
      "outputs": [
        {
          "output_type": "stream",
          "name": "stdout",
          "text": [
            "Cloning into 'vrd-dsr'...\n",
            "remote: Enumerating objects: 174, done.\u001b[K\n",
            "remote: Total 174 (delta 0), reused 0 (delta 0), pack-reused 174\u001b[K\n",
            "Receiving objects: 100% (174/174), 2.74 MiB | 26.24 MiB/s, done.\n",
            "Resolving deltas: 100% (70/70), done.\n"
          ]
        }
      ]
    },
    {
      "cell_type": "code",
      "metadata": {
        "id": "JMzOLu6Tjhqz"
      },
      "source": [
        "%cd /content/vrd-dsr\n",
        "! git submodule update --recursive "
      ],
      "execution_count": null,
      "outputs": []
    },
    {
      "cell_type": "code",
      "metadata": {
        "id": "ojT0Ln7GjayV",
        "colab": {
          "base_uri": "https://localhost:8080/"
        },
        "outputId": "d500b10d-e7b8-426e-a35e-7cad4a50b8d7"
      },
      "source": [
        "%cd /content/vrd-dsr/data\n",
        "! unzip vg.zip"
      ],
      "execution_count": null,
      "outputs": [
        {
          "output_type": "stream",
          "name": "stdout",
          "text": [
            "/content/vrd-dsr/data\n",
            "Archive:  vg.zip\n",
            "   creating: vg/\n",
            "  inflating: vg/gt.pkl               \n",
            "  inflating: vg/obj.txt              \n",
            "  inflating: vg/rel.txt              \n",
            "  inflating: vg/so_prior.pkl         \n",
            "  inflating: vg/test.pkl             \n",
            "  inflating: vg/train.pkl            \n",
            "  inflating: vg/zs_gt.pkl            \n"
          ]
        }
      ]
    },
    {
      "cell_type": "code",
      "source": [
        "! pip install torch==1.0.0 torchvision==0.2.1"
      ],
      "metadata": {
        "id": "wRMIOPefUjaj",
        "outputId": "128d2d5e-257b-45a0-fff2-c525741ec656",
        "colab": {
          "base_uri": "https://localhost:8080/"
        }
      },
      "execution_count": null,
      "outputs": [
        {
          "output_type": "stream",
          "name": "stdout",
          "text": [
            "Requirement already satisfied: torch==1.0.0 in /usr/local/lib/python3.7/dist-packages (1.0.0)\n",
            "Collecting torchvision==0.2.1\n",
            "  Downloading torchvision-0.2.1-py2.py3-none-any.whl (54 kB)\n",
            "\u001b[K     |████████████████████████████████| 54 kB 2.6 MB/s \n",
            "\u001b[?25hRequirement already satisfied: pillow>=4.1.1 in /usr/local/lib/python3.7/dist-packages (from torchvision==0.2.1) (7.1.2)\n",
            "Requirement already satisfied: numpy in /usr/local/lib/python3.7/dist-packages (from torchvision==0.2.1) (1.21.5)\n",
            "Requirement already satisfied: six in /usr/local/lib/python3.7/dist-packages (from torchvision==0.2.1) (1.15.0)\n",
            "Installing collected packages: torchvision\n",
            "  Attempting uninstall: torchvision\n",
            "    Found existing installation: torchvision 0.11.1+cu111\n",
            "    Uninstalling torchvision-0.11.1+cu111:\n",
            "      Successfully uninstalled torchvision-0.11.1+cu111\n",
            "Successfully installed torchvision-0.2.1\n"
          ]
        }
      ]
    },
    {
      "cell_type": "code",
      "metadata": {
        "id": "KesOqe40jdak",
        "colab": {
          "base_uri": "https://localhost:8080/"
        },
        "outputId": "ac4df839-e038-4d61-d5b9-3c05acd54c8f"
      },
      "source": [
        "%cd /content/vrd-dsr/lib\n",
        "!chmod o+x make.sh\n",
        "! ./make.sh"
      ],
      "execution_count": null,
      "outputs": [
        {
          "output_type": "stream",
          "name": "stdout",
          "text": [
            "/content/vrd-dsr/lib\n",
            "Compiling roi pooling kernels by nvcc...\n",
            "Traceback (most recent call last):\n",
            "  File \"build.py\", line 3, in <module>\n",
            "    from torch.utils.ffi import create_extension\n",
            "  File \"/usr/local/lib/python3.7/dist-packages/torch/utils/ffi/__init__.py\", line 1, in <module>\n",
            "    raise ImportError(\"torch.utils.ffi is deprecated. Please use cpp extensions instead.\")\n",
            "ImportError: torch.utils.ffi is deprecated. Please use cpp extensions instead.\n"
          ]
        }
      ]
    },
    {
      "cell_type": "code",
      "metadata": {
        "id": "x8YuZRMokBqT"
      },
      "source": [
        ""
      ],
      "execution_count": null,
      "outputs": []
    },
    {
      "cell_type": "markdown",
      "source": [
        "# pix2graph\n",
        "https://github.com/princeton-vl/px2graph"
      ],
      "metadata": {
        "id": "j9xlvFSgbxV_"
      }
    },
    {
      "cell_type": "code",
      "source": [
        "! git clone https://github.com/princeton-vl/px2graph.git"
      ],
      "metadata": {
        "id": "-0MSZJhOb1UO",
        "outputId": "dd8ed7df-bb07-4b2f-ad15-5aac9f1e9254",
        "colab": {
          "base_uri": "https://localhost:8080/"
        }
      },
      "execution_count": null,
      "outputs": [
        {
          "output_type": "stream",
          "name": "stdout",
          "text": [
            "Cloning into 'px2graph'...\n",
            "remote: Enumerating objects: 57, done.\u001b[K\n",
            "remote: Total 57 (delta 0), reused 0 (delta 0), pack-reused 57\u001b[K\n",
            "Unpacking objects: 100% (57/57), done.\n"
          ]
        }
      ]
    },
    {
      "cell_type": "code",
      "source": [
        "! git clone https://github.com/mbaradad/munkres-tensorflow.git"
      ],
      "metadata": {
        "id": "bAFCFrptc9Jd",
        "outputId": "014ce72b-dd1e-4173-d345-1e7c0e78fdf3",
        "colab": {
          "base_uri": "https://localhost:8080/"
        }
      },
      "execution_count": null,
      "outputs": [
        {
          "output_type": "stream",
          "name": "stdout",
          "text": [
            "Cloning into 'munkres-tensorflow'...\n",
            "remote: Enumerating objects: 76, done.\u001b[K\n",
            "Unpacking objects:   1% (1/76)   \rUnpacking objects:   2% (2/76)   \rUnpacking objects:   3% (3/76)   \rUnpacking objects:   5% (4/76)   \rUnpacking objects:   6% (5/76)   \rUnpacking objects:   7% (6/76)   \rUnpacking objects:   9% (7/76)   \rUnpacking objects:  10% (8/76)   \rUnpacking objects:  11% (9/76)   \rUnpacking objects:  13% (10/76)   \rUnpacking objects:  14% (11/76)   \rUnpacking objects:  15% (12/76)   \rUnpacking objects:  17% (13/76)   \rUnpacking objects:  18% (14/76)   \rUnpacking objects:  19% (15/76)   \rUnpacking objects:  21% (16/76)   \rUnpacking objects:  22% (17/76)   \rUnpacking objects:  23% (18/76)   \rUnpacking objects:  25% (19/76)   \rUnpacking objects:  26% (20/76)   \rUnpacking objects:  27% (21/76)   \rUnpacking objects:  28% (22/76)   \rUnpacking objects:  30% (23/76)   \rUnpacking objects:  31% (24/76)   \rUnpacking objects:  32% (25/76)   \rUnpacking objects:  34% (26/76)   \rUnpacking objects:  35% (27/76)   \rUnpacking objects:  36% (28/76)   \rUnpacking objects:  38% (29/76)   \rremote: Total 76 (delta 0), reused 0 (delta 0), pack-reused 76\u001b[K\n",
            "Unpacking objects:  39% (30/76)   \rUnpacking objects:  40% (31/76)   \rUnpacking objects:  42% (32/76)   \rUnpacking objects:  43% (33/76)   \rUnpacking objects:  44% (34/76)   \rUnpacking objects:  46% (35/76)   \rUnpacking objects:  47% (36/76)   \rUnpacking objects:  48% (37/76)   \rUnpacking objects:  50% (38/76)   \rUnpacking objects:  51% (39/76)   \rUnpacking objects:  52% (40/76)   \rUnpacking objects:  53% (41/76)   \rUnpacking objects:  55% (42/76)   \rUnpacking objects:  56% (43/76)   \rUnpacking objects:  57% (44/76)   \rUnpacking objects:  59% (45/76)   \rUnpacking objects:  60% (46/76)   \rUnpacking objects:  61% (47/76)   \rUnpacking objects:  63% (48/76)   \rUnpacking objects:  64% (49/76)   \rUnpacking objects:  65% (50/76)   \rUnpacking objects:  67% (51/76)   \rUnpacking objects:  68% (52/76)   \rUnpacking objects:  69% (53/76)   \rUnpacking objects:  71% (54/76)   \rUnpacking objects:  72% (55/76)   \rUnpacking objects:  73% (56/76)   \rUnpacking objects:  75% (57/76)   \rUnpacking objects:  76% (58/76)   \rUnpacking objects:  77% (59/76)   \rUnpacking objects:  78% (60/76)   \rUnpacking objects:  80% (61/76)   \rUnpacking objects:  81% (62/76)   \rUnpacking objects:  82% (63/76)   \rUnpacking objects:  84% (64/76)   \rUnpacking objects:  85% (65/76)   \rUnpacking objects:  86% (66/76)   \rUnpacking objects:  88% (67/76)   \rUnpacking objects:  89% (68/76)   \rUnpacking objects:  90% (69/76)   \rUnpacking objects:  92% (70/76)   \rUnpacking objects:  93% (71/76)   \rUnpacking objects:  94% (72/76)   \rUnpacking objects:  96% (73/76)   \rUnpacking objects:  97% (74/76)   \rUnpacking objects:  98% (75/76)   \rUnpacking objects: 100% (76/76)   \rUnpacking objects: 100% (76/76), done.\n"
          ]
        }
      ]
    },
    {
      "cell_type": "code",
      "source": [
        "%cd /content/px2graph/munkres-tensorflow\n",
        "! TF_INC=$(python -c 'import tensorflow as tf; print(tf.sysconfig.get_include())')\n",
        "! g++ -std=c++11 -shared hungarian.cc -o hungarian.so -fPIC -I TF_INC"
      ],
      "metadata": {
        "id": "tL7NxT1ZdS7F",
        "outputId": "e80ffea3-8cf7-48a5-8e9f-a10cccd73543",
        "colab": {
          "base_uri": "https://localhost:8080/"
        }
      },
      "execution_count": null,
      "outputs": [
        {
          "output_type": "stream",
          "name": "stdout",
          "text": [
            "/content/munkres-tensorflow\n",
            "\u001b[01m\u001b[Khungarian.cc:2:10:\u001b[m\u001b[K \u001b[01;31m\u001b[Kfatal error: \u001b[m\u001b[Ktensorflow/core/framework/op.h: No such file or directory\n",
            " #include \u001b[01;31m\u001b[K\"tensorflow/core/framework/op.h\"\u001b[m\u001b[K\n",
            "          \u001b[01;31m\u001b[K^~~~~~~~~~~~~~~~~~~~~~~~~~~~~~~~\u001b[m\u001b[K\n",
            "compilation terminated.\n"
          ]
        }
      ]
    },
    {
      "cell_type": "code",
      "source": [
        "! TF_LIB=$(python -c 'import tensorflow as tf; print(tf.sysconfig.get_lib())')"
      ],
      "metadata": {
        "id": "NGAl93ysdsnO"
      },
      "execution_count": null,
      "outputs": []
    },
    {
      "cell_type": "code",
      "source": [
        "! g++ -std=c++11 -shared hungarian.cc -o hungarian.so -fPIC -I$TF_INC -I$TF_INC/external/nsync/public -L$TF_LIB -ltensorflow_framework -O2 -D_GLIBCXX_USE_CXX11_ABI=0"
      ],
      "metadata": {
        "id": "QeInZbl2duzF",
        "outputId": "92d92083-d03e-40b9-e369-6112d8554068",
        "colab": {
          "base_uri": "https://localhost:8080/"
        }
      },
      "execution_count": null,
      "outputs": [
        {
          "output_type": "stream",
          "name": "stdout",
          "text": [
            "\u001b[01m\u001b[Khungarian.cc:2:10:\u001b[m\u001b[K \u001b[01;31m\u001b[Kfatal error: \u001b[m\u001b[Ktensorflow/core/framework/op.h: No such file or directory\n",
            " #include \u001b[01;31m\u001b[K\"tensorflow/core/framework/op.h\"\u001b[m\u001b[K\n",
            "          \u001b[01;31m\u001b[K^~~~~~~~~~~~~~~~~~~~~~~~~~~~~~~~\u001b[m\u001b[K\n",
            "compilation terminated.\n"
          ]
        }
      ]
    },
    {
      "cell_type": "code",
      "source": [
        "import tensorflow as tf\n",
        "hungarian_module = tf.load_op_library('./hungarian.so')\n",
        "with tf.Session(''):\n",
        "  print(hungarian_module.hungarian([[[1, 2], [3, 4]]]).eval())"
      ],
      "metadata": {
        "id": "GwLYAfITeTm2",
        "outputId": "806572bf-e111-45cc-dda2-dae521f66be9",
        "colab": {
          "base_uri": "https://localhost:8080/",
          "height": 339
        }
      },
      "execution_count": null,
      "outputs": [
        {
          "output_type": "error",
          "ename": "NotFoundError",
          "evalue": "ignored",
          "traceback": [
            "\u001b[0;31m---------------------------------------------------------------------------\u001b[0m",
            "\u001b[0;31mNotFoundError\u001b[0m                             Traceback (most recent call last)",
            "\u001b[0;32m<ipython-input-28-a0e3f5e17acd>\u001b[0m in \u001b[0;36m<module>\u001b[0;34m()\u001b[0m\n\u001b[1;32m      1\u001b[0m \u001b[0;32mimport\u001b[0m \u001b[0mtensorflow\u001b[0m \u001b[0;32mas\u001b[0m \u001b[0mtf\u001b[0m\u001b[0;34m\u001b[0m\u001b[0;34m\u001b[0m\u001b[0m\n\u001b[0;32m----> 2\u001b[0;31m \u001b[0mhungarian_module\u001b[0m \u001b[0;34m=\u001b[0m \u001b[0mtf\u001b[0m\u001b[0;34m.\u001b[0m\u001b[0mload_op_library\u001b[0m\u001b[0;34m(\u001b[0m\u001b[0;34m'./hungarian.so'\u001b[0m\u001b[0;34m)\u001b[0m\u001b[0;34m\u001b[0m\u001b[0;34m\u001b[0m\u001b[0m\n\u001b[0m\u001b[1;32m      3\u001b[0m \u001b[0;32mwith\u001b[0m \u001b[0mtf\u001b[0m\u001b[0;34m.\u001b[0m\u001b[0mSession\u001b[0m\u001b[0;34m(\u001b[0m\u001b[0;34m''\u001b[0m\u001b[0;34m)\u001b[0m\u001b[0;34m:\u001b[0m\u001b[0;34m\u001b[0m\u001b[0;34m\u001b[0m\u001b[0m\n\u001b[1;32m      4\u001b[0m   \u001b[0mprint\u001b[0m\u001b[0;34m(\u001b[0m\u001b[0mhungarian_module\u001b[0m\u001b[0;34m.\u001b[0m\u001b[0mhungarian\u001b[0m\u001b[0;34m(\u001b[0m\u001b[0;34m[\u001b[0m\u001b[0;34m[\u001b[0m\u001b[0;34m[\u001b[0m\u001b[0;36m1\u001b[0m\u001b[0;34m,\u001b[0m \u001b[0;36m2\u001b[0m\u001b[0;34m]\u001b[0m\u001b[0;34m,\u001b[0m \u001b[0;34m[\u001b[0m\u001b[0;36m3\u001b[0m\u001b[0;34m,\u001b[0m \u001b[0;36m4\u001b[0m\u001b[0;34m]\u001b[0m\u001b[0;34m]\u001b[0m\u001b[0;34m]\u001b[0m\u001b[0;34m)\u001b[0m\u001b[0;34m.\u001b[0m\u001b[0meval\u001b[0m\u001b[0;34m(\u001b[0m\u001b[0;34m)\u001b[0m\u001b[0;34m)\u001b[0m\u001b[0;34m\u001b[0m\u001b[0;34m\u001b[0m\u001b[0m\n",
            "\u001b[0;32m/usr/local/lib/python3.7/dist-packages/tensorflow/python/framework/load_library.py\u001b[0m in \u001b[0;36mload_op_library\u001b[0;34m(library_filename)\u001b[0m\n\u001b[1;32m     52\u001b[0m     \u001b[0mRuntimeError\u001b[0m\u001b[0;34m:\u001b[0m \u001b[0mwhen\u001b[0m \u001b[0munable\u001b[0m \u001b[0mto\u001b[0m \u001b[0mload\u001b[0m \u001b[0mthe\u001b[0m \u001b[0mlibrary\u001b[0m \u001b[0;32mor\u001b[0m \u001b[0mget\u001b[0m \u001b[0mthe\u001b[0m \u001b[0mpython\u001b[0m \u001b[0mwrappers\u001b[0m\u001b[0;34m.\u001b[0m\u001b[0;34m\u001b[0m\u001b[0;34m\u001b[0m\u001b[0m\n\u001b[1;32m     53\u001b[0m   \"\"\"\n\u001b[0;32m---> 54\u001b[0;31m   \u001b[0mlib_handle\u001b[0m \u001b[0;34m=\u001b[0m \u001b[0mpy_tf\u001b[0m\u001b[0;34m.\u001b[0m\u001b[0mTF_LoadLibrary\u001b[0m\u001b[0;34m(\u001b[0m\u001b[0mlibrary_filename\u001b[0m\u001b[0;34m)\u001b[0m\u001b[0;34m\u001b[0m\u001b[0;34m\u001b[0m\u001b[0m\n\u001b[0m\u001b[1;32m     55\u001b[0m   \u001b[0;32mtry\u001b[0m\u001b[0;34m:\u001b[0m\u001b[0;34m\u001b[0m\u001b[0;34m\u001b[0m\u001b[0m\n\u001b[1;32m     56\u001b[0m     wrappers = _pywrap_python_op_gen.GetPythonWrappers(\n",
            "\u001b[0;31mNotFoundError\u001b[0m: ./hungarian.so: cannot open shared object file: No such file or directory"
          ]
        }
      ]
    },
    {
      "cell_type": "code",
      "source": [
        "%cd /content/px2graph\n",
        "! python main.py -e [experiment name] --sg_task [PR|CL|SG]"
      ],
      "metadata": {
        "id": "_AN1dA5TlGor",
        "outputId": "3a957c41-dc32-4c06-feff-5a7d265de9d6",
        "colab": {
          "base_uri": "https://localhost:8080/"
        }
      },
      "execution_count": null,
      "outputs": [
        {
          "output_type": "stream",
          "name": "stdout",
          "text": [
            "Name: tensorflow\n",
            "Version: 2.8.0\n",
            "Summary: TensorFlow is an open source machine learning framework for everyone.\n",
            "Home-page: https://www.tensorflow.org/\n",
            "Author: Google Inc.\n",
            "Author-email: packages@tensorflow.org\n",
            "License: Apache 2.0\n",
            "Location: /usr/local/lib/python3.7/dist-packages\n",
            "Requires: gast, google-pasta, flatbuffers, tensorflow-io-gcs-filesystem, six, numpy, opt-einsum, libclang, keras, absl-py, setuptools, tensorboard, keras-preprocessing, protobuf, astunparse, typing-extensions, termcolor, grpcio, h5py, wrapt, tf-estimator-nightly\n",
            "Required-by: kapre\n"
          ]
        }
      ]
    },
    {
      "cell_type": "markdown",
      "source": [
        "# Scene graph benchmark"
      ],
      "metadata": {
        "id": "O-2-dfPNLsCP"
      }
    },
    {
      "cell_type": "code",
      "source": [
        "! git clone https://github.com/microsoft/scene_graph_benchmark.git"
      ],
      "metadata": {
        "colab": {
          "base_uri": "https://localhost:8080/"
        },
        "id": "PbIDHh3gLuuX",
        "outputId": "1a3b5fda-4312-4e85-d779-66303d7c92ad"
      },
      "execution_count": 1,
      "outputs": [
        {
          "output_type": "stream",
          "name": "stdout",
          "text": [
            "Cloning into 'scene_graph_benchmark'...\n",
            "remote: Enumerating objects: 795, done.\u001b[K\n",
            "remote: Counting objects: 100% (795/795), done.\u001b[K\n",
            "remote: Compressing objects: 100% (504/504), done.\u001b[K\n",
            "remote: Total 795 (delta 394), reused 671 (delta 279), pack-reused 0\u001b[K\n",
            "Receiving objects: 100% (795/795), 21.20 MiB | 24.59 MiB/s, done.\n",
            "Resolving deltas: 100% (394/394), done.\n"
          ]
        }
      ]
    },
    {
      "cell_type": "code",
      "source": [
        "! pip install ipython h5py nltk joblib jupyter pandas scipy"
      ],
      "metadata": {
        "colab": {
          "base_uri": "https://localhost:8080/"
        },
        "id": "UXYddUQcLwB_",
        "outputId": "b5f081e1-5714-4f27-9645-a6a1fae63203"
      },
      "execution_count": 2,
      "outputs": [
        {
          "output_type": "stream",
          "name": "stdout",
          "text": [
            "Requirement already satisfied: ipython in /usr/local/lib/python3.7/dist-packages (5.5.0)\n",
            "Requirement already satisfied: h5py in /usr/local/lib/python3.7/dist-packages (3.1.0)\n",
            "Requirement already satisfied: nltk in /usr/local/lib/python3.7/dist-packages (3.2.5)\n",
            "Requirement already satisfied: joblib in /usr/local/lib/python3.7/dist-packages (1.1.0)\n",
            "Requirement already satisfied: jupyter in /usr/local/lib/python3.7/dist-packages (1.0.0)\n",
            "Requirement already satisfied: pandas in /usr/local/lib/python3.7/dist-packages (1.3.5)\n",
            "Requirement already satisfied: scipy in /usr/local/lib/python3.7/dist-packages (1.4.1)\n",
            "Requirement already satisfied: prompt-toolkit<2.0.0,>=1.0.4 in /usr/local/lib/python3.7/dist-packages (from ipython) (1.0.18)\n",
            "Requirement already satisfied: traitlets>=4.2 in /usr/local/lib/python3.7/dist-packages (from ipython) (5.1.1)\n",
            "Requirement already satisfied: pexpect in /usr/local/lib/python3.7/dist-packages (from ipython) (4.8.0)\n",
            "Requirement already satisfied: setuptools>=18.5 in /usr/local/lib/python3.7/dist-packages (from ipython) (57.4.0)\n",
            "Requirement already satisfied: decorator in /usr/local/lib/python3.7/dist-packages (from ipython) (4.4.2)\n",
            "Requirement already satisfied: pickleshare in /usr/local/lib/python3.7/dist-packages (from ipython) (0.7.5)\n",
            "Requirement already satisfied: simplegeneric>0.8 in /usr/local/lib/python3.7/dist-packages (from ipython) (0.8.1)\n",
            "Requirement already satisfied: pygments in /usr/local/lib/python3.7/dist-packages (from ipython) (2.6.1)\n",
            "Requirement already satisfied: six>=1.9.0 in /usr/local/lib/python3.7/dist-packages (from prompt-toolkit<2.0.0,>=1.0.4->ipython) (1.15.0)\n",
            "Requirement already satisfied: wcwidth in /usr/local/lib/python3.7/dist-packages (from prompt-toolkit<2.0.0,>=1.0.4->ipython) (0.2.5)\n",
            "Requirement already satisfied: numpy>=1.14.5 in /usr/local/lib/python3.7/dist-packages (from h5py) (1.21.5)\n",
            "Requirement already satisfied: cached-property in /usr/local/lib/python3.7/dist-packages (from h5py) (1.5.2)\n",
            "Requirement already satisfied: nbconvert in /usr/local/lib/python3.7/dist-packages (from jupyter) (5.6.1)\n",
            "Requirement already satisfied: ipykernel in /usr/local/lib/python3.7/dist-packages (from jupyter) (4.10.1)\n",
            "Requirement already satisfied: jupyter-console in /usr/local/lib/python3.7/dist-packages (from jupyter) (5.2.0)\n",
            "Requirement already satisfied: qtconsole in /usr/local/lib/python3.7/dist-packages (from jupyter) (5.2.2)\n",
            "Requirement already satisfied: ipywidgets in /usr/local/lib/python3.7/dist-packages (from jupyter) (7.7.0)\n",
            "Requirement already satisfied: notebook in /usr/local/lib/python3.7/dist-packages (from jupyter) (5.3.1)\n",
            "Requirement already satisfied: pytz>=2017.3 in /usr/local/lib/python3.7/dist-packages (from pandas) (2018.9)\n",
            "Requirement already satisfied: python-dateutil>=2.7.3 in /usr/local/lib/python3.7/dist-packages (from pandas) (2.8.2)\n",
            "Requirement already satisfied: jupyter-client in /usr/local/lib/python3.7/dist-packages (from ipykernel->jupyter) (5.3.5)\n",
            "Requirement already satisfied: tornado>=4.0 in /usr/local/lib/python3.7/dist-packages (from ipykernel->jupyter) (5.1.1)\n",
            "Requirement already satisfied: jupyterlab-widgets>=1.0.0 in /usr/local/lib/python3.7/dist-packages (from ipywidgets->jupyter) (1.1.0)\n",
            "Requirement already satisfied: widgetsnbextension~=3.6.0 in /usr/local/lib/python3.7/dist-packages (from ipywidgets->jupyter) (3.6.0)\n",
            "Requirement already satisfied: nbformat>=4.2.0 in /usr/local/lib/python3.7/dist-packages (from ipywidgets->jupyter) (5.2.0)\n",
            "Requirement already satisfied: ipython-genutils~=0.2.0 in /usr/local/lib/python3.7/dist-packages (from ipywidgets->jupyter) (0.2.0)\n",
            "Requirement already satisfied: jsonschema!=2.5.0,>=2.4 in /usr/local/lib/python3.7/dist-packages (from nbformat>=4.2.0->ipywidgets->jupyter) (4.3.3)\n",
            "Requirement already satisfied: jupyter-core in /usr/local/lib/python3.7/dist-packages (from nbformat>=4.2.0->ipywidgets->jupyter) (4.9.2)\n",
            "Requirement already satisfied: typing-extensions in /usr/local/lib/python3.7/dist-packages (from jsonschema!=2.5.0,>=2.4->nbformat>=4.2.0->ipywidgets->jupyter) (3.10.0.2)\n",
            "Requirement already satisfied: importlib-metadata in /usr/local/lib/python3.7/dist-packages (from jsonschema!=2.5.0,>=2.4->nbformat>=4.2.0->ipywidgets->jupyter) (4.11.3)\n",
            "Requirement already satisfied: importlib-resources>=1.4.0 in /usr/local/lib/python3.7/dist-packages (from jsonschema!=2.5.0,>=2.4->nbformat>=4.2.0->ipywidgets->jupyter) (5.4.0)\n",
            "Requirement already satisfied: pyrsistent!=0.17.0,!=0.17.1,!=0.17.2,>=0.14.0 in /usr/local/lib/python3.7/dist-packages (from jsonschema!=2.5.0,>=2.4->nbformat>=4.2.0->ipywidgets->jupyter) (0.18.1)\n",
            "Requirement already satisfied: attrs>=17.4.0 in /usr/local/lib/python3.7/dist-packages (from jsonschema!=2.5.0,>=2.4->nbformat>=4.2.0->ipywidgets->jupyter) (21.4.0)\n",
            "Requirement already satisfied: zipp>=3.1.0 in /usr/local/lib/python3.7/dist-packages (from importlib-resources>=1.4.0->jsonschema!=2.5.0,>=2.4->nbformat>=4.2.0->ipywidgets->jupyter) (3.7.0)\n",
            "Requirement already satisfied: jinja2 in /usr/local/lib/python3.7/dist-packages (from notebook->jupyter) (2.11.3)\n",
            "Requirement already satisfied: terminado>=0.8.1 in /usr/local/lib/python3.7/dist-packages (from notebook->jupyter) (0.13.3)\n",
            "Requirement already satisfied: Send2Trash in /usr/local/lib/python3.7/dist-packages (from notebook->jupyter) (1.8.0)\n",
            "Requirement already satisfied: pyzmq>=13 in /usr/local/lib/python3.7/dist-packages (from jupyter-client->ipykernel->jupyter) (22.3.0)\n",
            "Requirement already satisfied: ptyprocess in /usr/local/lib/python3.7/dist-packages (from terminado>=0.8.1->notebook->jupyter) (0.7.0)\n",
            "Requirement already satisfied: MarkupSafe>=0.23 in /usr/local/lib/python3.7/dist-packages (from jinja2->notebook->jupyter) (2.0.1)\n",
            "Requirement already satisfied: mistune<2,>=0.8.1 in /usr/local/lib/python3.7/dist-packages (from nbconvert->jupyter) (0.8.4)\n",
            "Requirement already satisfied: testpath in /usr/local/lib/python3.7/dist-packages (from nbconvert->jupyter) (0.6.0)\n",
            "Requirement already satisfied: defusedxml in /usr/local/lib/python3.7/dist-packages (from nbconvert->jupyter) (0.7.1)\n",
            "Requirement already satisfied: entrypoints>=0.2.2 in /usr/local/lib/python3.7/dist-packages (from nbconvert->jupyter) (0.4)\n",
            "Requirement already satisfied: pandocfilters>=1.4.1 in /usr/local/lib/python3.7/dist-packages (from nbconvert->jupyter) (1.5.0)\n",
            "Requirement already satisfied: bleach in /usr/local/lib/python3.7/dist-packages (from nbconvert->jupyter) (4.1.0)\n",
            "Requirement already satisfied: webencodings in /usr/local/lib/python3.7/dist-packages (from bleach->nbconvert->jupyter) (0.5.1)\n",
            "Requirement already satisfied: packaging in /usr/local/lib/python3.7/dist-packages (from bleach->nbconvert->jupyter) (21.3)\n",
            "Requirement already satisfied: pyparsing!=3.0.5,>=2.0.2 in /usr/local/lib/python3.7/dist-packages (from packaging->bleach->nbconvert->jupyter) (3.0.7)\n",
            "Requirement already satisfied: qtpy in /usr/local/lib/python3.7/dist-packages (from qtconsole->jupyter) (2.0.1)\n"
          ]
        }
      ]
    },
    {
      "cell_type": "code",
      "source": [
        "! pip install ninja yacs>=0.1.8 cython matplotlib tqdm opencv-python numpy>=1.19.5"
      ],
      "metadata": {
        "id": "CI-BvSh2L45m"
      },
      "execution_count": 3,
      "outputs": []
    },
    {
      "cell_type": "code",
      "source": [
        "# ! pip install pytorch==1.7.1 torchvision==0.8.2 torchaudio==0.7.2\n",
        "! pip install torch==1.7.1 torchvision==0.8.2 torchaudio==0.7.2 --extra-index-url https://download.pytorch.org/whl/cu111"
      ],
      "metadata": {
        "colab": {
          "base_uri": "https://localhost:8080/"
        },
        "id": "Ae-mkbYyL9mu",
        "outputId": "345162f0-a50b-4561-f46b-afff7b3dc000"
      },
      "execution_count": null,
      "outputs": [
        {
          "output_type": "stream",
          "name": "stdout",
          "text": [
            "Looking in indexes: https://pypi.org/simple, https://download.pytorch.org/whl/cu111\n",
            "Collecting torch==1.7.1\n",
            "  Downloading torch-1.7.1-cp37-cp37m-manylinux1_x86_64.whl (776.8 MB)\n",
            "\u001b[K     |████████████████████████████████| 776.8 MB 17 kB/s \n",
            "\u001b[?25hCollecting torchvision==0.8.2\n",
            "  Downloading torchvision-0.8.2-cp37-cp37m-manylinux1_x86_64.whl (12.8 MB)\n",
            "\u001b[K     |████████████████████████████████| 12.8 MB 3.7 MB/s \n",
            "\u001b[?25hCollecting torchaudio==0.7.2\n",
            "  Downloading torchaudio-0.7.2-cp37-cp37m-manylinux1_x86_64.whl (7.6 MB)\n",
            "\u001b[K     |████████████████████████████████| 7.6 MB 49.6 MB/s \n",
            "\u001b[?25hRequirement already satisfied: numpy in /usr/local/lib/python3.7/dist-packages (from torch==1.7.1) (1.21.5)\n",
            "Requirement already satisfied: typing-extensions in /usr/local/lib/python3.7/dist-packages (from torch==1.7.1) (3.10.0.2)\n",
            "Requirement already satisfied: pillow>=4.1.1 in /usr/local/lib/python3.7/dist-packages (from torchvision==0.8.2) (7.1.2)\n",
            "Installing collected packages: torch, torchvision, torchaudio\n",
            "  Attempting uninstall: torch\n",
            "    Found existing installation: torch 1.10.0+cu111\n",
            "    Uninstalling torch-1.10.0+cu111:\n",
            "      Successfully uninstalled torch-1.10.0+cu111\n"
          ]
        }
      ]
    },
    {
      "cell_type": "code",
      "source": [
        "! pip install einops timm pycocotools cityscapesScripts"
      ],
      "metadata": {
        "id": "oWMwTLA3NHTn"
      },
      "execution_count": null,
      "outputs": []
    },
    {
      "cell_type": "code",
      "source": [
        "%cd /content/scene_graph_benchmark"
      ],
      "metadata": {
        "id": "yKhLZ_RgMCtu"
      },
      "execution_count": null,
      "outputs": []
    },
    {
      "cell_type": "code",
      "source": [
        "! python setup.py build develop"
      ],
      "metadata": {
        "id": "AfBL_cSCM3Pf"
      },
      "execution_count": null,
      "outputs": []
    },
    {
      "cell_type": "code",
      "source": [
        ""
      ],
      "metadata": {
        "colab": {
          "base_uri": "https://localhost:8080/"
        },
        "id": "HCUbPtuYNhZW",
        "outputId": "1c475d62-c1eb-413e-b056-18d74f968406"
      },
      "execution_count": 3,
      "outputs": [
        {
          "output_type": "stream",
          "name": "stdout",
          "text": [
            "--2022-03-28 11:13:37--  https://penzhanwu2.blob.core.windows.net/sgg/sgg_benchmark/sgg_model_zoo/sgg_oi_vrd_model_zoo/RX152FPN_reldn_oi_best.pth\n",
            "Resolving penzhanwu2.blob.core.windows.net (penzhanwu2.blob.core.windows.net)... 52.239.236.68\n",
            "Connecting to penzhanwu2.blob.core.windows.net (penzhanwu2.blob.core.windows.net)|52.239.236.68|:443... connected.\n",
            "HTTP request sent, awaiting response... 200 OK\n",
            "Length: 1927471441 (1.8G) [application/octet-stream]\n",
            "Saving to: ‘RX152FPN_reldn_oi_best.pth’\n",
            "\n",
            "RX152FPN_reldn_oi_b 100%[===================>]   1.79G  34.0MB/s    in 85s     \n",
            "\n",
            "2022-03-28 11:15:02 (21.7 MB/s) - ‘RX152FPN_reldn_oi_best.pth’ saved [1927471441/1927471441]\n",
            "\n"
          ]
        }
      ]
    },
    {
      "cell_type": "code",
      "source": [
        "! python tools/demo/demo_image.py --config_file sgg_configs/vgattr/vinvl_x152c4.yaml --img_file demo/woman_fish.jpg --save_file output/woman_fish_1.jpg MODEL.WEIGHT pretrained_model/vinvl_vg_x152c4.pth MODEL.ROI_HEADS.NMS_FILTER 1 MODEL.ROI_HEADS.SCORE_THRESH 0.2 TEST.IGNORE_BOX_REGRESSION False"
      ],
      "metadata": {
        "colab": {
          "base_uri": "https://localhost:8080/"
        },
        "id": "PqvcHsUUQ876",
        "outputId": "c2ba9711-a95c-4484-f998-17cf7372bc95"
      },
      "execution_count": 9,
      "outputs": [
        {
          "output_type": "stream",
          "name": "stdout",
          "text": [
            "save results to: output/woman_fish_1.jpg\n"
          ]
        }
      ]
    },
    {
      "cell_type": "code",
      "source": [
        "! python tools/demo/demo_image.py --config_file sgg_configs/vgattr/vinvl_x152c4.yaml --img_file demo/woman_fish.jpg --save_file output/woman_fish_2.jpg --visualize_attr MODEL.WEIGHT pretrained_model/vinvl_vg_x152c4.pth MODEL.ROI_HEADS.NMS_FILTER 1 MODEL.ROI_HEADS.SCORE_THRESH 0.2 TEST.IGNORE_BOX_REGRESSION False\n"
      ],
      "metadata": {
        "colab": {
          "base_uri": "https://localhost:8080/"
        },
        "id": "zI_kDjF9UzYW",
        "outputId": "8f87ef5c-2004-456f-b93d-95e626c55b44"
      },
      "execution_count": 11,
      "outputs": [
        {
          "output_type": "stream",
          "name": "stdout",
          "text": [
            "save results to: output/woman_fish_2.jpg\n"
          ]
        }
      ]
    },
    {
      "cell_type": "code",
      "source": [
        "! python tools/demo/demo_image.py --config_file sgg_configs/vrd/R152FPN_vrd_reldn.yaml --img_file demo/woman_fish.jpg --save_file output/woman_fish_3.jpg --visualize_relation MODEL.ROI_RELATION_HEAD.DETECTOR_PRE_CALCULATED False\n"
      ],
      "metadata": {
        "colab": {
          "base_uri": "https://localhost:8080/"
        },
        "id": "LZ71JeriN9Bf",
        "outputId": "5459e78d-a2f8-406e-d81a-883ed41378cb"
      },
      "execution_count": 12,
      "outputs": [
        {
          "output_type": "stream",
          "name": "stdout",
          "text": [
            "Traceback (most recent call last):\n",
            "  File \"tools/demo/demo_image.py\", line 177, in <module>\n",
            "    main()\n",
            "  File \"tools/demo/demo_image.py\", line 82, in main\n",
            "    model = SceneParser(cfg)\n",
            "  File \"/content/scene_graph_benchmark/scene_graph_benchmark/scene_parser.py\", line 65, in __init__\n",
            "    self.relation_head = build_roi_relation_head(cfg, feature_dim)\n",
            "  File \"/content/scene_graph_benchmark/scene_graph_benchmark/relation_head/relation_head.py\", line 306, in build_roi_relation_head\n",
            "    return ROIRelationHead(cfg, in_channels)\n",
            "  File \"/content/scene_graph_benchmark/scene_graph_benchmark/relation_head/relation_head.py\", line 48, in __init__\n",
            "    self.rel_predictor = build_reldn_model(cfg, in_channels)\n",
            "  File \"/content/scene_graph_benchmark/scene_graph_benchmark/relation_head/reldn/reldn.py\", line 149, in build_reldn_model\n",
            "    return RelDN(cfg, in_channels)\n",
            "  File \"/content/scene_graph_benchmark/scene_graph_benchmark/relation_head/reldn/reldn.py\", line 40, in __init__\n",
            "    self.freq_dist = torch.from_numpy(np.load(self.freq_dist_file)).float()\n",
            "  File \"/usr/local/lib/python3.7/dist-packages/numpy/lib/npyio.py\", line 417, in load\n",
            "    fid = stack.enter_context(open(os_fspath(file), \"rb\"))\n",
            "FileNotFoundError: [Errno 2] No such file or directory: './datasets/openimages_v5c/vrd/vrd_frequency_prior_include_background.npy'\n"
          ]
        }
      ]
    },
    {
      "cell_type": "code",
      "source": [
        "!wget https://penzhanwu2.blob.core.windows.net/sgg/sgg_benchmark/vinvl_model_zoo/vinvl_vg_x152c4.pth\n",
        "! mv /content/scene_graph_benchmark/vinvl_vg_x152c4.pth /content/scene_graph_benchmark/pretrained_model"
      ],
      "metadata": {
        "id": "vKe05hBjPdS1"
      },
      "execution_count": 7,
      "outputs": []
    },
    {
      "cell_type": "code",
      "source": [
        "! wget https://penzhanwu2.blob.core.windows.net/sgg/sgg_benchmark/vinvl_model_zoo/vinvl_vg_x152c4.pth\n",
        "! mv /content/scene_graph_benchmark/vinvl_vg_x152c4.pth /content/scene_graph_benchmark/pretrained_model"
      ],
      "metadata": {
        "colab": {
          "base_uri": "https://localhost:8080/"
        },
        "id": "xY9kmqjUPgyz",
        "outputId": "1fd2677a-b493-4860-d654-df3f121ff865"
      },
      "execution_count": 10,
      "outputs": [
        {
          "output_type": "stream",
          "name": "stdout",
          "text": [
            "--2022-03-28 11:38:57--  https://penzhanwu2.blob.core.windows.net/sgg/sgg_benchmark/vinvl_model_zoo/vinvl_vg_x152c4.pth\n",
            "Resolving penzhanwu2.blob.core.windows.net (penzhanwu2.blob.core.windows.net)... 52.239.236.68\n",
            "Connecting to penzhanwu2.blob.core.windows.net (penzhanwu2.blob.core.windows.net)|52.239.236.68|:443... connected.\n",
            "HTTP request sent, awaiting response... 200 OK\n",
            "Length: 593474486 (566M) [application/octet-stream]\n",
            "Saving to: ‘vinvl_vg_x152c4.pth’\n",
            "\n",
            "vinvl_vg_x152c4.pth 100%[===================>] 565.98M  8.11MB/s    in 31s     \n",
            "\n",
            "2022-03-28 11:39:28 (18.3 MB/s) - ‘vinvl_vg_x152c4.pth’ saved [593474486/593474486]\n",
            "\n"
          ]
        }
      ]
    },
    {
      "cell_type": "code",
      "source": [
        "! wget https://penzhanwu2.blob.core.windows.net/sgg/sgg_benchmark/sgg_model_zoo/sgg_oi_vrd_model_zoo/RX152FPN_reldn_oi_best.pth\n",
        "! mv /content/scene_graph_benchmark/RX152FPN_reldn_oi_best.pth /content/scene_graph_benchmark/pretrained_model"
      ],
      "metadata": {
        "id": "rHvl1u7pUvIw"
      },
      "execution_count": null,
      "outputs": []
    },
    {
      "cell_type": "code",
      "source": [
        ""
      ],
      "metadata": {
        "id": "qYt-JlNsUm2O"
      },
      "execution_count": null,
      "outputs": []
    }
  ]
}